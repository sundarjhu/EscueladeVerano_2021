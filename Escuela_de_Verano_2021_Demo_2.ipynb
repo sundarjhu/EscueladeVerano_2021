{
  "nbformat": 4,
  "nbformat_minor": 0,
  "metadata": {
    "colab": {
      "name": "Escuela de Verano 2021 Demo 2.ipynb",
      "provenance": [],
      "authorship_tag": "ABX9TyMo+HTpAjFkN9rKtUVsNi7X",
      "include_colab_link": true
    },
    "kernelspec": {
      "name": "python3",
      "display_name": "Python 3"
    },
    "language_info": {
      "name": "python"
    }
  },
  "cells": [
    {
      "cell_type": "markdown",
      "metadata": {
        "id": "view-in-github",
        "colab_type": "text"
      },
      "source": [
        "<a href=\"https://colab.research.google.com/github/sundarjhu/EscueladeVerano_2021/blob/main/Escuela_de_Verano_2021_Demo_2.ipynb\" target=\"_parent\"><img src=\"https://colab.research.google.com/assets/colab-badge.svg\" alt=\"Open In Colab\"/></a>"
      ]
    },
    {
      "cell_type": "markdown",
      "metadata": {
        "id": "XnuGivmc94gg"
      },
      "source": [
        "# **Accessing data from SIMBAD, demonstrating ADQL basics**\n",
        "---\n",
        "\n",
        "\n",
        "\n",
        "---\n",
        "\n"
      ]
    },
    {
      "cell_type": "code",
      "metadata": {
        "id": "wsnw6qMs0GJP",
        "colab": {
          "base_uri": "https://localhost:8080/"
        },
        "outputId": "b893478c-6eeb-4c42-f952-74d1a20a357b"
      },
      "source": [
        "from astropy.table import Table, join\n",
        "import numpy as np\n",
        "!pip install pyvo\n",
        "import pyvo as vo"
      ],
      "execution_count": 1,
      "outputs": [
        {
          "output_type": "stream",
          "text": [
            "Collecting pyvo\n",
            "  Downloading pyvo-1.1-py3-none-any.whl (802 kB)\n",
            "\u001b[K     |████████████████████████████████| 802 kB 3.6 MB/s \n",
            "\u001b[?25hCollecting mimeparse\n",
            "  Downloading mimeparse-0.1.3.tar.gz (4.4 kB)\n",
            "Requirement already satisfied: requests in /usr/local/lib/python3.7/dist-packages (from pyvo) (2.23.0)\n",
            "Requirement already satisfied: astropy in /usr/local/lib/python3.7/dist-packages (from pyvo) (4.2.1)\n",
            "Requirement already satisfied: numpy>=1.17 in /usr/local/lib/python3.7/dist-packages (from astropy->pyvo) (1.19.5)\n",
            "Requirement already satisfied: pyerfa in /usr/local/lib/python3.7/dist-packages (from astropy->pyvo) (2.0.0)\n",
            "Requirement already satisfied: chardet<4,>=3.0.2 in /usr/local/lib/python3.7/dist-packages (from requests->pyvo) (3.0.4)\n",
            "Requirement already satisfied: certifi>=2017.4.17 in /usr/local/lib/python3.7/dist-packages (from requests->pyvo) (2021.5.30)\n",
            "Requirement already satisfied: idna<3,>=2.5 in /usr/local/lib/python3.7/dist-packages (from requests->pyvo) (2.10)\n",
            "Requirement already satisfied: urllib3!=1.25.0,!=1.25.1,<1.26,>=1.21.1 in /usr/local/lib/python3.7/dist-packages (from requests->pyvo) (1.24.3)\n",
            "Building wheels for collected packages: mimeparse\n",
            "  Building wheel for mimeparse (setup.py) ... \u001b[?25l\u001b[?25hdone\n",
            "  Created wheel for mimeparse: filename=mimeparse-0.1.3-py3-none-any.whl size=3864 sha256=27664e073e89a2c2cf15546d4ae3747a06baf4af8a407ac82c6bafe54b67cbf2\n",
            "  Stored in directory: /root/.cache/pip/wheels/49/b4/2d/0081759ae1833bd694024801f7aacddcda8a687e8d5fbaeebd\n",
            "Successfully built mimeparse\n",
            "Installing collected packages: mimeparse, pyvo\n",
            "Successfully installed mimeparse-0.1.3 pyvo-1.1\n"
          ],
          "name": "stdout"
        }
      ]
    },
    {
      "cell_type": "markdown",
      "metadata": {
        "id": "_uEohPj15t0M"
      },
      "source": [
        "## Create a table of source identifiers, save to VOTable. This will serve as input for our queries."
      ]
    },
    {
      "cell_type": "code",
      "metadata": {
        "id": "heWWfu810Oa9",
        "colab": {
          "base_uri": "https://localhost:8080/"
        },
        "outputId": "dc5517eb-5ba6-4a39-ddaf-8f07443568cb"
      },
      "source": [
        "id = ['lam Vel', 'IRAS 16205-2626', 'eta Car', 'alp Cen', 'IRC +10216'] #unique identifiers for three stars\n",
        "hemisphere = ['Southern', 'Southern', 'Southern', 'Southern', 'Northern'] #which celestial hemisphere?\n",
        "input_tab = Table([id, hemisphere], names = ('ID', 'hemisphere'))\n",
        "input_tab.pprint()\n",
        "input_tab.write('input_tab.vot', format = 'votable', overwrite = True)"
      ],
      "execution_count": 2,
      "outputs": [
        {
          "output_type": "stream",
          "text": [
            "       ID       hemisphere\n",
            "--------------- ----------\n",
            "        lam Vel   Southern\n",
            "IRAS 16205-2626   Southern\n",
            "        eta Car   Southern\n",
            "        alp Cen   Southern\n",
            "     IRC +10216   Northern\n"
          ],
          "name": "stdout"
        }
      ]
    },
    {
      "cell_type": "markdown",
      "metadata": {
        "id": "s60IHUCypt4u"
      },
      "source": [
        "### Automatically obtain the url for the SIMBAD TAP server by doing a regsearch using PyVO"
      ]
    },
    {
      "cell_type": "code",
      "metadata": {
        "id": "_EafFjbTp1F1",
        "colab": {
          "base_uri": "https://localhost:8080/"
        },
        "outputId": "dbb6d6e4-f839-4a73-fa8f-0ff944c5e2d8"
      },
      "source": [
        "r = vo.regsearch(servicetype = 'tap', keywords = ['Simbad'])\n",
        "SIMBAD_service = r[0].service"
      ],
      "execution_count": 3,
      "outputs": [
        {
          "output_type": "stream",
          "text": [
            "WARNING: UnknownElementWarning: None:3:1106: UnknownElementWarning: Unknown element mirrorURL [pyvo.utils.xml.elements]\n",
            "WARNING: UnknownElementWarning: None:125:4415: UnknownElementWarning: Unknown element mirrorURL [pyvo.utils.xml.elements]\n",
            "WARNING: UnknownElementWarning: None:125:4732: UnknownElementWarning: Unknown element mirrorURL [pyvo.utils.xml.elements]\n",
            "WARNING: UnknownElementWarning: None:125:5044: UnknownElementWarning: Unknown element mirrorURL [pyvo.utils.xml.elements]\n",
            "WARNING: UnknownElementWarning: None:125:5344: UnknownElementWarning: Unknown element mirrorURL [pyvo.utils.xml.elements]\n"
          ],
          "name": "stderr"
        }
      ]
    },
    {
      "cell_type": "code",
      "metadata": {
        "id": "wIoGtL8TqKob",
        "colab": {
          "base_uri": "https://localhost:8080/",
          "height": 35
        },
        "outputId": "e6416e57-8efe-4d8a-ed39-953ffd252136"
      },
      "source": [
        "# This is the url to the TAP server\n",
        "SIMBAD_service.baseurl"
      ],
      "execution_count": 4,
      "outputs": [
        {
          "output_type": "execute_result",
          "data": {
            "application/vnd.google.colaboratory.intrinsic+json": {
              "type": "string"
            },
            "text/plain": [
              "'http://simbad.u-strasbg.fr:80/simbad/sim-tap'"
            ]
          },
          "metadata": {
            "tags": []
          },
          "execution_count": 4
        }
      ]
    },
    {
      "cell_type": "code",
      "metadata": {
        "id": "WKY24gZ_oKS7",
        "colab": {
          "base_uri": "https://localhost:8080/"
        },
        "outputId": "a5b5298f-5e8a-4c8f-f02d-cf41e9ebf963"
      },
      "source": [
        "#Select all columns from the first row of basic data\n",
        "query = \"\"\" SELECT top 1 * FROM basic \"\"\" # change \"1\" to any number to view that many rows in the output\n",
        "results = SIMBAD_service.search(query).to_table() #submit the ADQL query to the SIMBAD TAP server, and convert the response into an astropy table\n",
        "results.colnames\n",
        "#You can use this to inspect the column names and their content in the table"
      ],
      "execution_count": 5,
      "outputs": [
        {
          "output_type": "execute_result",
          "data": {
            "text/plain": [
              "['coo_bibcode',\n",
              " 'coo_err_angle',\n",
              " 'coo_err_maj',\n",
              " 'coo_err_maj_prec',\n",
              " 'coo_err_min',\n",
              " 'coo_err_min_prec',\n",
              " 'coo_qual',\n",
              " 'coo_wavelength',\n",
              " 'dec_prec',\n",
              " 'galdim_angle',\n",
              " 'galdim_bibcode',\n",
              " 'galdim_majaxis',\n",
              " 'galdim_majaxis_prec',\n",
              " 'galdim_minaxis',\n",
              " 'galdim_minaxis_prec',\n",
              " 'galdim_qual',\n",
              " 'hpx',\n",
              " 'morph_bibcode',\n",
              " 'morph_qual',\n",
              " 'morph_type',\n",
              " 'nbref',\n",
              " 'oid',\n",
              " 'otype',\n",
              " 'plx_bibcode',\n",
              " 'plx_err',\n",
              " 'plx_err_prec',\n",
              " 'plx_prec',\n",
              " 'plx_qual',\n",
              " 'plx_value',\n",
              " 'pm_bibcode',\n",
              " 'pm_err_angle',\n",
              " 'pm_err_maj',\n",
              " 'pm_err_maj_prec',\n",
              " 'pm_err_min',\n",
              " 'pm_err_min_prec',\n",
              " 'pm_qual',\n",
              " 'pmdec',\n",
              " 'pmdec_prec',\n",
              " 'pmra',\n",
              " 'pmra_prec',\n",
              " 'ra_prec',\n",
              " 'rvz_bibcode',\n",
              " 'rvz_err',\n",
              " 'rvz_err_prec',\n",
              " 'rvz_nature',\n",
              " 'rvz_qual',\n",
              " 'rvz_radvel',\n",
              " 'rvz_radvel_prec',\n",
              " 'rvz_redshift',\n",
              " 'rvz_redshift_prec',\n",
              " 'rvz_type',\n",
              " 'sp_bibcode',\n",
              " 'sp_qual',\n",
              " 'sp_type',\n",
              " 'update_date',\n",
              " 'vlsr',\n",
              " 'main_id',\n",
              " 'otype_txt',\n",
              " 'ra',\n",
              " 'dec']"
            ]
          },
          "metadata": {
            "tags": []
          },
          "execution_count": 5
        }
      ]
    },
    {
      "cell_type": "code",
      "metadata": {
        "id": "LQa2D7ADrygr",
        "colab": {
          "base_uri": "https://localhost:8080/",
          "height": 100
        },
        "outputId": "b5e6c0dc-1124-4b9a-fdb0-502b290a4805"
      },
      "source": [
        "#How many rows are there in this table?\n",
        "query = \"\"\" select count(coo_bibcode) as NUMROWS from basic\"\"\"\n",
        "results = SIMBAD_service.search(query).to_table() #submit the ADQL query to the SIMBAD TAP server, and convert the response into an astropy table\n",
        "results"
      ],
      "execution_count": 6,
      "outputs": [
        {
          "output_type": "execute_result",
          "data": {
            "text/html": [
              "<i>Table length=1</i>\n",
              "<table id=\"table139851304784976\" class=\"table-striped table-bordered table-condensed\">\n",
              "<thead><tr><th>numrows</th></tr></thead>\n",
              "<thead><tr><th>int64</th></tr></thead>\n",
              "<tr><td>11898086</td></tr>\n",
              "</table>"
            ],
            "text/plain": [
              "<Table length=1>\n",
              "numrows \n",
              " int64  \n",
              "--------\n",
              "11898086"
            ]
          },
          "metadata": {
            "tags": []
          },
          "execution_count": 6
        }
      ]
    },
    {
      "cell_type": "code",
      "metadata": {
        "id": "kof50ErU-81f",
        "colab": {
          "base_uri": "https://localhost:8080/",
          "height": 100
        },
        "outputId": "80d3ac98-fc26-42a0-83a4-dd50eb1ae7ce"
      },
      "source": [
        "#HEY, waitaminit! I asked for the column to be in all caps, why isn't it?\n",
        "#Because ADQL is case-insensitive unless you enclose the argument in quotes\n",
        "query = \"\"\" select count(coo_bibcode) as \"NUMROWS\" from basic\"\"\"\n",
        "results = SIMBAD_service.search(query).to_table() #submit the ADQL query to the SIMBAD TAP server, and convert the response into an astropy table\n",
        "results"
      ],
      "execution_count": 7,
      "outputs": [
        {
          "output_type": "execute_result",
          "data": {
            "text/html": [
              "<i>Table length=1</i>\n",
              "<table id=\"table139851296134032\" class=\"table-striped table-bordered table-condensed\">\n",
              "<thead><tr><th>NUMROWS</th></tr></thead>\n",
              "<thead><tr><th>int64</th></tr></thead>\n",
              "<tr><td>11898086</td></tr>\n",
              "</table>"
            ],
            "text/plain": [
              "<Table length=1>\n",
              "NUMROWS \n",
              " int64  \n",
              "--------\n",
              "11898086"
            ]
          },
          "metadata": {
            "tags": []
          },
          "execution_count": 7
        }
      ]
    },
    {
      "cell_type": "code",
      "metadata": {
        "id": "2fBickUisU54",
        "colab": {
          "base_uri": "https://localhost:8080/",
          "height": 510
        },
        "outputId": "d1bde69a-74b9-4ed4-8606-37177ef55305"
      },
      "source": [
        "#SUBSETS with WHERE: How many rows are there in this table with DEC < 0?\n",
        "query = \"\"\" select count(coo_bibcode) as NUMROWS from basic WHERE dec < 0\"\"\"\n",
        "results = SIMBAD_service.search(query).to_table() #submit the ADQL query to the SIMBAD TAP server, and convert the response into an astropy table\n",
        "results\n",
        "\n",
        "query = \"\"\" select top 100 coo_bibcode as NUMROWS from basic WHERE dec < 0\"\"\"\n",
        "results = SIMBAD_service.search(query).to_table() #submit the ADQL query to the SIMBAD TAP server, and convert the response into an astropy table\n",
        "results\n"
      ],
      "execution_count": 8,
      "outputs": [
        {
          "output_type": "execute_result",
          "data": {
            "text/html": [
              "<i>Table length=100</i>\n",
              "<table id=\"table139851296119120\" class=\"table-striped table-bordered table-condensed\">\n",
              "<thead><tr><th>numrows</th></tr></thead>\n",
              "<thead><tr><th>object</th></tr></thead>\n",
              "<tr><td>2013yCat.2319....0L</td></tr>\n",
              "<tr><td>2018yCat.1345....0G</td></tr>\n",
              "<tr><td>2018ATel11731....1P</td></tr>\n",
              "<tr><td>2013MNRAS.428.1281J</td></tr>\n",
              "<tr><td>2018yCat.1345....0G</td></tr>\n",
              "<tr><td>2018yCat.1345....0G</td></tr>\n",
              "<tr><td>2013MNRAS.428.1281J</td></tr>\n",
              "<tr><td></td></tr>\n",
              "<tr><td>2018yCat.1345....0G</td></tr>\n",
              "<tr><td>2018yCat.1345....0G</td></tr>\n",
              "<tr><td>...</td></tr>\n",
              "<tr><td>2012yCat.1322....0Z</td></tr>\n",
              "<tr><td>2013MNRAS.428.1281J</td></tr>\n",
              "<tr><td>2013MNRAS.428.1281J</td></tr>\n",
              "<tr><td>2003yCat.2246....0C</td></tr>\n",
              "<tr><td>2013yCat.2319....0L</td></tr>\n",
              "<tr><td>2018yCat.1345....0G</td></tr>\n",
              "<tr><td>2018yCat.1345....0G</td></tr>\n",
              "<tr><td>2018yCat.1345....0G</td></tr>\n",
              "<tr><td>2018yCat.1345....0G</td></tr>\n",
              "<tr><td>2018yCat.1345....0G</td></tr>\n",
              "</table>"
            ],
            "text/plain": [
              "<Table length=100>\n",
              "      numrows      \n",
              "       object      \n",
              "-------------------\n",
              "2013yCat.2319....0L\n",
              "2018yCat.1345....0G\n",
              "2018ATel11731....1P\n",
              "2013MNRAS.428.1281J\n",
              "2018yCat.1345....0G\n",
              "2018yCat.1345....0G\n",
              "2013MNRAS.428.1281J\n",
              "                   \n",
              "2018yCat.1345....0G\n",
              "2018yCat.1345....0G\n",
              "                ...\n",
              "2012yCat.1322....0Z\n",
              "2013MNRAS.428.1281J\n",
              "2013MNRAS.428.1281J\n",
              "2003yCat.2246....0C\n",
              "2013yCat.2319....0L\n",
              "2018yCat.1345....0G\n",
              "2018yCat.1345....0G\n",
              "2018yCat.1345....0G\n",
              "2018yCat.1345....0G\n",
              "2018yCat.1345....0G"
            ]
          },
          "metadata": {
            "tags": []
          },
          "execution_count": 8
        }
      ]
    },
    {
      "cell_type": "markdown",
      "metadata": {
        "id": "dLNYiLcM7QHA"
      },
      "source": [
        "# There are three important tables in SIMBAD: `basic`, `ident`, and `ids`. \n",
        "\n",
        "# `basic` contains the basic information for each source (positions, velocities, photometry, redshift, etc.). If a source is known by many names, there is an entry for EACH such name recognized by SIMBAD.\n",
        "\n",
        "# Each source in these tables is identified by a unique identifier, a long integer called *oid* (in `basic`) and *oidref* (in `ident`, `ids`). You can connect a source to its various names using these two columns.\n",
        "\n",
        "# You can obtain a list of references for the sources in the same way using the tables `ref` and `has_ref`."
      ]
    },
    {
      "cell_type": "code",
      "metadata": {
        "id": "BIHt29s87HXH",
        "colab": {
          "base_uri": "https://localhost:8080/",
          "height": 122
        },
        "outputId": "67f8c63a-2be5-48db-81a3-c2c3db2abecf"
      },
      "source": [
        "# Get some information from the basic table for the object with name 'CW Leo', which is NOT its standard SIMBAD name.\n",
        "#\n",
        "query = \"\"\"\n",
        "-- Basic data from an object given one of its identifiers.\n",
        "SELECT basic.OID,\n",
        "       RA,\n",
        "       DEC,\n",
        "       main_id AS \"Main identifier\",\n",
        "       coo_bibcode AS \"Coord Reference\",\n",
        "       nbref AS \"NbReferences\",\n",
        "       plx_value as \"Parallax\",\n",
        "       rvz_radvel as \"Radial velocity\",\n",
        "       galdim_majaxis,\n",
        "       galdim_minaxis,\n",
        "       galdim_angle AS \"Galaxy ellipse angle\"\n",
        "FROM basic JOIN ident ON oidref = oid\n",
        "WHERE id = 'CW Leo'\n",
        "\"\"\"\n",
        "results = SIMBAD_service.search(query).to_table()\n",
        "results"
      ],
      "execution_count": 9,
      "outputs": [
        {
          "output_type": "execute_result",
          "data": {
            "text/html": [
              "<i>Table length=1</i>\n",
              "<table id=\"table139851295883088\" class=\"table-striped table-bordered table-condensed\">\n",
              "<thead><tr><th>oid</th><th>ra</th><th>dec</th><th>Main identifier</th><th>Coord Reference</th><th>NbReferences</th><th>Parallax</th><th>Radial velocity</th><th>galdim_majaxis</th><th>galdim_minaxis</th><th>Galaxy ellipse angle</th></tr></thead>\n",
              "<thead><tr><th></th><th>deg</th><th>deg</th><th></th><th></th><th></th><th>mas</th><th>km / s</th><th>arcmin</th><th>arcmin</th><th>deg</th></tr></thead>\n",
              "<thead><tr><th>int64</th><th>float64</th><th>float64</th><th>object</th><th>object</th><th>int32</th><th>float64</th><th>float64</th><th>float32</th><th>float32</th><th>int16</th></tr></thead>\n",
              "<tr><td>1657507</td><td>146.989193</td><td>13.278768</td><td>IRC +10216</td><td>2003yCat.2246....0C</td><td>2200</td><td>10.79</td><td>--</td><td>--</td><td>--</td><td>--</td></tr>\n",
              "</table>"
            ],
            "text/plain": [
              "<Table length=1>\n",
              "  oid       ra        dec    ... galdim_minaxis Galaxy ellipse angle\n",
              "           deg        deg    ...     arcmin             deg         \n",
              " int64   float64    float64  ...    float32            int16        \n",
              "------- ---------- --------- ... -------------- --------------------\n",
              "1657507 146.989193 13.278768 ...             --                   --"
            ]
          },
          "metadata": {
            "tags": []
          },
          "execution_count": 9
        }
      ]
    },
    {
      "cell_type": "markdown",
      "metadata": {
        "id": "vUwY4-FY_zwA"
      },
      "source": [
        "### Get all the identifiers for one source"
      ]
    },
    {
      "cell_type": "code",
      "metadata": {
        "id": "WHQzGUQzpXDt",
        "colab": {
          "base_uri": "https://localhost:8080/",
          "height": 118
        },
        "outputId": "e7d16c9a-347a-4767-ea57-7a3e8c5fe171"
      },
      "source": [
        "query = \"\"\"select t0.main_id, t1.id, t2.ids from basic as t0, ident as t1, ids as t2 where t0.oid = t1.oidref and t1.id = 'CW Leo' and t1.oidref = t2.oidref\"\"\"\n",
        "results = SIMBAD_service.search(query).to_table()\n",
        "results"
      ],
      "execution_count": 10,
      "outputs": [
        {
          "output_type": "execute_result",
          "data": {
            "text/html": [
              "<i>Table length=1</i>\n",
              "<table id=\"table139851296113168\" class=\"table-striped table-bordered table-condensed\">\n",
              "<thead><tr><th>main_id</th><th>id</th><th>ids</th></tr></thead>\n",
              "<thead><tr><th>object</th><th>object</th><th>object</th></tr></thead>\n",
              "<tr><td>IRC +10216</td><td>V* CW Leo</td><td>ATO J146.9891+13.2788|LEDA 1427054|TIC 258671744|CGCS 2619|IRAS 09452+1330|IRC +10216|PK 221+45  1|RAFGL 1381|SCM  50|V* CW Leo|Zel 0945+135|[KKH2001]  55|[LFO93] 0945+13|2MASS J09475740+1316435|JCMTSE J094757.1+131644|JCMTSF J094757.1+131644|SDSS J094757.42+131643.6|LINEAR 17154286|NAME Peanut Nebula|CRTS J094757.4+131643|PN G221.4+45.0</td></tr>\n",
              "</table>"
            ],
            "text/plain": [
              "<Table length=1>\n",
              " main_id   ...\n",
              "  object   ...\n",
              "---------- ...\n",
              "IRC +10216 ..."
            ]
          },
          "metadata": {
            "tags": []
          },
          "execution_count": 10
        }
      ]
    },
    {
      "cell_type": "markdown",
      "metadata": {
        "id": "yUs5_Ca8Anst"
      },
      "source": [
        "# How to upload a table!\n",
        "### Get all the identifiers for a list of sources "
      ]
    },
    {
      "cell_type": "code",
      "metadata": {
        "id": "JK-E2e9DA-MW",
        "colab": {
          "base_uri": "https://localhost:8080/",
          "height": 186
        },
        "outputId": "777166a1-f2b4-4f7a-ed17-26a33dc64500"
      },
      "source": [
        "input_tab"
      ],
      "execution_count": 11,
      "outputs": [
        {
          "output_type": "execute_result",
          "data": {
            "text/html": [
              "<i>Table length=5</i>\n",
              "<table id=\"table139851304741200\" class=\"table-striped table-bordered table-condensed\">\n",
              "<thead><tr><th>ID</th><th>hemisphere</th></tr></thead>\n",
              "<thead><tr><th>str15</th><th>str8</th></tr></thead>\n",
              "<tr><td>lam Vel</td><td>Southern</td></tr>\n",
              "<tr><td>IRAS 16205-2626</td><td>Southern</td></tr>\n",
              "<tr><td>eta Car</td><td>Southern</td></tr>\n",
              "<tr><td>alp Cen</td><td>Southern</td></tr>\n",
              "<tr><td>IRC +10216</td><td>Northern</td></tr>\n",
              "</table>"
            ],
            "text/plain": [
              "<Table length=5>\n",
              "       ID       hemisphere\n",
              "     str15         str8   \n",
              "--------------- ----------\n",
              "        lam Vel   Southern\n",
              "IRAS 16205-2626   Southern\n",
              "        eta Car   Southern\n",
              "        alp Cen   Southern\n",
              "     IRC +10216   Northern"
            ]
          },
          "metadata": {
            "tags": []
          },
          "execution_count": 11
        }
      ]
    },
    {
      "cell_type": "code",
      "metadata": {
        "id": "z2QAlmx-At9R",
        "colab": {
          "base_uri": "https://localhost:8080/",
          "height": 342
        },
        "outputId": "a9eb6f10-2ac3-4c71-de0f-c5ee48243ea9"
      },
      "source": [
        "query = \"\"\"select mytable.id, t2.ids from mytable, ident as t1, ids as t2 where t1.id = mytable.ID and t1.oidref = t2.oidref\"\"\"\n",
        "results = SIMBAD_service.search(query, uploads = {'mytable': 'input_tab.vot'}).to_table()\n",
        "results"
      ],
      "execution_count": 12,
      "outputs": [
        {
          "output_type": "execute_result",
          "data": {
            "text/html": [
              "<i>Table length=5</i>\n",
              "<table id=\"table139851296127696\" class=\"table-striped table-bordered table-condensed\">\n",
              "<thead><tr><th>ID</th><th>ids</th></tr></thead>\n",
              "<thead><tr><th>object</th><th>object</th></tr></thead>\n",
              "<tr><td>lam Vel</td><td>TIC 31975064|PLX 2187|* lam Vel|CCDM J09080-4326A|CD-42  4990|CPC  0  7024|CPD-42  3366|CSI-42  4990 21|CSV   6689|FK5  345|GC 12623|GCRV  5989|GEN# +1.00078647|GSC 07689-02617|HD  78647|HIC  44816|HIP  44816|HR  3634|IDS 09043-4302 A|JP11  1770|N30 2164|PPM 313999|SACS 200|SAO 220878|SKY# 17613|TD1 13594|TYC 7689-2617-1|UBV    8792|V* lam Vel|[CS62] E4  76|uvby98 100078647|2MASS J09075977-4325571|PLX 2187.00|WDS J09080-4326A|NAME Suhail|WEB  8567</td></tr>\n",
              "<tr><td>IRAS 16205-2626</td><td>IRAS 16205-2626</td></tr>\n",
              "<tr><td>eta Car</td><td>Gaia DR2 5350358580171706624|LLNS  2725|TIC 458859916|[ARV2008] 173|[KRL2007b] 93|* eta Car|* eta Car A|1A 1044-59|1H 1045-597|2E  2318|3A 1042-595|4U 1053-58|4U 1037-60|AAVSO 1041-59|ALS  1868|CD-59  3306|CEL   3689|CPC 20  3145|CPD-59  2620|CSI-59  2620 41|EM* MWC  214|GC 14799|GCRV  6693|GPS 1043-595|H 1044-59|HD  93308|HR  4210|Hen 3-481|IRAS 10431-5925|JP11  1994|LS 1868|MOST 1042-594|NOVA Car 1843|PPM 339408|RAFGL 4114|SAO 238429|SKY# 20584|V* eta Car|[AMM2003] 50|[S87b] IRS 23|2MASS J10450360-5941040|Cl Trumpler   16   183|JCMTSE J104503.7-594102|1E 104306-5925.2|1ES 1043-59.4|2E 1043.1-5925|CXOCyg J104503.58-594103.7|JCMTSF J104503.7-594102|XMMU J104503.8-594105|1FGL J1045.2-5942|0FGL J1045.6-5937|1AGL J1043-5936|PBC J1044.8-5942|2FGL J1045.0-5941|TYC 8626-2809-1|CSI-59-10431|GCRV  6692|* eta Car B|HD  93308B|2XMM J104503.4-594103|1AGLR J1044-5944|1AGL J1044-5937|1FHL J1045.0-5943|3FGL J1045.1-5941|SWIFT J1044.8-5941|WDS J10451-5941|WRAY 15-640|2FHL J1045.2-5942|UCAC4 152-053215|WEB  9578|3FHL J1045.1-5941|4FGL J1045.1-5940</td></tr>\n",
              "<tr><td>alp Cen</td><td>* alf Cen|2E  3308|2RE J143941-605000|2RE J1439-605|CCDM J14396-6050AB|CPD-60  5483|CSI-60  5483 43|Ci 20  875|FK5  538|GC 19728|GCRV  8519|HD 128620J|IDS 14328-6025 AB|LPM 534|RE J1439-605|RE J143944-605008|SBC7   520|1E 143556-6037.3|1ES 1435-60.6|2E 1435.9-6037|2EUVE J1439-60.8|EUVE J1439-60.8|[TSA98] J143948.42-605021.66|WDS J14396-6050AB|RX J1439.5-6050|IRAS 14359-6037|SAO 252838|1RXS J143940.4-605020|PM 14362-6038|WDS J14403-6051AB|** RHD    1|1E 143555-6037.6|CD-60  5293|** LDS  494AB|uvby98 100128620|GES J14392972-6049560</td></tr>\n",
              "<tr><td>IRC +10216</td><td>ATO J146.9891+13.2788|LEDA 1427054|TIC 258671744|CGCS 2619|IRAS 09452+1330|IRC +10216|PK 221+45  1|RAFGL 1381|SCM  50|V* CW Leo|Zel 0945+135|[KKH2001]  55|[LFO93] 0945+13|2MASS J09475740+1316435|JCMTSE J094757.1+131644|JCMTSF J094757.1+131644|SDSS J094757.42+131643.6|LINEAR 17154286|NAME Peanut Nebula|CRTS J094757.4+131643|PN G221.4+45.0</td></tr>\n",
              "</table>"
            ],
            "text/plain": [
              "<Table length=5>\n",
              "       ID       ...\n",
              "     object     ...\n",
              "--------------- ...\n",
              "        lam Vel ...\n",
              "IRAS 16205-2626 ...\n",
              "        eta Car ...\n",
              "        alp Cen ...\n",
              "     IRC +10216 ..."
            ]
          },
          "metadata": {
            "tags": []
          },
          "execution_count": 12
        }
      ]
    },
    {
      "cell_type": "markdown",
      "metadata": {
        "id": "DrYyW2gAyv-R"
      },
      "source": [
        "# Simple cone search\n",
        ">## In this example, we select the location RA = 10 deg, DEC = 5 deg, and search for SIMBAD matches within a 1 deg radius of it.\n",
        ">## We arrange the results in ascending order of angular distance using the DISTANCE function."
      ]
    },
    {
      "cell_type": "code",
      "metadata": {
        "id": "gAoka_-w8uP6",
        "colab": {
          "base_uri": "https://localhost:8080/",
          "height": 165
        },
        "outputId": "91b7f247-1ef4-4c1a-eeae-ca7827e7a269"
      },
      "source": [
        "query = \"\"\"\n",
        "-- Display basic data about objects contained in a given circle and whose mag B < 9.0.\n",
        "SELECT basic.OID,\n",
        "       RA,\n",
        "       DEC,\n",
        "       DISTANCE(POINT('ICRS', RA, DEC), POINT('ICRS', 10, 5)) * 60 as dist_arcmin,\n",
        "       main_id AS \"Main identifier\",\n",
        "       coo_bibcode AS \"BiblioReference\",\n",
        "       nbref AS \"NbReferences\",\n",
        "       plx_value as \"Parallax\",\n",
        "       rvz_radvel as \"Radial velocity\",\n",
        "       galdim_majaxis,\n",
        "       galdim_minaxis,\n",
        "       galdim_angle AS \"Galaxy ellipse angle\"\n",
        "FROM basic JOIN flux ON oidref = oid\n",
        "WHERE filter = 'B'\n",
        "      AND flux < 9.0\n",
        "      AND CONTAINS(POINT('ICRS', RA, DEC), CIRCLE('ICRS', 10, 5, 1)) = 1\n",
        "ORDER BY dist_arcmin\n",
        "\"\"\"\n",
        "results = SIMBAD_service.search(query).to_table()\n",
        "results"
      ],
      "execution_count": 82,
      "outputs": [
        {
          "output_type": "execute_result",
          "data": {
            "text/html": [
              "<i>Table length=3</i>\n",
              "<table id=\"table139851225504528\" class=\"table-striped table-bordered table-condensed\">\n",
              "<thead><tr><th>oid</th><th>ra</th><th>dec</th><th>dist_arcmin</th><th>Main identifier</th><th>BiblioReference</th><th>NbReferences</th><th>Parallax</th><th>Radial velocity</th><th>galdim_majaxis</th><th>galdim_minaxis</th><th>Galaxy ellipse angle</th></tr></thead>\n",
              "<thead><tr><th></th><th>deg</th><th>deg</th><th></th><th></th><th></th><th></th><th>mas</th><th>km / s</th><th>arcmin</th><th>arcmin</th><th>deg</th></tr></thead>\n",
              "<thead><tr><th>int64</th><th>float64</th><th>float64</th><th>float64</th><th>object</th><th>object</th><th>int32</th><th>float64</th><th>float64</th><th>float32</th><th>float32</th><th>int16</th></tr></thead>\n",
              "<tr><td>1404715</td><td>10.2080007087009</td><td>4.4783143611205</td><td>33.681574649245</td><td>HD   3819</td><td>2018yCat.1345....0G</td><td>12</td><td>4.2588</td><td>-3.05</td><td>--</td><td>--</td><td>--</td></tr>\n",
              "<tr><td>1404698</td><td>9.2379259243896</td><td>5.4125099414372</td><td>51.8275257870488</td><td>HD   3398</td><td>2018yCat.1345....0G</td><td>21</td><td>9.1357</td><td>1.61</td><td>--</td><td>--</td><td>--</td></tr>\n",
              "<tr><td>1414548</td><td>10.6367082889976</td><td>5.6753557257451</td><td>55.57664316161532</td><td>HD   3992</td><td>2018yCat.1345....0G</td><td>9</td><td>2.9468</td><td>--</td><td>--</td><td>--</td><td>--</td></tr>\n",
              "</table>"
            ],
            "text/plain": [
              "<Table length=3>\n",
              "  oid          ra              dec       ... galdim_minaxis Galaxy ellipse angle\n",
              "              deg              deg       ...     arcmin             deg         \n",
              " int64      float64          float64     ...    float32            int16        \n",
              "------- ---------------- --------------- ... -------------- --------------------\n",
              "1404715 10.2080007087009 4.4783143611205 ...             --                   --\n",
              "1404698  9.2379259243896 5.4125099414372 ...             --                   --\n",
              "1414548 10.6367082889976 5.6753557257451 ...             --                   --"
            ]
          },
          "metadata": {
            "tags": []
          },
          "execution_count": 82
        }
      ]
    },
    {
      "cell_type": "markdown",
      "metadata": {
        "id": "urXcgWbDzE-D"
      },
      "source": [
        "# Cone search for list of sources in an input table\n",
        ">## In this example, we select the locations (RA, DEC) specified for a list of sources in an input table and search for SIMBAD matches within a 1 arcmin radius of each position.\n",
        ">## For each source in the input table, the matches are arranged in ascending order of angular separation using the DISTANCE function. The ORDER BY clause is used to first arrange the results in order of the unique identifier, then (for each unique identifer) by increasing match distance."
      ]
    },
    {
      "cell_type": "code",
      "metadata": {
        "id": "creYpN0QQiLG",
        "outputId": "4f101ad6-94e9-4318-f4eb-7762b37564e5",
        "colab": {
          "base_uri": "https://localhost:8080/",
          "height": 186
        }
      },
      "source": [
        "id = [1000001, 1000012, 1005016, 1052200] #some unique long-integer identifier\n",
        "RA = [74.2, 159.4, 55.5, 355.959]\n",
        "DEC = [44.6, -13.39, 62.7, 3.209]\n",
        "input_table = Table([id, RA, DEC], names = ('ID', 'RA', 'DEC'))\n",
        "input_table.write('input_tab.vot', format = 'votable', overwrite = True)\n",
        "\n",
        "#Notice how the match radius is no longer hard-coded. We can change the radius outside\n",
        "#   of the query string as follows. The query string changes in an automated fashion.\n",
        "#   This is useful if we need to change the match radius outside the code block\n",
        "#   that contains the query. It can then be fed as an argument to the query block.\n",
        "match_radius = '2.0 / 60' #the match radius is set to 2 arc minutes.\n",
        "\n",
        "query = \"\"\"\n",
        "SELECT a.ID, a.RA, a.DEC, main_id as \"Main identifier\", \n",
        "  b.RA AS matched_RA, b.DEC AS matched_DEC, coo_bibcode AS \"Coord_BibRef\",\n",
        "  DISTANCE(POINT('ICRS', b.RA, b.DEC), POINT('ICRS', a.RA, a.DEC)) * 60 AS dist_arcmin,\n",
        "  nbref AS \"NbReferences\", plx_value AS \"Parallax\",\n",
        "  rvz_radvel AS \"Radial velocity\"\n",
        "FROM mytable a LEFT JOIN basic b\n",
        "ON CONTAINS(POINT('ICRS', b.RA, b.DEC), CIRCLE('ICRS', a.RA, a.DEC, \"\"\" + match_radius + \"\"\")) = 1\n",
        "ORDER BY ID, dist_arcmin\n",
        "\"\"\"\n",
        "\n",
        "results = SIMBAD_service.search(query, uploads = {'mytable': 'input_tab.vot'}).to_table()\n",
        "results"
      ],
      "execution_count": 83,
      "outputs": [
        {
          "output_type": "execute_result",
          "data": {
            "text/html": [
              "<i>Table length=4</i>\n",
              "<table id=\"table139851230263696\" class=\"table-striped table-bordered table-condensed\">\n",
              "<thead><tr><th>ID</th><th>RA</th><th>DEC</th><th>Main identifier</th><th>matched_ra</th><th>matched_dec</th><th>Coord_BibRef</th><th>dist_arcmin</th><th>NbReferences</th><th>Parallax</th><th>Radial velocity</th></tr></thead>\n",
              "<thead><tr><th></th><th></th><th></th><th></th><th>deg</th><th>deg</th><th></th><th></th><th></th><th>mas</th><th>km / s</th></tr></thead>\n",
              "<thead><tr><th>int64</th><th>float64</th><th>float64</th><th>object</th><th>float64</th><th>float64</th><th>object</th><th>float64</th><th>int32</th><th>float64</th><th>float64</th></tr></thead>\n",
              "<tr><td>1000001</td><td>74.2</td><td>44.6</td><td>2MASX J04565269+4435157</td><td>74.21954166666667</td><td>44.587702777777785</td><td>2006AJ....131.1163S</td><td>1.1142355907175892</td><td>6</td><td>--</td><td>10444.549540259291</td></tr>\n",
              "<tr><td>1000012</td><td>159.4</td><td>-13.39</td><td>V* U Hya</td><td>159.38863730625002</td><td>-13.384542478611111</td><td>2007A&amp;A...474..653V</td><td>0.7396666784041439</td><td>289</td><td>4.8</td><td>-25.8</td></tr>\n",
              "<tr><td>1005016</td><td>55.5</td><td>62.7</td><td></td><td>--</td><td>--</td><td></td><td>--</td><td>--</td><td>--</td><td>--</td></tr>\n",
              "<tr><td>1052200</td><td>355.959</td><td>3.209</td><td>LSPM J2343+0313</td><td>355.9472432949003</td><td>3.2295778966234</td><td>2018yCat.1345....0G</td><td>1.421422719250529</td><td>1</td><td>3.1122</td><td>--</td></tr>\n",
              "</table>"
            ],
            "text/plain": [
              "<Table length=4>\n",
              "   ID      RA     DEC   ... NbReferences Parallax  Radial velocity  \n",
              "                        ...                mas          km / s      \n",
              " int64  float64 float64 ...    int32     float64       float64      \n",
              "------- ------- ------- ... ------------ -------- ------------------\n",
              "1000001    74.2    44.6 ...            6       -- 10444.549540259291\n",
              "1000012   159.4  -13.39 ...          289      4.8              -25.8\n",
              "1005016    55.5    62.7 ...           --       --                 --\n",
              "1052200 355.959   3.209 ...            1   3.1122                 --"
            ]
          },
          "metadata": {
            "tags": []
          },
          "execution_count": 83
        }
      ]
    },
    {
      "cell_type": "markdown",
      "metadata": {
        "id": "QPlQKAJVLj_R"
      },
      "source": [
        "# Cone search for list of sources using a virtual input table\n",
        ">## This example uses the same data as the previous one; the only difference is that it avoids writing to (or reading from) a file, and doesn't require an actual file to be passed as input to the query. Instead, we use a byte stream through the BytesIO method."
      ]
    },
    {
      "cell_type": "code",
      "metadata": {
        "id": "NVrU2wRzCzQM",
        "outputId": "a87981a5-4838-4ca9-e501-886ee7dd24e8",
        "colab": {
          "base_uri": "https://localhost:8080/",
          "height": 186
        }
      },
      "source": [
        "id = [1000001, 1000012, 1005016, 1052200] #some unique long-integer identifier\n",
        "RA = [74.2, 159.4, 55.5, 355.959]\n",
        "DEC = [44.6, -13.39, 62.7, 3.209]\n",
        "input_table = Table([id, RA, DEC], names = ('ID', 'RA', 'DEC'))\n",
        "\n",
        "#This is the only part of the code above that changes\n",
        "from io import BytesIO\n",
        "from astropy.io import votable\n",
        "votable_object = BytesIO()\n",
        "votable.writeto(votable.from_table(input_table), votable_object)\n",
        "votable_object.seek(0)\n",
        "#The rest of the code remains the same, except that we feed as input\n",
        "# to the query not the VOTable file, but the VOTable object.\n",
        "\n",
        "match_radius = str(2.0 / 60) #the match radius is set to 2 arc minutes.\n",
        "\n",
        "query = \"\"\"\n",
        "SELECT a.ID, a.RA, a.DEC, main_id as \"Main identifier\", \n",
        "  b.RA AS matched_RA, b.DEC AS matched_DEC, coo_bibcode AS \"Coord_BibRef\",\n",
        "  DISTANCE(POINT('ICRS', b.RA, b.DEC), POINT('ICRS', a.RA, a.DEC)) * 60 AS dist_arcmin,\n",
        "  nbref AS \"NbReferences\", plx_value AS \"Parallax\",\n",
        "  rvz_radvel AS \"Radial velocity\"\n",
        "FROM mytable a LEFT JOIN basic b\n",
        "ON CONTAINS(POINT('ICRS', b.RA, b.DEC), CIRCLE('ICRS', a.RA, a.DEC, \"\"\" + match_radius + \"\"\")) = 1\n",
        "ORDER BY ID, dist_arcmin\n",
        "\"\"\"\n",
        "\n",
        "#The following line has changed\n",
        "results = SIMBAD_service.search(query, uploads = {'mytable': votable_object}).to_table()\n",
        "results"
      ],
      "execution_count": 92,
      "outputs": [
        {
          "output_type": "execute_result",
          "data": {
            "text/html": [
              "<i>Table length=4</i>\n",
              "<table id=\"table139851223778128\" class=\"table-striped table-bordered table-condensed\">\n",
              "<thead><tr><th>ID</th><th>RA</th><th>DEC</th><th>Main identifier</th><th>matched_ra</th><th>matched_dec</th><th>Coord_BibRef</th><th>dist_arcmin</th><th>NbReferences</th><th>Parallax</th><th>Radial velocity</th></tr></thead>\n",
              "<thead><tr><th></th><th></th><th></th><th></th><th>deg</th><th>deg</th><th></th><th></th><th></th><th>mas</th><th>km / s</th></tr></thead>\n",
              "<thead><tr><th>int64</th><th>float64</th><th>float64</th><th>object</th><th>float64</th><th>float64</th><th>object</th><th>float64</th><th>int32</th><th>float64</th><th>float64</th></tr></thead>\n",
              "<tr><td>1000001</td><td>74.2</td><td>44.6</td><td>2MASX J04565269+4435157</td><td>74.21954166666667</td><td>44.587702777777785</td><td>2006AJ....131.1163S</td><td>1.1142355907175892</td><td>6</td><td>--</td><td>10444.549540259291</td></tr>\n",
              "<tr><td>1000012</td><td>159.4</td><td>-13.39</td><td>V* U Hya</td><td>159.38863730625002</td><td>-13.384542478611111</td><td>2007A&amp;A...474..653V</td><td>0.7396666784041439</td><td>289</td><td>4.8</td><td>-25.8</td></tr>\n",
              "<tr><td>1005016</td><td>55.5</td><td>62.7</td><td></td><td>--</td><td>--</td><td></td><td>--</td><td>--</td><td>--</td><td>--</td></tr>\n",
              "<tr><td>1052200</td><td>355.959</td><td>3.209</td><td>LSPM J2343+0313</td><td>355.9472432949003</td><td>3.2295778966234</td><td>2018yCat.1345....0G</td><td>1.421422719250529</td><td>1</td><td>3.1122</td><td>--</td></tr>\n",
              "</table>"
            ],
            "text/plain": [
              "<Table length=4>\n",
              "   ID      RA     DEC   ... NbReferences Parallax  Radial velocity  \n",
              "                        ...                mas          km / s      \n",
              " int64  float64 float64 ...    int32     float64       float64      \n",
              "------- ------- ------- ... ------------ -------- ------------------\n",
              "1000001    74.2    44.6 ...            6       -- 10444.549540259291\n",
              "1000012   159.4  -13.39 ...          289      4.8              -25.8\n",
              "1005016    55.5    62.7 ...           --       --                 --\n",
              "1052200 355.959   3.209 ...            1   3.1122                 --"
            ]
          },
          "metadata": {
            "tags": []
          },
          "execution_count": 92
        }
      ]
    },
    {
      "cell_type": "markdown",
      "metadata": {
        "id": "p7tYXQAiNNAp"
      },
      "source": [
        ">## The above method is useful when we're dealing with large tables and/or we want to manipulate the table columns before feeding it to the search, without affecting the original table."
      ]
    },
    {
      "cell_type": "code",
      "metadata": {
        "id": "PsvAoLRuM9Se",
        "outputId": "3bc2f21f-4770-4bef-bd5e-4630b2b0e61d",
        "colab": {
          "base_uri": "https://localhost:8080/",
          "height": 485
        }
      },
      "source": [
        "id = [1000001, 1000012, 1005016, 1052200] #some unique long-integer identifier\n",
        "RA = [74.2, 159.4, 55.5, 355.959]\n",
        "DEC = [44.6, -13.39, 62.7, 3.209]\n",
        "\n",
        "#Some extra columns that make the table somewhat larger than before\n",
        "Facility = ['Butter Glider', 'Magic Murder Bag', 'Vacuum Boom-Broom', 'The Revenge Society']\n",
        "Saturated = [True, True, False, True]\n",
        "ObsDate = ['2016', '2015', '1999', '2016']\n",
        "Observer = ['Fitzcarraldo, Malcolm', 'Killinger, Henry', 'Venture, Thaddeus S.', 'Fântomas, Hamilton G.']\n",
        "input_table = Table([id, RA, DEC, Facility, Saturated, ObsDate, Observer], \\\n",
        "                    names = ('ID', 'RA', 'DEC', 'Facility', 'Saturated', 'ObsDate', 'Observer'))\n",
        "\n",
        "from io import BytesIO\n",
        "from astropy.io import votable\n",
        "votable_object = BytesIO()\n",
        "#This line has changed. Note how only the necessary columns are being written to the VOTable object.\n",
        "votable.writeto(votable.from_table(input_table['ID', 'RA', 'DEC']), votable_object)\n",
        "votable_object.seek(0)\n",
        "\n",
        "match_radius = str(5.0 / 60) #the match radius is set to 5 arc minutes.\n",
        "\n",
        "query = \"\"\"\n",
        "SELECT a.ID, a.RA, a.DEC, main_id as \"Main identifier\", \n",
        "  b.RA AS matched_RA, b.DEC AS matched_DEC, coo_bibcode AS \"Coord_BibRef\",\n",
        "  DISTANCE(POINT('ICRS', b.RA, b.DEC), POINT('ICRS', a.RA, a.DEC)) * 60 AS dist_arcmin,\n",
        "  nbref AS \"NbReferences\", plx_value AS \"Parallax\",\n",
        "  rvz_radvel AS \"Radial velocity\"\n",
        "FROM mytable a LEFT JOIN basic b\n",
        "ON CONTAINS(POINT('ICRS', b.RA, b.DEC), CIRCLE('ICRS', a.RA, a.DEC, \"\"\" + match_radius + \"\"\")) = 1\n",
        "ORDER BY ID, dist_arcmin ASC\n",
        "\"\"\"\n",
        "\n",
        "results = SIMBAD_service.search(query, uploads = {'mytable': votable_object}).to_table()\n",
        "\n",
        "#If needed, we can now add back the columns we ignored in the input table\n",
        "\"\"\"IMPORTANT NOTE: the query results table MUST be the first argument to the join command in order to retain the ordering of distance.\n",
        "  You can verify that this order isn't always preserved if input_table is used as the first argument by changing the line below.\n",
        "\"\"\"\n",
        "output_table = join(results, input_table, keys = ['ID', 'RA', 'DEC'], join_type = 'left')\n",
        "output_table"
      ],
      "execution_count": 104,
      "outputs": [
        {
          "output_type": "execute_result",
          "data": {
            "text/html": [
              "<i>Table length=18</i>\n",
              "<table id=\"table139851225179472\" class=\"table-striped table-bordered table-condensed\">\n",
              "<thead><tr><th>ID</th><th>RA</th><th>DEC</th><th>Main identifier</th><th>matched_ra</th><th>matched_dec</th><th>Coord_BibRef</th><th>dist_arcmin</th><th>NbReferences</th><th>Parallax</th><th>Radial velocity</th><th>Facility</th><th>Saturated</th><th>ObsDate</th><th>Observer</th></tr></thead>\n",
              "<thead><tr><th></th><th></th><th></th><th></th><th>deg</th><th>deg</th><th></th><th></th><th></th><th>mas</th><th>km / s</th><th></th><th></th><th></th><th></th></tr></thead>\n",
              "<thead><tr><th>int64</th><th>float64</th><th>float64</th><th>object</th><th>float64</th><th>float64</th><th>object</th><th>float64</th><th>int32</th><th>float64</th><th>float64</th><th>str19</th><th>bool</th><th>str4</th><th>str21</th></tr></thead>\n",
              "<tr><td>1000001</td><td>74.2</td><td>44.6</td><td>2MASX J04565269+4435157</td><td>74.21954166666667</td><td>44.587702777777785</td><td>2006AJ....131.1163S</td><td>1.1142355907175892</td><td>6</td><td>--</td><td>10444.549540259291</td><td>Butter Glider</td><td>True</td><td>2016</td><td>Fitzcarraldo, Malcolm</td></tr>\n",
              "<tr><td>1000001</td><td>74.2</td><td>44.6</td><td>RAFGL 6319S</td><td>74.18033333333334</td><td>44.544888888888885</td><td>2003yCat.2246....0C</td><td>3.4118373762729273</td><td>28</td><td>--</td><td>--</td><td>Butter Glider</td><td>True</td><td>2016</td><td>Fitzcarraldo, Malcolm</td></tr>\n",
              "<tr><td>1000001</td><td>74.2</td><td>44.6</td><td>BD+44  1060</td><td>74.2362658724653</td><td>44.6539405854728</td><td>2018yCat.1345....0G</td><td>3.5878574683719457</td><td>5</td><td>10.2859</td><td>9.0</td><td>Butter Glider</td><td>True</td><td>2016</td><td>Fitzcarraldo, Malcolm</td></tr>\n",
              "<tr><td>1000001</td><td>74.2</td><td>44.6</td><td>ZOA J04570533+4433410</td><td>74.2722083</td><td>44.5613889</td><td>2016MNRAS.460..923R</td><td>3.8587007669985534</td><td>1</td><td>--</td><td>14506.400940488247</td><td>Butter Glider</td><td>True</td><td>2016</td><td>Fitzcarraldo, Malcolm</td></tr>\n",
              "<tr><td>1000001</td><td>74.2</td><td>44.6</td><td>GSC 02906-00583</td><td>74.1741603053551</td><td>44.5356486149499</td><td>2018yCat.1345....0G</td><td>4.015959900184117</td><td>2</td><td>0.2718</td><td>--</td><td>Butter Glider</td><td>True</td><td>2016</td><td>Fitzcarraldo, Malcolm</td></tr>\n",
              "<tr><td>1000001</td><td>74.2</td><td>44.6</td><td>ZOA J04562585+4438320</td><td>74.1077083</td><td>44.6422222</td><td>2016MNRAS.460..923R</td><td>4.685349626800239</td><td>1</td><td>--</td><td>10364.478381972509</td><td>Butter Glider</td><td>True</td><td>2016</td><td>Fitzcarraldo, Malcolm</td></tr>\n",
              "<tr><td>1000012</td><td>159.4</td><td>-13.39</td><td>V* U Hya</td><td>159.38863730625002</td><td>-13.384542478611111</td><td>2007A&amp;A...474..653V</td><td>0.7396666784041439</td><td>289</td><td>4.8</td><td>-25.8</td><td>Magic Murder Bag</td><td>True</td><td>2015</td><td>Killinger, Henry</td></tr>\n",
              "<tr><td>1000012</td><td>159.4</td><td>-13.39</td><td>PMN J1037-1322</td><td>159.48458333333335</td><td>-13.390527777777777</td><td>1998AJ....115.1693C</td><td>4.937138897037928</td><td>1</td><td>--</td><td>--</td><td>Magic Murder Bag</td><td>True</td><td>2015</td><td>Killinger, Henry</td></tr>\n",
              "<tr><td>1005016</td><td>55.5</td><td>62.7</td><td>Gaia DR2 486856674972428928</td><td>55.57845437955</td><td>62.625958411863046</td><td>2018yCat.1345....0G</td><td>4.940510440439374</td><td>1</td><td>3.2331</td><td>--</td><td>Vacuum Boom-Broom</td><td>False</td><td>1999</td><td>Venture, Thaddeus S.</td></tr>\n",
              "<tr><td>1005016</td><td>55.5</td><td>62.7</td><td>Lan 174</td><td>55.32063987494375</td><td>62.70054675657389</td><td>2018yCat.1345....0G</td><td>4.93586828596613</td><td>6</td><td>4.5335</td><td>--</td><td>Vacuum Boom-Broom</td><td>False</td><td>1999</td><td>Venture, Thaddeus S.</td></tr>\n",
              "<tr><td>1005016</td><td>55.5</td><td>62.7</td><td>TYC 4066-1091-1</td><td>55.4012330857627</td><td>62.6762962493002</td><td>2018yCat.1345....0G</td><td>3.0685456138630434</td><td>0</td><td>1.457</td><td>--</td><td>Vacuum Boom-Broom</td><td>False</td><td>1999</td><td>Venture, Thaddeus S.</td></tr>\n",
              "<tr><td>1005016</td><td>55.5</td><td>62.7</td><td>NVSS J034222+624320</td><td>55.59633333333334</td><td>62.72244444444444</td><td>1996AJ....111.1945D</td><td>2.9725320982553827</td><td>1</td><td>--</td><td>--</td><td>Vacuum Boom-Broom</td><td>False</td><td>1999</td><td>Venture, Thaddeus S.</td></tr>\n",
              "<tr><td>1005016</td><td>55.5</td><td>62.7</td><td>BD+62   594</td><td>55.4281888289162</td><td>62.7054291390759</td><td>2018yCat.1345....0G</td><td>2.0026585552943166</td><td>2</td><td>1.3179</td><td>-45.0</td><td>Vacuum Boom-Broom</td><td>False</td><td>1999</td><td>Venture, Thaddeus S.</td></tr>\n",
              "<tr><td>1005016</td><td>55.5</td><td>62.7</td><td>V* U Cam</td><td>55.450734388653</td><td>62.6484436155601</td><td>2018yCat.1345....0G</td><td>3.3779062971311604</td><td>235</td><td>1.6427</td><td>-3.0</td><td>Vacuum Boom-Broom</td><td>False</td><td>1999</td><td>Venture, Thaddeus S.</td></tr>\n",
              "<tr><td>1052200</td><td>355.959</td><td>3.209</td><td>LSPM J2343+0313</td><td>355.9472432949003</td><td>3.2295778966234</td><td>2018yCat.1345....0G</td><td>1.421422719250529</td><td>1</td><td>3.1122</td><td>--</td><td>The Revenge Society</td><td>True</td><td>2016</td><td>Fântomas, Hamilton G.</td></tr>\n",
              "<tr><td>1052200</td><td>355.959</td><td>3.209</td><td>BPS CS 31088-0033</td><td>355.9891666666666</td><td>3.1849999999999996</td><td>1999ApJS..123..639N</td><td>2.310738107956342</td><td>1</td><td>--</td><td>--</td><td>The Revenge Society</td><td>True</td><td>2016</td><td>Fântomas, Hamilton G.</td></tr>\n",
              "<tr><td>1052200</td><td>355.959</td><td>3.209</td><td>TYC  589-78-1</td><td>355.9106938994459</td><td>3.2112726978595</td><td>2018yCat.1345....0G</td><td>2.897029154260973</td><td>0</td><td>8.0558</td><td>-8.68</td><td>The Revenge Society</td><td>True</td><td>2016</td><td>Fântomas, Hamilton G.</td></tr>\n",
              "<tr><td>1052200</td><td>355.959</td><td>3.209</td><td>[RRB2014] RM J234340.5+030920.2</td><td>355.91875</td><td>3.1555555555555554</td><td>2016ApJS..224....1R</td><td>4.012102038630162</td><td>2</td><td>--</td><td>93783.28872586829</td><td>The Revenge Society</td><td>True</td><td>2016</td><td>Fântomas, Hamilton G.</td></tr>\n",
              "</table>"
            ],
            "text/plain": [
              "<Table length=18>\n",
              "   ID      RA     DEC   ... Saturated ObsDate        Observer      \n",
              "                        ...                                        \n",
              " int64  float64 float64 ...    bool     str4          str21        \n",
              "------- ------- ------- ... --------- ------- ---------------------\n",
              "1000001    74.2    44.6 ...      True    2016 Fitzcarraldo, Malcolm\n",
              "1000001    74.2    44.6 ...      True    2016 Fitzcarraldo, Malcolm\n",
              "1000001    74.2    44.6 ...      True    2016 Fitzcarraldo, Malcolm\n",
              "1000001    74.2    44.6 ...      True    2016 Fitzcarraldo, Malcolm\n",
              "1000001    74.2    44.6 ...      True    2016 Fitzcarraldo, Malcolm\n",
              "1000001    74.2    44.6 ...      True    2016 Fitzcarraldo, Malcolm\n",
              "1000012   159.4  -13.39 ...      True    2015      Killinger, Henry\n",
              "1000012   159.4  -13.39 ...      True    2015      Killinger, Henry\n",
              "1005016    55.5    62.7 ...     False    1999  Venture, Thaddeus S.\n",
              "1005016    55.5    62.7 ...     False    1999  Venture, Thaddeus S.\n",
              "1005016    55.5    62.7 ...     False    1999  Venture, Thaddeus S.\n",
              "1005016    55.5    62.7 ...     False    1999  Venture, Thaddeus S.\n",
              "1005016    55.5    62.7 ...     False    1999  Venture, Thaddeus S.\n",
              "1005016    55.5    62.7 ...     False    1999  Venture, Thaddeus S.\n",
              "1052200 355.959   3.209 ...      True    2016 Fântomas, Hamilton G.\n",
              "1052200 355.959   3.209 ...      True    2016 Fântomas, Hamilton G.\n",
              "1052200 355.959   3.209 ...      True    2016 Fântomas, Hamilton G.\n",
              "1052200 355.959   3.209 ...      True    2016 Fântomas, Hamilton G."
            ]
          },
          "metadata": {
            "tags": []
          },
          "execution_count": 104
        }
      ]
    },
    {
      "cell_type": "markdown",
      "metadata": {
        "id": "kHGx_O_mRUgP"
      },
      "source": [
        "## Selecting only the nearest-neighbour match for each source in the above example\n",
        "> ### Since we've already arranged the matches in ascending order of distance, and performed the join using the query results as the first argument, we simply select the first entry for each source. This can be implemented using `numpy`'s `unique` method."
      ]
    },
    {
      "cell_type": "code",
      "metadata": {
        "id": "gGapvRc-OldV",
        "outputId": "0e1be0c4-2e55-4815-e32e-8ab1810da1b0",
        "colab": {
          "base_uri": "https://localhost:8080/",
          "height": 186
        }
      },
      "source": [
        "_, u = np.unique(output_table['ID'], return_index = True)\n",
        "output_table[u]"
      ],
      "execution_count": 105,
      "outputs": [
        {
          "output_type": "execute_result",
          "data": {
            "text/html": [
              "<i>Table length=4</i>\n",
              "<table id=\"table139851226145936\" class=\"table-striped table-bordered table-condensed\">\n",
              "<thead><tr><th>ID</th><th>RA</th><th>DEC</th><th>Main identifier</th><th>matched_ra</th><th>matched_dec</th><th>Coord_BibRef</th><th>dist_arcmin</th><th>NbReferences</th><th>Parallax</th><th>Radial velocity</th><th>Facility</th><th>Saturated</th><th>ObsDate</th><th>Observer</th></tr></thead>\n",
              "<thead><tr><th></th><th></th><th></th><th></th><th>deg</th><th>deg</th><th></th><th></th><th></th><th>mas</th><th>km / s</th><th></th><th></th><th></th><th></th></tr></thead>\n",
              "<thead><tr><th>int64</th><th>float64</th><th>float64</th><th>object</th><th>float64</th><th>float64</th><th>object</th><th>float64</th><th>int32</th><th>float64</th><th>float64</th><th>str19</th><th>bool</th><th>str4</th><th>str21</th></tr></thead>\n",
              "<tr><td>1000001</td><td>74.2</td><td>44.6</td><td>2MASX J04565269+4435157</td><td>74.21954166666667</td><td>44.587702777777785</td><td>2006AJ....131.1163S</td><td>1.1142355907175892</td><td>6</td><td>--</td><td>10444.549540259291</td><td>Butter Glider</td><td>True</td><td>2016</td><td>Fitzcarraldo, Malcolm</td></tr>\n",
              "<tr><td>1000012</td><td>159.4</td><td>-13.39</td><td>V* U Hya</td><td>159.38863730625002</td><td>-13.384542478611111</td><td>2007A&amp;A...474..653V</td><td>0.7396666784041439</td><td>289</td><td>4.8</td><td>-25.8</td><td>Magic Murder Bag</td><td>True</td><td>2015</td><td>Killinger, Henry</td></tr>\n",
              "<tr><td>1005016</td><td>55.5</td><td>62.7</td><td>Gaia DR2 486856674972428928</td><td>55.57845437955</td><td>62.625958411863046</td><td>2018yCat.1345....0G</td><td>4.940510440439374</td><td>1</td><td>3.2331</td><td>--</td><td>Vacuum Boom-Broom</td><td>False</td><td>1999</td><td>Venture, Thaddeus S.</td></tr>\n",
              "<tr><td>1052200</td><td>355.959</td><td>3.209</td><td>LSPM J2343+0313</td><td>355.9472432949003</td><td>3.2295778966234</td><td>2018yCat.1345....0G</td><td>1.421422719250529</td><td>1</td><td>3.1122</td><td>--</td><td>The Revenge Society</td><td>True</td><td>2016</td><td>Fântomas, Hamilton G.</td></tr>\n",
              "</table>"
            ],
            "text/plain": [
              "<Table length=4>\n",
              "   ID      RA     DEC   ... Saturated ObsDate        Observer      \n",
              "                        ...                                        \n",
              " int64  float64 float64 ...    bool     str4          str21        \n",
              "------- ------- ------- ... --------- ------- ---------------------\n",
              "1000001    74.2    44.6 ...      True    2016 Fitzcarraldo, Malcolm\n",
              "1000012   159.4  -13.39 ...      True    2015      Killinger, Henry\n",
              "1005016    55.5    62.7 ...     False    1999  Venture, Thaddeus S.\n",
              "1052200 355.959   3.209 ...      True    2016 Fântomas, Hamilton G."
            ]
          },
          "metadata": {
            "tags": []
          },
          "execution_count": 105
        }
      ]
    },
    {
      "cell_type": "code",
      "metadata": {
        "id": "3UNJ_9VQR4ag"
      },
      "source": [
        ""
      ],
      "execution_count": null,
      "outputs": []
    }
  ]
}