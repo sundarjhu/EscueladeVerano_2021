{
  "nbformat": 4,
  "nbformat_minor": 0,
  "metadata": {
    "colab": {
      "name": "Escuela de Verano 2021 Demo 2.ipynb",
      "provenance": [],
      "authorship_tag": "ABX9TyMWIiKoqDP1PrRMbUtv9Vuw",
      "include_colab_link": true
    },
    "kernelspec": {
      "name": "python3",
      "display_name": "Python 3"
    },
    "language_info": {
      "name": "python"
    }
  },
  "cells": [
    {
      "cell_type": "markdown",
      "metadata": {
        "id": "view-in-github",
        "colab_type": "text"
      },
      "source": [
        "<a href=\"https://colab.research.google.com/github/sundarjhu/EscueladeVerano_2021/blob/main/Escuela_de_Verano_2021_Demo_2.ipynb\" target=\"_parent\"><img src=\"https://colab.research.google.com/assets/colab-badge.svg\" alt=\"Open In Colab\"/></a>"
      ]
    },
    {
      "cell_type": "markdown",
      "metadata": {
        "id": "XnuGivmc94gg"
      },
      "source": [
        "# **Accessing data from SIMBAD, demonstrating ADQL basics**\n",
        "---\n",
        "\n",
        "\n",
        "\n",
        "---\n",
        "\n"
      ]
    },
    {
      "cell_type": "code",
      "metadata": {
        "id": "wsnw6qMs0GJP",
        "colab": {
          "base_uri": "https://localhost:8080/"
        },
        "outputId": "4e5f0223-ac09-423b-aa89-c4531955a195"
      },
      "source": [
        "from astropy.table import Table, join\n",
        "import numpy as np\n",
        "!pip install pyvo\n",
        "import pyvo as vo"
      ],
      "execution_count": 1,
      "outputs": [
        {
          "output_type": "stream",
          "text": [
            "Collecting pyvo\n",
            "  Downloading pyvo-1.1-py3-none-any.whl (802 kB)\n",
            "\u001b[?25l\r\u001b[K     |▍                               | 10 kB 23.6 MB/s eta 0:00:01\r\u001b[K     |▉                               | 20 kB 27.1 MB/s eta 0:00:01\r\u001b[K     |█▎                              | 30 kB 10.1 MB/s eta 0:00:01\r\u001b[K     |█▋                              | 40 kB 8.5 MB/s eta 0:00:01\r\u001b[K     |██                              | 51 kB 5.0 MB/s eta 0:00:01\r\u001b[K     |██▌                             | 61 kB 5.3 MB/s eta 0:00:01\r\u001b[K     |██▉                             | 71 kB 5.7 MB/s eta 0:00:01\r\u001b[K     |███▎                            | 81 kB 6.4 MB/s eta 0:00:01\r\u001b[K     |███▊                            | 92 kB 6.1 MB/s eta 0:00:01\r\u001b[K     |████                            | 102 kB 5.1 MB/s eta 0:00:01\r\u001b[K     |████▌                           | 112 kB 5.1 MB/s eta 0:00:01\r\u001b[K     |█████                           | 122 kB 5.1 MB/s eta 0:00:01\r\u001b[K     |█████▎                          | 133 kB 5.1 MB/s eta 0:00:01\r\u001b[K     |█████▊                          | 143 kB 5.1 MB/s eta 0:00:01\r\u001b[K     |██████▏                         | 153 kB 5.1 MB/s eta 0:00:01\r\u001b[K     |██████▌                         | 163 kB 5.1 MB/s eta 0:00:01\r\u001b[K     |███████                         | 174 kB 5.1 MB/s eta 0:00:01\r\u001b[K     |███████▍                        | 184 kB 5.1 MB/s eta 0:00:01\r\u001b[K     |███████▊                        | 194 kB 5.1 MB/s eta 0:00:01\r\u001b[K     |████████▏                       | 204 kB 5.1 MB/s eta 0:00:01\r\u001b[K     |████████▋                       | 215 kB 5.1 MB/s eta 0:00:01\r\u001b[K     |█████████                       | 225 kB 5.1 MB/s eta 0:00:01\r\u001b[K     |█████████▍                      | 235 kB 5.1 MB/s eta 0:00:01\r\u001b[K     |█████████▉                      | 245 kB 5.1 MB/s eta 0:00:01\r\u001b[K     |██████████▏                     | 256 kB 5.1 MB/s eta 0:00:01\r\u001b[K     |██████████▋                     | 266 kB 5.1 MB/s eta 0:00:01\r\u001b[K     |███████████                     | 276 kB 5.1 MB/s eta 0:00:01\r\u001b[K     |███████████▍                    | 286 kB 5.1 MB/s eta 0:00:01\r\u001b[K     |███████████▉                    | 296 kB 5.1 MB/s eta 0:00:01\r\u001b[K     |████████████▎                   | 307 kB 5.1 MB/s eta 0:00:01\r\u001b[K     |████████████▋                   | 317 kB 5.1 MB/s eta 0:00:01\r\u001b[K     |█████████████                   | 327 kB 5.1 MB/s eta 0:00:01\r\u001b[K     |█████████████▌                  | 337 kB 5.1 MB/s eta 0:00:01\r\u001b[K     |█████████████▉                  | 348 kB 5.1 MB/s eta 0:00:01\r\u001b[K     |██████████████▎                 | 358 kB 5.1 MB/s eta 0:00:01\r\u001b[K     |██████████████▊                 | 368 kB 5.1 MB/s eta 0:00:01\r\u001b[K     |███████████████                 | 378 kB 5.1 MB/s eta 0:00:01\r\u001b[K     |███████████████▌                | 389 kB 5.1 MB/s eta 0:00:01\r\u001b[K     |████████████████                | 399 kB 5.1 MB/s eta 0:00:01\r\u001b[K     |████████████████▎               | 409 kB 5.1 MB/s eta 0:00:01\r\u001b[K     |████████████████▊               | 419 kB 5.1 MB/s eta 0:00:01\r\u001b[K     |█████████████████▏              | 430 kB 5.1 MB/s eta 0:00:01\r\u001b[K     |█████████████████▋              | 440 kB 5.1 MB/s eta 0:00:01\r\u001b[K     |██████████████████              | 450 kB 5.1 MB/s eta 0:00:01\r\u001b[K     |██████████████████▍             | 460 kB 5.1 MB/s eta 0:00:01\r\u001b[K     |██████████████████▉             | 471 kB 5.1 MB/s eta 0:00:01\r\u001b[K     |███████████████████▏            | 481 kB 5.1 MB/s eta 0:00:01\r\u001b[K     |███████████████████▋            | 491 kB 5.1 MB/s eta 0:00:01\r\u001b[K     |████████████████████            | 501 kB 5.1 MB/s eta 0:00:01\r\u001b[K     |████████████████████▍           | 512 kB 5.1 MB/s eta 0:00:01\r\u001b[K     |████████████████████▉           | 522 kB 5.1 MB/s eta 0:00:01\r\u001b[K     |█████████████████████▎          | 532 kB 5.1 MB/s eta 0:00:01\r\u001b[K     |█████████████████████▋          | 542 kB 5.1 MB/s eta 0:00:01\r\u001b[K     |██████████████████████          | 552 kB 5.1 MB/s eta 0:00:01\r\u001b[K     |██████████████████████▌         | 563 kB 5.1 MB/s eta 0:00:01\r\u001b[K     |██████████████████████▉         | 573 kB 5.1 MB/s eta 0:00:01\r\u001b[K     |███████████████████████▎        | 583 kB 5.1 MB/s eta 0:00:01\r\u001b[K     |███████████████████████▊        | 593 kB 5.1 MB/s eta 0:00:01\r\u001b[K     |████████████████████████        | 604 kB 5.1 MB/s eta 0:00:01\r\u001b[K     |████████████████████████▌       | 614 kB 5.1 MB/s eta 0:00:01\r\u001b[K     |█████████████████████████       | 624 kB 5.1 MB/s eta 0:00:01\r\u001b[K     |█████████████████████████▎      | 634 kB 5.1 MB/s eta 0:00:01\r\u001b[K     |█████████████████████████▊      | 645 kB 5.1 MB/s eta 0:00:01\r\u001b[K     |██████████████████████████▏     | 655 kB 5.1 MB/s eta 0:00:01\r\u001b[K     |██████████████████████████▌     | 665 kB 5.1 MB/s eta 0:00:01\r\u001b[K     |███████████████████████████     | 675 kB 5.1 MB/s eta 0:00:01\r\u001b[K     |███████████████████████████▍    | 686 kB 5.1 MB/s eta 0:00:01\r\u001b[K     |███████████████████████████▊    | 696 kB 5.1 MB/s eta 0:00:01\r\u001b[K     |████████████████████████████▏   | 706 kB 5.1 MB/s eta 0:00:01\r\u001b[K     |████████████████████████████▋   | 716 kB 5.1 MB/s eta 0:00:01\r\u001b[K     |█████████████████████████████   | 727 kB 5.1 MB/s eta 0:00:01\r\u001b[K     |█████████████████████████████▍  | 737 kB 5.1 MB/s eta 0:00:01\r\u001b[K     |█████████████████████████████▉  | 747 kB 5.1 MB/s eta 0:00:01\r\u001b[K     |██████████████████████████████▏ | 757 kB 5.1 MB/s eta 0:00:01\r\u001b[K     |██████████████████████████████▋ | 768 kB 5.1 MB/s eta 0:00:01\r\u001b[K     |███████████████████████████████ | 778 kB 5.1 MB/s eta 0:00:01\r\u001b[K     |███████████████████████████████▍| 788 kB 5.1 MB/s eta 0:00:01\r\u001b[K     |███████████████████████████████▉| 798 kB 5.1 MB/s eta 0:00:01\r\u001b[K     |████████████████████████████████| 802 kB 5.1 MB/s \n",
            "\u001b[?25hRequirement already satisfied: astropy in /usr/local/lib/python3.7/dist-packages (from pyvo) (4.2.1)\n",
            "Collecting mimeparse\n",
            "  Downloading mimeparse-0.1.3.tar.gz (4.4 kB)\n",
            "Requirement already satisfied: requests in /usr/local/lib/python3.7/dist-packages (from pyvo) (2.23.0)\n",
            "Requirement already satisfied: numpy>=1.17 in /usr/local/lib/python3.7/dist-packages (from astropy->pyvo) (1.19.5)\n",
            "Requirement already satisfied: pyerfa in /usr/local/lib/python3.7/dist-packages (from astropy->pyvo) (2.0.0)\n",
            "Requirement already satisfied: certifi>=2017.4.17 in /usr/local/lib/python3.7/dist-packages (from requests->pyvo) (2021.5.30)\n",
            "Requirement already satisfied: urllib3!=1.25.0,!=1.25.1,<1.26,>=1.21.1 in /usr/local/lib/python3.7/dist-packages (from requests->pyvo) (1.24.3)\n",
            "Requirement already satisfied: chardet<4,>=3.0.2 in /usr/local/lib/python3.7/dist-packages (from requests->pyvo) (3.0.4)\n",
            "Requirement already satisfied: idna<3,>=2.5 in /usr/local/lib/python3.7/dist-packages (from requests->pyvo) (2.10)\n",
            "Building wheels for collected packages: mimeparse\n",
            "  Building wheel for mimeparse (setup.py) ... \u001b[?25l\u001b[?25hdone\n",
            "  Created wheel for mimeparse: filename=mimeparse-0.1.3-py3-none-any.whl size=3864 sha256=f7500d018225afc081caf63d7819a6ba89b2700c48476184f5e40ebb20fd488f\n",
            "  Stored in directory: /root/.cache/pip/wheels/49/b4/2d/0081759ae1833bd694024801f7aacddcda8a687e8d5fbaeebd\n",
            "Successfully built mimeparse\n",
            "Installing collected packages: mimeparse, pyvo\n",
            "Successfully installed mimeparse-0.1.3 pyvo-1.1\n"
          ],
          "name": "stdout"
        }
      ]
    },
    {
      "cell_type": "markdown",
      "metadata": {
        "id": "_uEohPj15t0M"
      },
      "source": [
        "## Create a table of source identifiers, save to VOTable. This will serve as input for our queries."
      ]
    },
    {
      "cell_type": "code",
      "metadata": {
        "id": "heWWfu810Oa9",
        "colab": {
          "base_uri": "https://localhost:8080/"
        },
        "outputId": "d99e386d-b608-4672-c0de-8ca6252705d6"
      },
      "source": [
        "id = ['lam Vel', 'IRAS 16205-2626', 'eta Car', 'alp Cen', 'IRC +10216'] #unique identifiers for three stars\n",
        "hemisphere = ['Southern', 'Southern', 'Southern', 'Southern', 'Northern'] #which celestial hemisphere?\n",
        "input_tab = Table([id, hemisphere], names = ('ID', 'hemisphere'))\n",
        "input_tab.pprint()\n",
        "input_tab.write('input_tab.vot', format = 'votable', overwrite = True)"
      ],
      "execution_count": 2,
      "outputs": [
        {
          "output_type": "stream",
          "text": [
            "       ID       hemisphere\n",
            "--------------- ----------\n",
            "        lam Vel   Southern\n",
            "IRAS 16205-2626   Southern\n",
            "        eta Car   Southern\n",
            "        alp Cen   Southern\n",
            "     IRC +10216   Northern\n"
          ],
          "name": "stdout"
        }
      ]
    },
    {
      "cell_type": "markdown",
      "metadata": {
        "id": "s60IHUCypt4u"
      },
      "source": [
        "### Automatically obtain the url for the SIMBAD TAP server by doing a regsearch using PyVO"
      ]
    },
    {
      "cell_type": "code",
      "metadata": {
        "id": "_EafFjbTp1F1",
        "colab": {
          "base_uri": "https://localhost:8080/"
        },
        "outputId": "c96d59d9-4993-475b-b626-09279b4c6124"
      },
      "source": [
        "r = vo.regsearch(servicetype = 'tap', keywords = ['Simbad'])\n",
        "SIMBAD_service = r[0].service"
      ],
      "execution_count": 5,
      "outputs": [
        {
          "output_type": "stream",
          "text": [
            "WARNING: UnknownElementWarning: None:3:1106: UnknownElementWarning: Unknown element mirrorURL [pyvo.utils.xml.elements]\n",
            "WARNING: UnknownElementWarning: None:125:4268: UnknownElementWarning: Unknown element mirrorURL [pyvo.utils.xml.elements]\n",
            "WARNING: UnknownElementWarning: None:125:4585: UnknownElementWarning: Unknown element mirrorURL [pyvo.utils.xml.elements]\n",
            "WARNING: UnknownElementWarning: None:125:4897: UnknownElementWarning: Unknown element mirrorURL [pyvo.utils.xml.elements]\n",
            "WARNING: UnknownElementWarning: None:125:5197: UnknownElementWarning: Unknown element mirrorURL [pyvo.utils.xml.elements]\n"
          ],
          "name": "stderr"
        }
      ]
    },
    {
      "cell_type": "code",
      "metadata": {
        "id": "wIoGtL8TqKob",
        "colab": {
          "base_uri": "https://localhost:8080/",
          "height": 35
        },
        "outputId": "5f727434-65f4-469d-8eb8-490ca04d9437"
      },
      "source": [
        "# This is the url to the TAP server\n",
        "SIMBAD_service.baseurl"
      ],
      "execution_count": 6,
      "outputs": [
        {
          "output_type": "execute_result",
          "data": {
            "application/vnd.google.colaboratory.intrinsic+json": {
              "type": "string"
            },
            "text/plain": [
              "'http://simbad.u-strasbg.fr:80/simbad/sim-tap'"
            ]
          },
          "metadata": {
            "tags": []
          },
          "execution_count": 6
        }
      ]
    },
    {
      "cell_type": "code",
      "metadata": {
        "id": "WKY24gZ_oKS7",
        "colab": {
          "base_uri": "https://localhost:8080/"
        },
        "outputId": "73d7ecda-1829-45e2-8111-fcbf7fc3ddab"
      },
      "source": [
        "#Select all columns from the first row of basic data\n",
        "query = \"\"\" SELECT top 1 * FROM basic \"\"\" # change \"1\" to any number to view that many rows in the output\n",
        "results = SIMBAD_service.search(query).to_table() #submit the ADQL query to the SIMBAD TAP server, and convert the response into an astropy table\n",
        "results.colnames\n",
        "#You can use this to inspect the column names and their content in the table"
      ],
      "execution_count": 7,
      "outputs": [
        {
          "output_type": "execute_result",
          "data": {
            "text/plain": [
              "['coo_bibcode',\n",
              " 'coo_err_angle',\n",
              " 'coo_err_maj',\n",
              " 'coo_err_maj_prec',\n",
              " 'coo_err_min',\n",
              " 'coo_err_min_prec',\n",
              " 'coo_qual',\n",
              " 'coo_wavelength',\n",
              " 'dec_prec',\n",
              " 'galdim_angle',\n",
              " 'galdim_bibcode',\n",
              " 'galdim_majaxis',\n",
              " 'galdim_majaxis_prec',\n",
              " 'galdim_minaxis',\n",
              " 'galdim_minaxis_prec',\n",
              " 'galdim_qual',\n",
              " 'hpx',\n",
              " 'morph_bibcode',\n",
              " 'morph_qual',\n",
              " 'morph_type',\n",
              " 'nbref',\n",
              " 'oid',\n",
              " 'otype',\n",
              " 'plx_bibcode',\n",
              " 'plx_err',\n",
              " 'plx_err_prec',\n",
              " 'plx_prec',\n",
              " 'plx_qual',\n",
              " 'plx_value',\n",
              " 'pm_bibcode',\n",
              " 'pm_err_angle',\n",
              " 'pm_err_maj',\n",
              " 'pm_err_maj_prec',\n",
              " 'pm_err_min',\n",
              " 'pm_err_min_prec',\n",
              " 'pm_qual',\n",
              " 'pmdec',\n",
              " 'pmdec_prec',\n",
              " 'pmra',\n",
              " 'pmra_prec',\n",
              " 'ra_prec',\n",
              " 'rvz_bibcode',\n",
              " 'rvz_err',\n",
              " 'rvz_err_prec',\n",
              " 'rvz_nature',\n",
              " 'rvz_qual',\n",
              " 'rvz_radvel',\n",
              " 'rvz_radvel_prec',\n",
              " 'rvz_redshift',\n",
              " 'rvz_redshift_prec',\n",
              " 'rvz_type',\n",
              " 'sp_bibcode',\n",
              " 'sp_qual',\n",
              " 'sp_type',\n",
              " 'update_date',\n",
              " 'vlsr',\n",
              " 'main_id',\n",
              " 'otype_txt',\n",
              " 'ra',\n",
              " 'dec']"
            ]
          },
          "metadata": {
            "tags": []
          },
          "execution_count": 7
        }
      ]
    },
    {
      "cell_type": "code",
      "metadata": {
        "id": "LQa2D7ADrygr",
        "colab": {
          "base_uri": "https://localhost:8080/",
          "height": 100
        },
        "outputId": "40bd6a01-563b-4f2a-b230-64098a381015"
      },
      "source": [
        "#How many rows are there in this table?\n",
        "query = \"\"\" select count(coo_bibcode) as NUMROWS from basic\"\"\"\n",
        "results = SIMBAD_service.search(query).to_table() #submit the ADQL query to the SIMBAD TAP server, and convert the response into an astropy table\n",
        "results"
      ],
      "execution_count": 8,
      "outputs": [
        {
          "output_type": "execute_result",
          "data": {
            "text/html": [
              "<i>Table length=1</i>\n",
              "<table id=\"table140192742884496\" class=\"table-striped table-bordered table-condensed\">\n",
              "<thead><tr><th>numrows</th></tr></thead>\n",
              "<thead><tr><th>int64</th></tr></thead>\n",
              "<tr><td>11898010</td></tr>\n",
              "</table>"
            ],
            "text/plain": [
              "<Table length=1>\n",
              "numrows \n",
              " int64  \n",
              "--------\n",
              "11898010"
            ]
          },
          "metadata": {
            "tags": []
          },
          "execution_count": 8
        }
      ]
    },
    {
      "cell_type": "code",
      "metadata": {
        "id": "kof50ErU-81f",
        "colab": {
          "base_uri": "https://localhost:8080/",
          "height": 100
        },
        "outputId": "d02cf2be-9e09-4000-d3e5-061bafe191b7"
      },
      "source": [
        "#HEY, waitaminit! I asked for the column to be in all caps, why isn't it?\n",
        "#Because ADQL is case-insensitive unless you enclose the argument in quotes\n",
        "query = \"\"\" select count(coo_bibcode) as \"NUMROWS\" from basic\"\"\"\n",
        "results = SIMBAD_service.search(query).to_table() #submit the ADQL query to the SIMBAD TAP server, and convert the response into an astropy table\n",
        "results"
      ],
      "execution_count": 9,
      "outputs": [
        {
          "output_type": "execute_result",
          "data": {
            "text/html": [
              "<i>Table length=1</i>\n",
              "<table id=\"table140192742264272\" class=\"table-striped table-bordered table-condensed\">\n",
              "<thead><tr><th>NUMROWS</th></tr></thead>\n",
              "<thead><tr><th>int64</th></tr></thead>\n",
              "<tr><td>11898010</td></tr>\n",
              "</table>"
            ],
            "text/plain": [
              "<Table length=1>\n",
              "NUMROWS \n",
              " int64  \n",
              "--------\n",
              "11898010"
            ]
          },
          "metadata": {
            "tags": []
          },
          "execution_count": 9
        }
      ]
    },
    {
      "cell_type": "code",
      "metadata": {
        "id": "2fBickUisU54",
        "colab": {
          "base_uri": "https://localhost:8080/",
          "height": 528
        },
        "outputId": "d664e1a6-9666-4d0a-e9a1-37358c65cb00"
      },
      "source": [
        "#SUBSETS with WHERE: How many rows are there in this table with DEC < 0?\n",
        "query = \"\"\" select count(coo_bibcode) as NUMROWS from basic WHERE dec < 0\"\"\"\n",
        "results = SIMBAD_service.search(query).to_table() #submit the ADQL query to the SIMBAD TAP server, and convert the response into an astropy table\n",
        "results\n",
        "\n",
        "query = \"\"\" select top 100 coo_bibcode as NUMROWS from basic WHERE dec < 0\"\"\"\n",
        "results = SIMBAD_service.search(query).to_table() #submit the ADQL query to the SIMBAD TAP server, and convert the response into an astropy table\n",
        "results\n"
      ],
      "execution_count": 12,
      "outputs": [
        {
          "output_type": "execute_result",
          "data": {
            "text/html": [
              "<i>Table length=100</i>\n",
              "<table id=\"table140192743497680\" class=\"table-striped table-bordered table-condensed\">\n",
              "<thead><tr><th>numrows</th></tr></thead>\n",
              "<thead><tr><th>object</th></tr></thead>\n",
              "<tr><td>2018yCat.1345....0G</td></tr>\n",
              "<tr><td>2018yCat.1345....0G</td></tr>\n",
              "<tr><td>2018yCat.1345....0G</td></tr>\n",
              "<tr><td>2018yCat.1345....0G</td></tr>\n",
              "<tr><td>2018yCat.1345....0G</td></tr>\n",
              "<tr><td>2018yCat.1345....0G</td></tr>\n",
              "<tr><td>2018yCat.1345....0G</td></tr>\n",
              "<tr><td>2018yCat.1345....0G</td></tr>\n",
              "<tr><td>2018yCat.1345....0G</td></tr>\n",
              "<tr><td>2018yCat.1345....0G</td></tr>\n",
              "<tr><td>...</td></tr>\n",
              "<tr><td>2018yCat.1345....0G</td></tr>\n",
              "<tr><td>2018yCat.1345....0G</td></tr>\n",
              "<tr><td>2018yCat.1345....0G</td></tr>\n",
              "<tr><td>2018yCat.1345....0G</td></tr>\n",
              "<tr><td>2018yCat.1345....0G</td></tr>\n",
              "<tr><td>2018yCat.1345....0G</td></tr>\n",
              "<tr><td>2006MNRAS.367.1261M</td></tr>\n",
              "<tr><td>2018yCat.1345....0G</td></tr>\n",
              "<tr><td>2018yCat.1345....0G</td></tr>\n",
              "<tr><td>2003A&amp;A...412...45P</td></tr>\n",
              "</table>"
            ],
            "text/plain": [
              "<Table length=100>\n",
              "      numrows      \n",
              "       object      \n",
              "-------------------\n",
              "2018yCat.1345....0G\n",
              "2018yCat.1345....0G\n",
              "2018yCat.1345....0G\n",
              "2018yCat.1345....0G\n",
              "2018yCat.1345....0G\n",
              "2018yCat.1345....0G\n",
              "2018yCat.1345....0G\n",
              "2018yCat.1345....0G\n",
              "2018yCat.1345....0G\n",
              "2018yCat.1345....0G\n",
              "                ...\n",
              "2018yCat.1345....0G\n",
              "2018yCat.1345....0G\n",
              "2018yCat.1345....0G\n",
              "2018yCat.1345....0G\n",
              "2018yCat.1345....0G\n",
              "2018yCat.1345....0G\n",
              "2006MNRAS.367.1261M\n",
              "2018yCat.1345....0G\n",
              "2018yCat.1345....0G\n",
              "2003A&A...412...45P"
            ]
          },
          "metadata": {
            "tags": []
          },
          "execution_count": 12
        }
      ]
    },
    {
      "cell_type": "markdown",
      "metadata": {
        "id": "dLNYiLcM7QHA"
      },
      "source": [
        "# There are three important tables in SIMBAD: `basic`, `ident`, and `ids`. \n",
        "\n",
        "# `basic` contains the basic information for each source (positions, velocities, photometry, redshift, etc.). If a source is known by many names, there is an entry for EACH such name recognized by SIMBAD.\n",
        "\n",
        "# Each source in these tables is identified by a unique identifier, a long integer called *oid* (in `basic`) and *oidref* (in `ident`, `ids`). You can connect a source to its various names using these two columns.\n",
        "\n",
        "# You can obtain a list of references for the sources in the same way using the tables `ref` and `has_ref`."
      ]
    },
    {
      "cell_type": "code",
      "metadata": {
        "id": "BIHt29s87HXH",
        "colab": {
          "base_uri": "https://localhost:8080/",
          "height": 122
        },
        "outputId": "f4e8fddb-4336-4026-fb7a-96c6dc5aabc0"
      },
      "source": [
        "# Get some information from the basic table for the object with name 'CW Leo', which is NOT its standard SIMBAD name.\n",
        "#\n",
        "query = \"\"\"\n",
        "-- Basic data from an object given one of its identifiers.\n",
        "SELECT basic.OID,\n",
        "       RA,\n",
        "       DEC,\n",
        "       main_id AS \"Main identifier\",\n",
        "       coo_bibcode AS \"Coord Reference\",\n",
        "       nbref AS \"NbReferences\",\n",
        "       plx_value as \"Parallax\",\n",
        "       rvz_radvel as \"Radial velocity\",\n",
        "       galdim_majaxis,\n",
        "       galdim_minaxis,\n",
        "       galdim_angle AS \"Galaxy ellipse angle\"\n",
        "FROM basic JOIN ident ON oidref = oid\n",
        "WHERE id = 'CW Leo'\n",
        "\"\"\"\n",
        "results = SIMBAD_service.search(query).to_table()\n",
        "results"
      ],
      "execution_count": 14,
      "outputs": [
        {
          "output_type": "execute_result",
          "data": {
            "text/html": [
              "<i>Table length=1</i>\n",
              "<table id=\"table140192743474576\" class=\"table-striped table-bordered table-condensed\">\n",
              "<thead><tr><th>oid</th><th>ra</th><th>dec</th><th>Main identifier</th><th>Coord Reference</th><th>NbReferences</th><th>Parallax</th><th>Radial velocity</th><th>galdim_majaxis</th><th>galdim_minaxis</th><th>Galaxy ellipse angle</th></tr></thead>\n",
              "<thead><tr><th></th><th>deg</th><th>deg</th><th></th><th></th><th></th><th>mas</th><th>km / s</th><th>arcmin</th><th>arcmin</th><th>deg</th></tr></thead>\n",
              "<thead><tr><th>int64</th><th>float64</th><th>float64</th><th>object</th><th>object</th><th>int32</th><th>float64</th><th>float64</th><th>float32</th><th>float32</th><th>int16</th></tr></thead>\n",
              "<tr><td>1657507</td><td>146.989193</td><td>13.278768</td><td>IRC +10216</td><td>2003yCat.2246....0C</td><td>2200</td><td>10.79</td><td>--</td><td>--</td><td>--</td><td>--</td></tr>\n",
              "</table>"
            ],
            "text/plain": [
              "<Table length=1>\n",
              "  oid       ra        dec    ... galdim_minaxis Galaxy ellipse angle\n",
              "           deg        deg    ...     arcmin             deg         \n",
              " int64   float64    float64  ...    float32            int16        \n",
              "------- ---------- --------- ... -------------- --------------------\n",
              "1657507 146.989193 13.278768 ...             --                   --"
            ]
          },
          "metadata": {
            "tags": []
          },
          "execution_count": 14
        }
      ]
    },
    {
      "cell_type": "markdown",
      "metadata": {
        "id": "vUwY4-FY_zwA"
      },
      "source": [
        "### Get all the identifiers for one source"
      ]
    },
    {
      "cell_type": "code",
      "metadata": {
        "id": "WHQzGUQzpXDt",
        "colab": {
          "base_uri": "https://localhost:8080/",
          "height": 100
        },
        "outputId": "b2381db8-446c-4487-e9b0-2694d9b8fca4"
      },
      "source": [
        "query = \"\"\"select t0.main_id, t1.id, t2.ids from basic as t0, ident as t1, ids as t2 where t0.oid = t1.oidref and t1.id = 'CW Leo' and t1.oidref = t2.oidref\"\"\"\n",
        "results = SIMBAD_service.search(query).to_table()\n",
        "results"
      ],
      "execution_count": 22,
      "outputs": [
        {
          "output_type": "execute_result",
          "data": {
            "text/html": [
              "<i>Table length=1</i>\n",
              "<table id=\"table140192747247248\" class=\"table-striped table-bordered table-condensed\">\n",
              "<thead><tr><th>main_id</th><th>id</th><th>ids</th></tr></thead>\n",
              "<thead><tr><th>object</th><th>object</th><th>object</th></tr></thead>\n",
              "<tr><td>M  13</td><td>M  13</td><td>C 1639+365|GCl  45|M  13|NGC  6205|2MASX J16414163+3627407|[KPS2012] MWSC 2445|NAME Hercules Globular Cluster</td></tr>\n",
              "</table>"
            ],
            "text/plain": [
              "<Table length=1>\n",
              "main_id ...\n",
              " object ...\n",
              "------- ...\n",
              "  M  13 ..."
            ]
          },
          "metadata": {
            "tags": []
          },
          "execution_count": 22
        }
      ]
    },
    {
      "cell_type": "markdown",
      "metadata": {
        "id": "yUs5_Ca8Anst"
      },
      "source": [
        "# How to upload a table!\n",
        "### Get all the identifiers for a list of sources "
      ]
    },
    {
      "cell_type": "code",
      "metadata": {
        "id": "JK-E2e9DA-MW"
      },
      "source": [
        "input_tab"
      ],
      "execution_count": null,
      "outputs": []
    },
    {
      "cell_type": "code",
      "metadata": {
        "id": "z2QAlmx-At9R"
      },
      "source": [
        "query = \"\"\"select mytable.id, t2.ids from mytable, ident as t1, ids as t2 where t1.id = mytable.ID and t1.oidref = t2.oidref\"\"\"\n",
        "results = SIMBAD_service.search(query, uploads = {'mytable': 'input_tab.vot'}).to_table()\n",
        "results"
      ],
      "execution_count": null,
      "outputs": []
    },
    {
      "cell_type": "code",
      "metadata": {
        "id": "gAoka_-w8uP6"
      },
      "source": [
        "#Cone search\n",
        "query = \"\"\"\n",
        "-- Display basic data about objects contained in a given circle and whose mag B < 9.0.\n",
        "SELECT basic.OID,\n",
        "       RA,\n",
        "       DEC,\n",
        "       main_id AS \"Main identifier\",\n",
        "       coo_bibcode AS \"BiblioReference\",\n",
        "       nbref AS \"NbReferences\",\n",
        "       plx_value as \"Parallax\",\n",
        "       rvz_radvel as \"Radial velocity\",\n",
        "       galdim_majaxis,\n",
        "       galdim_minaxis,\n",
        "       galdim_angle AS \"Galaxy ellipse angle\"\n",
        "FROM basic JOIN flux ON oidref = oid\n",
        "WHERE filter = 'B'\n",
        "      AND flux < 9.0\n",
        "      AND CONTAINS(POINT('ICRS', RA, DEC), CIRCLE('ICRS', 10, 5, 1)) = 1\n",
        "ORDER BY \"Main identifier\"\n",
        "\"\"\"\n",
        "results = SIMBAD_service.search(query).to_table()\n",
        "results"
      ],
      "execution_count": null,
      "outputs": []
    }
  ]
}