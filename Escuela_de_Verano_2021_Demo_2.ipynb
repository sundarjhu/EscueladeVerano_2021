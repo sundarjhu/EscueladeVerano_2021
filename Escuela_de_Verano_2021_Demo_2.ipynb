{
  "nbformat": 4,
  "nbformat_minor": 0,
  "metadata": {
    "colab": {
      "name": "Escuela de Verano 2021 Demo 2.ipynb",
      "provenance": [],
      "authorship_tag": "ABX9TyPk3xrn1MNg40qa1hhmcxdn",
      "include_colab_link": true
    },
    "kernelspec": {
      "name": "python3",
      "display_name": "Python 3"
    },
    "language_info": {
      "name": "python"
    }
  },
  "cells": [
    {
      "cell_type": "markdown",
      "metadata": {
        "id": "view-in-github",
        "colab_type": "text"
      },
      "source": [
        "<a href=\"https://colab.research.google.com/github/sundarjhu/EscueladeVerano_2021/blob/main/Escuela_de_Verano_2021_Demo_2.ipynb\" target=\"_parent\"><img src=\"https://colab.research.google.com/assets/colab-badge.svg\" alt=\"Open In Colab\"/></a>"
      ]
    },
    {
      "cell_type": "markdown",
      "metadata": {
        "id": "XnuGivmc94gg"
      },
      "source": [
        "# **Accessing data from SIMBAD, demonstrating ADQL basics**\n",
        "---\n",
        "\n",
        "\n",
        "\n",
        "---\n",
        "\n"
      ]
    },
    {
      "cell_type": "code",
      "metadata": {
        "id": "wsnw6qMs0GJP",
        "colab": {
          "base_uri": "https://localhost:8080/"
        },
        "outputId": "b63e123b-799d-49e1-f54d-38eab634517e"
      },
      "source": [
        "from astropy.table import Table, join\n",
        "import numpy as np\n",
        "!pip install pyvo\n",
        "import pyvo as vo"
      ],
      "execution_count": 1,
      "outputs": [
        {
          "output_type": "stream",
          "text": [
            "Collecting pyvo\n",
            "  Downloading pyvo-1.1-py3-none-any.whl (802 kB)\n",
            "\u001b[?25l\r\u001b[K     |▍                               | 10 kB 18.2 MB/s eta 0:00:01\r\u001b[K     |▉                               | 20 kB 23.0 MB/s eta 0:00:01\r\u001b[K     |█▎                              | 30 kB 26.6 MB/s eta 0:00:01\r\u001b[K     |█▋                              | 40 kB 27.8 MB/s eta 0:00:01\r\u001b[K     |██                              | 51 kB 29.8 MB/s eta 0:00:01\r\u001b[K     |██▌                             | 61 kB 31.2 MB/s eta 0:00:01\r\u001b[K     |██▉                             | 71 kB 30.5 MB/s eta 0:00:01\r\u001b[K     |███▎                            | 81 kB 32.1 MB/s eta 0:00:01\r\u001b[K     |███▊                            | 92 kB 28.3 MB/s eta 0:00:01\r\u001b[K     |████                            | 102 kB 26.7 MB/s eta 0:00:01\r\u001b[K     |████▌                           | 112 kB 26.7 MB/s eta 0:00:01\r\u001b[K     |█████                           | 122 kB 26.7 MB/s eta 0:00:01\r\u001b[K     |█████▎                          | 133 kB 26.7 MB/s eta 0:00:01\r\u001b[K     |█████▊                          | 143 kB 26.7 MB/s eta 0:00:01\r\u001b[K     |██████▏                         | 153 kB 26.7 MB/s eta 0:00:01\r\u001b[K     |██████▌                         | 163 kB 26.7 MB/s eta 0:00:01\r\u001b[K     |███████                         | 174 kB 26.7 MB/s eta 0:00:01\r\u001b[K     |███████▍                        | 184 kB 26.7 MB/s eta 0:00:01\r\u001b[K     |███████▊                        | 194 kB 26.7 MB/s eta 0:00:01\r\u001b[K     |████████▏                       | 204 kB 26.7 MB/s eta 0:00:01\r\u001b[K     |████████▋                       | 215 kB 26.7 MB/s eta 0:00:01\r\u001b[K     |█████████                       | 225 kB 26.7 MB/s eta 0:00:01\r\u001b[K     |█████████▍                      | 235 kB 26.7 MB/s eta 0:00:01\r\u001b[K     |█████████▉                      | 245 kB 26.7 MB/s eta 0:00:01\r\u001b[K     |██████████▏                     | 256 kB 26.7 MB/s eta 0:00:01\r\u001b[K     |██████████▋                     | 266 kB 26.7 MB/s eta 0:00:01\r\u001b[K     |███████████                     | 276 kB 26.7 MB/s eta 0:00:01\r\u001b[K     |███████████▍                    | 286 kB 26.7 MB/s eta 0:00:01\r\u001b[K     |███████████▉                    | 296 kB 26.7 MB/s eta 0:00:01\r\u001b[K     |████████████▎                   | 307 kB 26.7 MB/s eta 0:00:01\r\u001b[K     |████████████▋                   | 317 kB 26.7 MB/s eta 0:00:01\r\u001b[K     |█████████████                   | 327 kB 26.7 MB/s eta 0:00:01\r\u001b[K     |█████████████▌                  | 337 kB 26.7 MB/s eta 0:00:01\r\u001b[K     |█████████████▉                  | 348 kB 26.7 MB/s eta 0:00:01\r\u001b[K     |██████████████▎                 | 358 kB 26.7 MB/s eta 0:00:01\r\u001b[K     |██████████████▊                 | 368 kB 26.7 MB/s eta 0:00:01\r\u001b[K     |███████████████                 | 378 kB 26.7 MB/s eta 0:00:01\r\u001b[K     |███████████████▌                | 389 kB 26.7 MB/s eta 0:00:01\r\u001b[K     |████████████████                | 399 kB 26.7 MB/s eta 0:00:01\r\u001b[K     |████████████████▎               | 409 kB 26.7 MB/s eta 0:00:01\r\u001b[K     |████████████████▊               | 419 kB 26.7 MB/s eta 0:00:01\r\u001b[K     |█████████████████▏              | 430 kB 26.7 MB/s eta 0:00:01\r\u001b[K     |█████████████████▋              | 440 kB 26.7 MB/s eta 0:00:01\r\u001b[K     |██████████████████              | 450 kB 26.7 MB/s eta 0:00:01\r\u001b[K     |██████████████████▍             | 460 kB 26.7 MB/s eta 0:00:01\r\u001b[K     |██████████████████▉             | 471 kB 26.7 MB/s eta 0:00:01\r\u001b[K     |███████████████████▏            | 481 kB 26.7 MB/s eta 0:00:01\r\u001b[K     |███████████████████▋            | 491 kB 26.7 MB/s eta 0:00:01\r\u001b[K     |████████████████████            | 501 kB 26.7 MB/s eta 0:00:01\r\u001b[K     |████████████████████▍           | 512 kB 26.7 MB/s eta 0:00:01\r\u001b[K     |████████████████████▉           | 522 kB 26.7 MB/s eta 0:00:01\r\u001b[K     |█████████████████████▎          | 532 kB 26.7 MB/s eta 0:00:01\r\u001b[K     |█████████████████████▋          | 542 kB 26.7 MB/s eta 0:00:01\r\u001b[K     |██████████████████████          | 552 kB 26.7 MB/s eta 0:00:01\r\u001b[K     |██████████████████████▌         | 563 kB 26.7 MB/s eta 0:00:01\r\u001b[K     |██████████████████████▉         | 573 kB 26.7 MB/s eta 0:00:01\r\u001b[K     |███████████████████████▎        | 583 kB 26.7 MB/s eta 0:00:01\r\u001b[K     |███████████████████████▊        | 593 kB 26.7 MB/s eta 0:00:01\r\u001b[K     |████████████████████████        | 604 kB 26.7 MB/s eta 0:00:01\r\u001b[K     |████████████████████████▌       | 614 kB 26.7 MB/s eta 0:00:01\r\u001b[K     |█████████████████████████       | 624 kB 26.7 MB/s eta 0:00:01\r\u001b[K     |█████████████████████████▎      | 634 kB 26.7 MB/s eta 0:00:01\r\u001b[K     |█████████████████████████▊      | 645 kB 26.7 MB/s eta 0:00:01\r\u001b[K     |██████████████████████████▏     | 655 kB 26.7 MB/s eta 0:00:01\r\u001b[K     |██████████████████████████▌     | 665 kB 26.7 MB/s eta 0:00:01\r\u001b[K     |███████████████████████████     | 675 kB 26.7 MB/s eta 0:00:01\r\u001b[K     |███████████████████████████▍    | 686 kB 26.7 MB/s eta 0:00:01\r\u001b[K     |███████████████████████████▊    | 696 kB 26.7 MB/s eta 0:00:01\r\u001b[K     |████████████████████████████▏   | 706 kB 26.7 MB/s eta 0:00:01\r\u001b[K     |████████████████████████████▋   | 716 kB 26.7 MB/s eta 0:00:01\r\u001b[K     |█████████████████████████████   | 727 kB 26.7 MB/s eta 0:00:01\r\u001b[K     |█████████████████████████████▍  | 737 kB 26.7 MB/s eta 0:00:01\r\u001b[K     |█████████████████████████████▉  | 747 kB 26.7 MB/s eta 0:00:01\r\u001b[K     |██████████████████████████████▏ | 757 kB 26.7 MB/s eta 0:00:01\r\u001b[K     |██████████████████████████████▋ | 768 kB 26.7 MB/s eta 0:00:01\r\u001b[K     |███████████████████████████████ | 778 kB 26.7 MB/s eta 0:00:01\r\u001b[K     |███████████████████████████████▍| 788 kB 26.7 MB/s eta 0:00:01\r\u001b[K     |███████████████████████████████▉| 798 kB 26.7 MB/s eta 0:00:01\r\u001b[K     |████████████████████████████████| 802 kB 26.7 MB/s \n",
            "\u001b[?25hCollecting mimeparse\n",
            "  Downloading mimeparse-0.1.3.tar.gz (4.4 kB)\n",
            "Requirement already satisfied: requests in /usr/local/lib/python3.7/dist-packages (from pyvo) (2.23.0)\n",
            "Requirement already satisfied: astropy in /usr/local/lib/python3.7/dist-packages (from pyvo) (4.2.1)\n",
            "Requirement already satisfied: numpy>=1.17 in /usr/local/lib/python3.7/dist-packages (from astropy->pyvo) (1.19.5)\n",
            "Requirement already satisfied: pyerfa in /usr/local/lib/python3.7/dist-packages (from astropy->pyvo) (2.0.0)\n",
            "Requirement already satisfied: certifi>=2017.4.17 in /usr/local/lib/python3.7/dist-packages (from requests->pyvo) (2021.5.30)\n",
            "Requirement already satisfied: chardet<4,>=3.0.2 in /usr/local/lib/python3.7/dist-packages (from requests->pyvo) (3.0.4)\n",
            "Requirement already satisfied: idna<3,>=2.5 in /usr/local/lib/python3.7/dist-packages (from requests->pyvo) (2.10)\n",
            "Requirement already satisfied: urllib3!=1.25.0,!=1.25.1,<1.26,>=1.21.1 in /usr/local/lib/python3.7/dist-packages (from requests->pyvo) (1.24.3)\n",
            "Building wheels for collected packages: mimeparse\n",
            "  Building wheel for mimeparse (setup.py) ... \u001b[?25l\u001b[?25hdone\n",
            "  Created wheel for mimeparse: filename=mimeparse-0.1.3-py3-none-any.whl size=3864 sha256=5e181de2a7a438b64d0e9381ce9d8a2256da169186b3507d5211cbde49b2a069\n",
            "  Stored in directory: /root/.cache/pip/wheels/49/b4/2d/0081759ae1833bd694024801f7aacddcda8a687e8d5fbaeebd\n",
            "Successfully built mimeparse\n",
            "Installing collected packages: mimeparse, pyvo\n",
            "Successfully installed mimeparse-0.1.3 pyvo-1.1\n"
          ],
          "name": "stdout"
        }
      ]
    },
    {
      "cell_type": "markdown",
      "metadata": {
        "id": "_uEohPj15t0M"
      },
      "source": [
        "## Create a table of source identifiers, save to VOTable. This will serve as input for our queries."
      ]
    },
    {
      "cell_type": "code",
      "metadata": {
        "id": "heWWfu810Oa9",
        "colab": {
          "base_uri": "https://localhost:8080/"
        },
        "outputId": "e893a40c-51df-416a-fe2e-20ebc74fd308"
      },
      "source": [
        "id = ['lam Vel', 'IRAS 16205-2626', 'eta Car', 'alp Cen', 'IRC +10216'] #unique identifiers for three stars\n",
        "hemisphere = ['Southern', 'Southern', 'Southern', 'Southern', 'Northern'] #which celestial hemisphere?\n",
        "input_tab = Table([id, hemisphere], names = ('ID', 'hemisphere'))\n",
        "input_tab.pprint()\n",
        "input_tab.write('input_tab.vot', format = 'votable', overwrite = True)"
      ],
      "execution_count": 2,
      "outputs": [
        {
          "output_type": "stream",
          "text": [
            "       ID       hemisphere\n",
            "--------------- ----------\n",
            "        lam Vel   Southern\n",
            "IRAS 16205-2626   Southern\n",
            "        eta Car   Southern\n",
            "        alp Cen   Southern\n",
            "     IRC +10216   Northern\n"
          ],
          "name": "stdout"
        }
      ]
    },
    {
      "cell_type": "markdown",
      "metadata": {
        "id": "s60IHUCypt4u"
      },
      "source": [
        "### Automatically obtain the url for the SIMBAD TAP server by doing a regsearch using PyVO"
      ]
    },
    {
      "cell_type": "code",
      "metadata": {
        "id": "_EafFjbTp1F1",
        "colab": {
          "base_uri": "https://localhost:8080/"
        },
        "outputId": "78092077-56f3-4b4b-eb0d-f670117b6b3c"
      },
      "source": [
        "r = vo.regsearch(servicetype = 'tap', keywords = ['Simbad'])\n",
        "SIMBAD_service = r[0].service"
      ],
      "execution_count": 3,
      "outputs": [
        {
          "output_type": "stream",
          "text": [
            "WARNING: UnknownElementWarning: None:3:1106: UnknownElementWarning: Unknown element mirrorURL [pyvo.utils.xml.elements]\n",
            "WARNING: UnknownElementWarning: None:125:4415: UnknownElementWarning: Unknown element mirrorURL [pyvo.utils.xml.elements]\n",
            "WARNING: UnknownElementWarning: None:125:4732: UnknownElementWarning: Unknown element mirrorURL [pyvo.utils.xml.elements]\n",
            "WARNING: UnknownElementWarning: None:125:5044: UnknownElementWarning: Unknown element mirrorURL [pyvo.utils.xml.elements]\n",
            "WARNING: UnknownElementWarning: None:125:5344: UnknownElementWarning: Unknown element mirrorURL [pyvo.utils.xml.elements]\n"
          ],
          "name": "stderr"
        }
      ]
    },
    {
      "cell_type": "code",
      "metadata": {
        "id": "wIoGtL8TqKob",
        "colab": {
          "base_uri": "https://localhost:8080/",
          "height": 35
        },
        "outputId": "41035abd-f45d-43a5-f5df-24d06b9ba00f"
      },
      "source": [
        "# This is the url to the TAP server\n",
        "SIMBAD_service.baseurl"
      ],
      "execution_count": 4,
      "outputs": [
        {
          "output_type": "execute_result",
          "data": {
            "application/vnd.google.colaboratory.intrinsic+json": {
              "type": "string"
            },
            "text/plain": [
              "'http://simbad.u-strasbg.fr:80/simbad/sim-tap'"
            ]
          },
          "metadata": {
            "tags": []
          },
          "execution_count": 4
        }
      ]
    },
    {
      "cell_type": "code",
      "metadata": {
        "id": "WKY24gZ_oKS7",
        "colab": {
          "base_uri": "https://localhost:8080/"
        },
        "outputId": "af3d2e19-98f7-41d8-df4d-937bdec51e31"
      },
      "source": [
        "#Select all columns from the first row of basic data\n",
        "query = \"\"\" SELECT top 1 * FROM basic \"\"\" # change \"1\" to any number to view that many rows in the output\n",
        "results = SIMBAD_service.search(query).to_table() #submit the ADQL query to the SIMBAD TAP server, and convert the response into an astropy table\n",
        "results.colnames\n",
        "#You can use this to inspect the column names and their content in the table"
      ],
      "execution_count": 5,
      "outputs": [
        {
          "output_type": "execute_result",
          "data": {
            "text/plain": [
              "['coo_bibcode',\n",
              " 'coo_err_angle',\n",
              " 'coo_err_maj',\n",
              " 'coo_err_maj_prec',\n",
              " 'coo_err_min',\n",
              " 'coo_err_min_prec',\n",
              " 'coo_qual',\n",
              " 'coo_wavelength',\n",
              " 'dec_prec',\n",
              " 'galdim_angle',\n",
              " 'galdim_bibcode',\n",
              " 'galdim_majaxis',\n",
              " 'galdim_majaxis_prec',\n",
              " 'galdim_minaxis',\n",
              " 'galdim_minaxis_prec',\n",
              " 'galdim_qual',\n",
              " 'hpx',\n",
              " 'morph_bibcode',\n",
              " 'morph_qual',\n",
              " 'morph_type',\n",
              " 'nbref',\n",
              " 'oid',\n",
              " 'otype',\n",
              " 'plx_bibcode',\n",
              " 'plx_err',\n",
              " 'plx_err_prec',\n",
              " 'plx_prec',\n",
              " 'plx_qual',\n",
              " 'plx_value',\n",
              " 'pm_bibcode',\n",
              " 'pm_err_angle',\n",
              " 'pm_err_maj',\n",
              " 'pm_err_maj_prec',\n",
              " 'pm_err_min',\n",
              " 'pm_err_min_prec',\n",
              " 'pm_qual',\n",
              " 'pmdec',\n",
              " 'pmdec_prec',\n",
              " 'pmra',\n",
              " 'pmra_prec',\n",
              " 'ra_prec',\n",
              " 'rvz_bibcode',\n",
              " 'rvz_err',\n",
              " 'rvz_err_prec',\n",
              " 'rvz_nature',\n",
              " 'rvz_qual',\n",
              " 'rvz_radvel',\n",
              " 'rvz_radvel_prec',\n",
              " 'rvz_redshift',\n",
              " 'rvz_redshift_prec',\n",
              " 'rvz_type',\n",
              " 'sp_bibcode',\n",
              " 'sp_qual',\n",
              " 'sp_type',\n",
              " 'update_date',\n",
              " 'vlsr',\n",
              " 'main_id',\n",
              " 'otype_txt',\n",
              " 'ra',\n",
              " 'dec']"
            ]
          },
          "metadata": {
            "tags": []
          },
          "execution_count": 5
        }
      ]
    },
    {
      "cell_type": "code",
      "metadata": {
        "id": "LQa2D7ADrygr",
        "colab": {
          "base_uri": "https://localhost:8080/",
          "height": 100
        },
        "outputId": "693d5fbc-6b79-45eb-83d3-01bd1fe00383"
      },
      "source": [
        "#How many rows are there in this table?\n",
        "query = \"\"\" select count(coo_bibcode) as NUMROWS from basic\"\"\"\n",
        "results = SIMBAD_service.search(query).to_table() #submit the ADQL query to the SIMBAD TAP server, and convert the response into an astropy table\n",
        "results"
      ],
      "execution_count": 6,
      "outputs": [
        {
          "output_type": "execute_result",
          "data": {
            "text/html": [
              "<i>Table length=1</i>\n",
              "<table id=\"table140373732583504\" class=\"table-striped table-bordered table-condensed\">\n",
              "<thead><tr><th>numrows</th></tr></thead>\n",
              "<thead><tr><th>int64</th></tr></thead>\n",
              "<tr><td>11962163</td></tr>\n",
              "</table>"
            ],
            "text/plain": [
              "<Table length=1>\n",
              "numrows \n",
              " int64  \n",
              "--------\n",
              "11962163"
            ]
          },
          "metadata": {
            "tags": []
          },
          "execution_count": 6
        }
      ]
    },
    {
      "cell_type": "code",
      "metadata": {
        "id": "kof50ErU-81f",
        "colab": {
          "base_uri": "https://localhost:8080/",
          "height": 100
        },
        "outputId": "31ec9e19-d53e-455f-8183-c1630ae583fc"
      },
      "source": [
        "#HEY, waitaminit! I asked for the column to be in all caps, why isn't it?\n",
        "#Because ADQL is case-insensitive unless you enclose the argument in quotes\n",
        "query = \"\"\" select count(coo_bibcode) as \"NUMROWS\" from basic\"\"\"\n",
        "results = SIMBAD_service.search(query).to_table() #submit the ADQL query to the SIMBAD TAP server, and convert the response into an astropy table\n",
        "results"
      ],
      "execution_count": 7,
      "outputs": [
        {
          "output_type": "execute_result",
          "data": {
            "text/html": [
              "<i>Table length=1</i>\n",
              "<table id=\"table140373732603664\" class=\"table-striped table-bordered table-condensed\">\n",
              "<thead><tr><th>NUMROWS</th></tr></thead>\n",
              "<thead><tr><th>int64</th></tr></thead>\n",
              "<tr><td>11962163</td></tr>\n",
              "</table>"
            ],
            "text/plain": [
              "<Table length=1>\n",
              "NUMROWS \n",
              " int64  \n",
              "--------\n",
              "11962163"
            ]
          },
          "metadata": {
            "tags": []
          },
          "execution_count": 7
        }
      ]
    },
    {
      "cell_type": "code",
      "metadata": {
        "id": "2fBickUisU54",
        "colab": {
          "base_uri": "https://localhost:8080/",
          "height": 528
        },
        "outputId": "dd8daa92-3cb2-4856-a867-9cad4ddb7ff1"
      },
      "source": [
        "#SUBSETS with WHERE: How many rows are there in this table with DEC < 0?\n",
        "query = \"\"\" select count(coo_bibcode) as NUMROWS from basic WHERE dec < 0\"\"\"\n",
        "results = SIMBAD_service.search(query).to_table() #submit the ADQL query to the SIMBAD TAP server, and convert the response into an astropy table\n",
        "results\n",
        "\n",
        "query = \"\"\" select top 100 coo_bibcode as NUMROWS from basic WHERE dec < 0\"\"\"\n",
        "results = SIMBAD_service.search(query).to_table() #submit the ADQL query to the SIMBAD TAP server, and convert the response into an astropy table\n",
        "results\n"
      ],
      "execution_count": 8,
      "outputs": [
        {
          "output_type": "execute_result",
          "data": {
            "text/html": [
              "<i>Table length=100</i>\n",
              "<table id=\"table140373736987920\" class=\"table-striped table-bordered table-condensed\">\n",
              "<thead><tr><th>numrows</th></tr></thead>\n",
              "<thead><tr><th>object</th></tr></thead>\n",
              "<tr><td>2018yCat.1345....0G</td></tr>\n",
              "<tr><td>2018yCat.1345....0G</td></tr>\n",
              "<tr><td>2013MNRAS.428.1281J</td></tr>\n",
              "<tr><td>2018yCat.1345....0G</td></tr>\n",
              "<tr><td>2018yCat.1345....0G</td></tr>\n",
              "<tr><td>2007A&amp;A...474..653V</td></tr>\n",
              "<tr><td>2018yCat.1345....0G</td></tr>\n",
              "<tr><td>2018yCat.1345....0G</td></tr>\n",
              "<tr><td>2018yCat.1345....0G</td></tr>\n",
              "<tr><td>2013MNRAS.428.1281J</td></tr>\n",
              "<tr><td>...</td></tr>\n",
              "<tr><td>2018yCat.1345....0G</td></tr>\n",
              "<tr><td>2016AJ....151..154G</td></tr>\n",
              "<tr><td>2018yCat.1345....0G</td></tr>\n",
              "<tr><td>2016AJ....151..154G</td></tr>\n",
              "<tr><td>2018yCat.1345....0G</td></tr>\n",
              "<tr><td>2018yCat.1345....0G</td></tr>\n",
              "<tr><td>2018yCat.1345....0G</td></tr>\n",
              "<tr><td>2018yCat.1345....0G</td></tr>\n",
              "<tr><td>2018yCat.1345....0G</td></tr>\n",
              "<tr><td>2018yCat.1345....0G</td></tr>\n",
              "</table>"
            ],
            "text/plain": [
              "<Table length=100>\n",
              "      numrows      \n",
              "       object      \n",
              "-------------------\n",
              "2018yCat.1345....0G\n",
              "2018yCat.1345....0G\n",
              "2013MNRAS.428.1281J\n",
              "2018yCat.1345....0G\n",
              "2018yCat.1345....0G\n",
              "2007A&A...474..653V\n",
              "2018yCat.1345....0G\n",
              "2018yCat.1345....0G\n",
              "2018yCat.1345....0G\n",
              "2013MNRAS.428.1281J\n",
              "                ...\n",
              "2018yCat.1345....0G\n",
              "2016AJ....151..154G\n",
              "2018yCat.1345....0G\n",
              "2016AJ....151..154G\n",
              "2018yCat.1345....0G\n",
              "2018yCat.1345....0G\n",
              "2018yCat.1345....0G\n",
              "2018yCat.1345....0G\n",
              "2018yCat.1345....0G\n",
              "2018yCat.1345....0G"
            ]
          },
          "metadata": {
            "tags": []
          },
          "execution_count": 8
        }
      ]
    },
    {
      "cell_type": "markdown",
      "metadata": {
        "id": "dLNYiLcM7QHA"
      },
      "source": [
        "# There are three important tables in SIMBAD: `basic`, `ident`, and `ids`. \n",
        "\n",
        "# `basic` contains the basic information for each source (positions, velocities, photometry, redshift, etc.). If a source is known by many names, there is an entry for EACH such name recognized by SIMBAD.\n",
        "\n",
        "# Each source in these tables is identified by a unique identifier, a long integer called *oid* (in `basic`) and *oidref* (in `ident`, `ids`). You can connect a source to its various names using these two columns.\n",
        "\n",
        "# You can obtain a list of references for the sources in the same way using the tables `ref` and `has_ref`."
      ]
    },
    {
      "cell_type": "code",
      "metadata": {
        "id": "BIHt29s87HXH",
        "colab": {
          "base_uri": "https://localhost:8080/",
          "height": 122
        },
        "outputId": "5105b9b3-b76d-42a4-f0e3-529c7dcc1ac0"
      },
      "source": [
        "# Get some information from the basic table for the object with name 'CW Leo', which is NOT its standard SIMBAD name.\n",
        "#\n",
        "query = \"\"\"\n",
        "-- Basic data from an object given one of its identifiers.\n",
        "SELECT basic.OID,\n",
        "       RA,\n",
        "       DEC,\n",
        "       main_id AS \"Main identifier\",\n",
        "       coo_bibcode AS \"Coord Reference\",\n",
        "       nbref AS \"NbReferences\",\n",
        "       plx_value as \"Parallax\",\n",
        "       rvz_radvel as \"Radial velocity\",\n",
        "       galdim_majaxis,\n",
        "       galdim_minaxis,\n",
        "       galdim_angle AS \"Galaxy ellipse angle\"\n",
        "FROM basic JOIN ident ON oidref = oid\n",
        "WHERE id = 'CW Leo'\n",
        "\"\"\"\n",
        "results = SIMBAD_service.search(query).to_table()\n",
        "results"
      ],
      "execution_count": 9,
      "outputs": [
        {
          "output_type": "execute_result",
          "data": {
            "text/html": [
              "<i>Table length=1</i>\n",
              "<table id=\"table140373732382416\" class=\"table-striped table-bordered table-condensed\">\n",
              "<thead><tr><th>oid</th><th>ra</th><th>dec</th><th>Main identifier</th><th>Coord Reference</th><th>NbReferences</th><th>Parallax</th><th>Radial velocity</th><th>galdim_majaxis</th><th>galdim_minaxis</th><th>Galaxy ellipse angle</th></tr></thead>\n",
              "<thead><tr><th></th><th>deg</th><th>deg</th><th></th><th></th><th></th><th>mas</th><th>km / s</th><th>arcmin</th><th>arcmin</th><th>deg</th></tr></thead>\n",
              "<thead><tr><th>int64</th><th>float64</th><th>float64</th><th>object</th><th>object</th><th>int32</th><th>float64</th><th>float64</th><th>float32</th><th>float32</th><th>int16</th></tr></thead>\n",
              "<tr><td>1657507</td><td>146.989193</td><td>13.278768</td><td>IRC +10216</td><td>2003yCat.2246....0C</td><td>2201</td><td>10.79</td><td>--</td><td>--</td><td>--</td><td>--</td></tr>\n",
              "</table>"
            ],
            "text/plain": [
              "<Table length=1>\n",
              "  oid       ra        dec    ... galdim_minaxis Galaxy ellipse angle\n",
              "           deg        deg    ...     arcmin             deg         \n",
              " int64   float64    float64  ...    float32            int16        \n",
              "------- ---------- --------- ... -------------- --------------------\n",
              "1657507 146.989193 13.278768 ...             --                   --"
            ]
          },
          "metadata": {
            "tags": []
          },
          "execution_count": 9
        }
      ]
    },
    {
      "cell_type": "markdown",
      "metadata": {
        "id": "vUwY4-FY_zwA"
      },
      "source": [
        "### Get all the identifiers for one source"
      ]
    },
    {
      "cell_type": "code",
      "metadata": {
        "id": "WHQzGUQzpXDt",
        "colab": {
          "base_uri": "https://localhost:8080/",
          "height": 118
        },
        "outputId": "ab75f492-7db7-46a5-d833-93b8a2f54ed6"
      },
      "source": [
        "query = \"\"\"select t0.main_id, t1.id, t2.ids from basic as t0, ident as t1, ids as t2 where t0.oid = t1.oidref and t1.id = 'CW Leo' and t1.oidref = t2.oidref\"\"\"\n",
        "results = SIMBAD_service.search(query).to_table()\n",
        "results"
      ],
      "execution_count": 10,
      "outputs": [
        {
          "output_type": "execute_result",
          "data": {
            "text/html": [
              "<i>Table length=1</i>\n",
              "<table id=\"table140373732815440\" class=\"table-striped table-bordered table-condensed\">\n",
              "<thead><tr><th>main_id</th><th>id</th><th>ids</th></tr></thead>\n",
              "<thead><tr><th>object</th><th>object</th><th>object</th></tr></thead>\n",
              "<tr><td>IRC +10216</td><td>V* CW Leo</td><td>ATO J146.9891+13.2788|LEDA 1427054|TIC 258671744|CGCS 2619|IRAS 09452+1330|IRC +10216|PK 221+45  1|RAFGL 1381|SCM  50|V* CW Leo|Zel 0945+135|[KKH2001]  55|[LFO93] 0945+13|2MASS J09475740+1316435|JCMTSE J094757.1+131644|JCMTSF J094757.1+131644|SDSS J094757.42+131643.6|LINEAR 17154286|NAME Peanut Nebula|CRTS J094757.4+131643|PN G221.4+45.0</td></tr>\n",
              "</table>"
            ],
            "text/plain": [
              "<Table length=1>\n",
              " main_id   ...\n",
              "  object   ...\n",
              "---------- ...\n",
              "IRC +10216 ..."
            ]
          },
          "metadata": {
            "tags": []
          },
          "execution_count": 10
        }
      ]
    },
    {
      "cell_type": "markdown",
      "metadata": {
        "id": "yUs5_Ca8Anst"
      },
      "source": [
        "# How to upload a table!\n",
        "### Get all the identifiers for a list of sources "
      ]
    },
    {
      "cell_type": "code",
      "metadata": {
        "id": "JK-E2e9DA-MW",
        "colab": {
          "base_uri": "https://localhost:8080/",
          "height": 186
        },
        "outputId": "1fda6e54-eede-43ba-8c1f-3386c4e73914"
      },
      "source": [
        "input_tab"
      ],
      "execution_count": 11,
      "outputs": [
        {
          "output_type": "execute_result",
          "data": {
            "text/html": [
              "<i>Table length=5</i>\n",
              "<table id=\"table140373736963920\" class=\"table-striped table-bordered table-condensed\">\n",
              "<thead><tr><th>ID</th><th>hemisphere</th></tr></thead>\n",
              "<thead><tr><th>str15</th><th>str8</th></tr></thead>\n",
              "<tr><td>lam Vel</td><td>Southern</td></tr>\n",
              "<tr><td>IRAS 16205-2626</td><td>Southern</td></tr>\n",
              "<tr><td>eta Car</td><td>Southern</td></tr>\n",
              "<tr><td>alp Cen</td><td>Southern</td></tr>\n",
              "<tr><td>IRC +10216</td><td>Northern</td></tr>\n",
              "</table>"
            ],
            "text/plain": [
              "<Table length=5>\n",
              "       ID       hemisphere\n",
              "     str15         str8   \n",
              "--------------- ----------\n",
              "        lam Vel   Southern\n",
              "IRAS 16205-2626   Southern\n",
              "        eta Car   Southern\n",
              "        alp Cen   Southern\n",
              "     IRC +10216   Northern"
            ]
          },
          "metadata": {
            "tags": []
          },
          "execution_count": 11
        }
      ]
    },
    {
      "cell_type": "code",
      "metadata": {
        "id": "z2QAlmx-At9R",
        "colab": {
          "base_uri": "https://localhost:8080/",
          "height": 308
        },
        "outputId": "43e704d0-bfb7-492f-f769-6abd76b3b024"
      },
      "source": [
        "query = \"\"\"select mytable.id, t2.ids from mytable, ident as t1, ids as t2 where t1.id = mytable.ID and t1.oidref = t2.oidref\"\"\"\n",
        "results = SIMBAD_service.search(query, uploads = {'mytable': 'input_tab.vot'}).to_table()\n",
        "results"
      ],
      "execution_count": 12,
      "outputs": [
        {
          "output_type": "execute_result",
          "data": {
            "text/html": [
              "<i>Table length=5</i>\n",
              "<table id=\"table140373736964048\" class=\"table-striped table-bordered table-condensed\">\n",
              "<thead><tr><th>ID</th><th>ids</th></tr></thead>\n",
              "<thead><tr><th>object</th><th>object</th></tr></thead>\n",
              "<tr><td>lam Vel</td><td>TIC 31975064|PLX 2187|* lam Vel|CCDM J09080-4326A|CD-42  4990|CPC  0  7024|CPD-42  3366|CSI-42  4990 21|CSV   6689|FK5  345|GC 12623|GCRV  5989|GEN# +1.00078647|GSC 07689-02617|HD  78647|HIC  44816|HIP  44816|HR  3634|IDS 09043-4302 A|JP11  1770|N30 2164|PPM 313999|SACS 200|SAO 220878|SKY# 17613|TD1 13594|TYC 7689-2617-1|UBV    8792|V* lam Vel|[CS62] E4  76|uvby98 100078647|2MASS J09075977-4325571|PLX 2187.00|WDS J09080-4326A|NAME Suhail|WEB  8567</td></tr>\n",
              "<tr><td>IRAS 16205-2626</td><td>IRAS 16205-2626</td></tr>\n",
              "<tr><td>eta Car</td><td>Gaia DR2 5350358580171706624|LLNS  2725|TIC 458859916|[ARV2008] 173|[KRL2007b] 93|* eta Car|* eta Car A|1A 1044-59|1H 1045-597|2E  2318|3A 1042-595|4U 1053-58|4U 1037-60|AAVSO 1041-59|ALS  1868|CD-59  3306|CEL   3689|CPC 20  3145|CPD-59  2620|CSI-59  2620 41|EM* MWC  214|GC 14799|GCRV  6693|GPS 1043-595|H 1044-59|HD  93308|HR  4210|Hen 3-481|IRAS 10431-5925|JP11  1994|LS 1868|MOST 1042-594|NOVA Car 1843|PPM 339408|RAFGL 4114|SAO 238429|SKY# 20584|V* eta Car|[AMM2003] 50|[S87b] IRS 23|2MASS J10450360-5941040|Cl Trumpler   16   183|JCMTSE J104503.7-594102|1E 104306-5925.2|1ES 1043-59.4|2E 1043.1-5925|CXOCyg J104503.58-594103.7|JCMTSF J104503.7-594102|XMMU J104503.8-594105|1FGL J1045.2-5942|0FGL J1045.6-5937|1AGL J1043-5936|PBC J1044.8-5942|2FGL J1045.0-5941|TYC 8626-2809-1|CSI-59-10431|GCRV  6692|* eta Car B|HD  93308B|2XMM J104503.4-594103|1AGLR J1044-5944|1AGL J1044-5937|1FHL J1045.0-5943|3FGL J1045.1-5941|SWIFT J1044.8-5941|WDS J10451-5941|WRAY 15-640|2FHL J1045.2-5942|UCAC4 152-053215|WEB  9578|3FHL J1045.1-5941|4FGL J1045.1-5940</td></tr>\n",
              "<tr><td>alp Cen</td><td>* alf Cen|2E  3308|2RE J143941-605000|2RE J1439-605|CCDM J14396-6050AB|CPD-60  5483|CSI-60  5483 43|Ci 20  875|FK5  538|GC 19728|GCRV  8519|HD 128620J|IDS 14328-6025 AB|LPM 534|RE J1439-605|RE J143944-605008|SBC7   520|1E 143556-6037.3|1ES 1435-60.6|2E 1435.9-6037|2EUVE J1439-60.8|EUVE J1439-60.8|[TSA98] J143948.42-605021.66|WDS J14396-6050AB|RX J1439.5-6050|IRAS 14359-6037|SAO 252838|1RXS J143940.4-605020|PM 14362-6038|WDS J14403-6051AB|** RHD    1|1E 143555-6037.6|CD-60  5293|** LDS  494AB|uvby98 100128620|GES J14392972-6049560</td></tr>\n",
              "<tr><td>IRC +10216</td><td>ATO J146.9891+13.2788|LEDA 1427054|TIC 258671744|CGCS 2619|IRAS 09452+1330|IRC +10216|PK 221+45  1|RAFGL 1381|SCM  50|V* CW Leo|Zel 0945+135|[KKH2001]  55|[LFO93] 0945+13|2MASS J09475740+1316435|JCMTSE J094757.1+131644|JCMTSF J094757.1+131644|SDSS J094757.42+131643.6|LINEAR 17154286|NAME Peanut Nebula|CRTS J094757.4+131643|PN G221.4+45.0</td></tr>\n",
              "</table>"
            ],
            "text/plain": [
              "<Table length=5>\n",
              "       ID       ...\n",
              "     object     ...\n",
              "--------------- ...\n",
              "        lam Vel ...\n",
              "IRAS 16205-2626 ...\n",
              "        eta Car ...\n",
              "        alp Cen ...\n",
              "     IRC +10216 ..."
            ]
          },
          "metadata": {
            "tags": []
          },
          "execution_count": 12
        }
      ]
    },
    {
      "cell_type": "markdown",
      "metadata": {
        "id": "DrYyW2gAyv-R"
      },
      "source": [
        "# Simple cone search\n",
        ">## In this example, we select the location RA = 10 deg, DEC = 5 deg, and search for SIMBAD matches within a 1 deg radius of it.\n",
        ">## We arrange the results in ascending order of angular distance using the DISTANCE function."
      ]
    },
    {
      "cell_type": "code",
      "metadata": {
        "id": "gAoka_-w8uP6",
        "colab": {
          "base_uri": "https://localhost:8080/",
          "height": 165
        },
        "outputId": "514c6f5d-f03a-4962-a9de-1e8651b99d23"
      },
      "source": [
        "query = \"\"\"\n",
        "-- Display basic data about objects contained in a given circle and whose mag B < 9.0.\n",
        "SELECT basic.OID,\n",
        "       RA,\n",
        "       DEC,\n",
        "       DISTANCE(POINT('ICRS', RA, DEC), POINT('ICRS', 10, 5)) * 60 as dist_arcmin,\n",
        "       main_id AS \"Main identifier\",\n",
        "       coo_bibcode AS \"BiblioReference\",\n",
        "       nbref AS \"NbReferences\",\n",
        "       plx_value as \"Parallax\",\n",
        "       rvz_radvel as \"Radial velocity\",\n",
        "       galdim_majaxis,\n",
        "       galdim_minaxis,\n",
        "       galdim_angle AS \"Galaxy ellipse angle\"\n",
        "FROM basic JOIN flux ON oidref = oid\n",
        "WHERE filter = 'B'\n",
        "      AND flux < 9.0\n",
        "      AND CONTAINS(POINT('ICRS', RA, DEC), CIRCLE('ICRS', 10, 5, 1)) = 1\n",
        "ORDER BY dist_arcmin\n",
        "\"\"\"\n",
        "results = SIMBAD_service.search(query).to_table()\n",
        "results"
      ],
      "execution_count": 13,
      "outputs": [
        {
          "output_type": "execute_result",
          "data": {
            "text/html": [
              "<i>Table length=3</i>\n",
              "<table id=\"table140373732608528\" class=\"table-striped table-bordered table-condensed\">\n",
              "<thead><tr><th>oid</th><th>ra</th><th>dec</th><th>dist_arcmin</th><th>Main identifier</th><th>BiblioReference</th><th>NbReferences</th><th>Parallax</th><th>Radial velocity</th><th>galdim_majaxis</th><th>galdim_minaxis</th><th>Galaxy ellipse angle</th></tr></thead>\n",
              "<thead><tr><th></th><th>deg</th><th>deg</th><th></th><th></th><th></th><th></th><th>mas</th><th>km / s</th><th>arcmin</th><th>arcmin</th><th>deg</th></tr></thead>\n",
              "<thead><tr><th>int64</th><th>float64</th><th>float64</th><th>float64</th><th>object</th><th>object</th><th>int32</th><th>float64</th><th>float64</th><th>float32</th><th>float32</th><th>int16</th></tr></thead>\n",
              "<tr><td>1404715</td><td>10.2080007087009</td><td>4.4783143611205</td><td>33.681574649245</td><td>HD   3819</td><td>2018yCat.1345....0G</td><td>12</td><td>4.2588</td><td>-3.05</td><td>--</td><td>--</td><td>--</td></tr>\n",
              "<tr><td>1404698</td><td>9.2379259243896</td><td>5.4125099414372</td><td>51.8275257870488</td><td>HD   3398</td><td>2018yCat.1345....0G</td><td>21</td><td>9.1357</td><td>1.61</td><td>--</td><td>--</td><td>--</td></tr>\n",
              "<tr><td>1414548</td><td>10.6367082889976</td><td>5.6753557257451</td><td>55.57664316161532</td><td>HD   3992</td><td>2018yCat.1345....0G</td><td>9</td><td>2.9468</td><td>--</td><td>--</td><td>--</td><td>--</td></tr>\n",
              "</table>"
            ],
            "text/plain": [
              "<Table length=3>\n",
              "  oid          ra              dec       ... galdim_minaxis Galaxy ellipse angle\n",
              "              deg              deg       ...     arcmin             deg         \n",
              " int64      float64          float64     ...    float32            int16        \n",
              "------- ---------------- --------------- ... -------------- --------------------\n",
              "1404715 10.2080007087009 4.4783143611205 ...             --                   --\n",
              "1404698  9.2379259243896 5.4125099414372 ...             --                   --\n",
              "1414548 10.6367082889976 5.6753557257451 ...             --                   --"
            ]
          },
          "metadata": {
            "tags": []
          },
          "execution_count": 13
        }
      ]
    },
    {
      "cell_type": "markdown",
      "metadata": {
        "id": "urXcgWbDzE-D"
      },
      "source": [
        "# Cone search for list of sources in an input table\n",
        ">## In this example, we select the locations (RA, DEC) specified for a list of sources in an input table and search for SIMBAD matches within a 1 arcmin radius of each position.\n",
        ">## For each source in the input table, the matches are arranged in ascending order of angular separation using the DISTANCE function. The ORDER BY clause is used to first arrange the results in order of the unique identifier, then (for each unique identifer) by increasing match distance."
      ]
    },
    {
      "cell_type": "code",
      "metadata": {
        "id": "creYpN0QQiLG",
        "colab": {
          "base_uri": "https://localhost:8080/",
          "height": 186
        },
        "outputId": "78072a19-0555-41ee-eb97-00b3e62208d4"
      },
      "source": [
        "id = [1000001, 1000012, 1005016, 1052200] #some unique long-integer identifier\n",
        "RA = [74.2, 159.4, 55.5, 355.959]\n",
        "DEC = [44.6, -13.39, 62.7, 3.209]\n",
        "input_table = Table([id, RA, DEC], names = ('ID', 'RA', 'DEC'))\n",
        "input_table.write('input_tab.vot', format = 'votable', overwrite = True)\n",
        "\n",
        "#Notice how the match radius is no longer hard-coded. We can change the radius outside\n",
        "#   of the query string as follows. The query string changes in an automated fashion.\n",
        "#   This is useful if we need to change the match radius outside the code block\n",
        "#   that contains the query. It can then be fed as an argument to the query block.\n",
        "match_radius = '2.0 / 60' #the match radius is set to 2 arc minutes.\n",
        "\n",
        "query = \"\"\"\n",
        "SELECT a.ID, a.RA, a.DEC, main_id as \"Main identifier\", \n",
        "  b.RA AS matched_RA, b.DEC AS matched_DEC, coo_bibcode AS \"Coord_BibRef\",\n",
        "  DISTANCE(POINT('ICRS', b.RA, b.DEC), POINT('ICRS', a.RA, a.DEC)) * 60 AS dist_arcmin,\n",
        "  nbref AS \"NbReferences\", plx_value AS \"Parallax\",\n",
        "  rvz_radvel AS \"Radial velocity\"\n",
        "FROM mytable a LEFT JOIN basic b\n",
        "ON CONTAINS(POINT('ICRS', b.RA, b.DEC), CIRCLE('ICRS', a.RA, a.DEC, \"\"\" + match_radius + \"\"\")) = 1\n",
        "ORDER BY ID, dist_arcmin\n",
        "\"\"\"\n",
        "\n",
        "results = SIMBAD_service.search(query, uploads = {'mytable': 'input_tab.vot'}).to_table()\n",
        "results"
      ],
      "execution_count": 14,
      "outputs": [
        {
          "output_type": "execute_result",
          "data": {
            "text/html": [
              "<i>Table length=4</i>\n",
              "<table id=\"table140373736040080\" class=\"table-striped table-bordered table-condensed\">\n",
              "<thead><tr><th>ID</th><th>RA</th><th>DEC</th><th>Main identifier</th><th>matched_ra</th><th>matched_dec</th><th>Coord_BibRef</th><th>dist_arcmin</th><th>NbReferences</th><th>Parallax</th><th>Radial velocity</th></tr></thead>\n",
              "<thead><tr><th></th><th></th><th></th><th></th><th>deg</th><th>deg</th><th></th><th></th><th></th><th>mas</th><th>km / s</th></tr></thead>\n",
              "<thead><tr><th>int64</th><th>float64</th><th>float64</th><th>object</th><th>float64</th><th>float64</th><th>object</th><th>float64</th><th>int32</th><th>float64</th><th>float64</th></tr></thead>\n",
              "<tr><td>1000001</td><td>74.2</td><td>44.6</td><td>2MASX J04565269+4435157</td><td>74.21954166666667</td><td>44.587702777777785</td><td>2006AJ....131.1163S</td><td>1.1142355907175892</td><td>6</td><td>--</td><td>10444.549540259291</td></tr>\n",
              "<tr><td>1000012</td><td>159.4</td><td>-13.39</td><td>V* U Hya</td><td>159.38863730625002</td><td>-13.384542478611111</td><td>2007A&amp;A...474..653V</td><td>0.7396666784041439</td><td>289</td><td>4.8</td><td>-25.8</td></tr>\n",
              "<tr><td>1005016</td><td>55.5</td><td>62.7</td><td></td><td>--</td><td>--</td><td></td><td>--</td><td>--</td><td>--</td><td>--</td></tr>\n",
              "<tr><td>1052200</td><td>355.959</td><td>3.209</td><td>LSPM J2343+0313</td><td>355.9472432949003</td><td>3.2295778966234</td><td>2018yCat.1345....0G</td><td>1.421422719250529</td><td>1</td><td>3.1122</td><td>--</td></tr>\n",
              "</table>"
            ],
            "text/plain": [
              "<Table length=4>\n",
              "   ID      RA     DEC   ... NbReferences Parallax  Radial velocity  \n",
              "                        ...                mas          km / s      \n",
              " int64  float64 float64 ...    int32     float64       float64      \n",
              "------- ------- ------- ... ------------ -------- ------------------\n",
              "1000001    74.2    44.6 ...            6       -- 10444.549540259291\n",
              "1000012   159.4  -13.39 ...          289      4.8              -25.8\n",
              "1005016    55.5    62.7 ...           --       --                 --\n",
              "1052200 355.959   3.209 ...            1   3.1122                 --"
            ]
          },
          "metadata": {
            "tags": []
          },
          "execution_count": 14
        }
      ]
    },
    {
      "cell_type": "markdown",
      "metadata": {
        "id": "QPlQKAJVLj_R"
      },
      "source": [
        "# Cone search for list of sources using a virtual input table\n",
        ">## This example uses the same data as the previous one; the only difference is that it avoids writing to (or reading from) a file, and doesn't require an actual file to be passed as input to the query. Instead, we use a byte stream through the BytesIO method."
      ]
    },
    {
      "cell_type": "code",
      "metadata": {
        "id": "NVrU2wRzCzQM",
        "colab": {
          "base_uri": "https://localhost:8080/",
          "height": 186
        },
        "outputId": "86aaaa04-ff8e-49a5-8487-94ecc119ef16"
      },
      "source": [
        "id = [1000001, 1000012, 1005016, 1052200] #some unique long-integer identifier\n",
        "RA = [74.2, 159.4, 55.5, 355.959]\n",
        "DEC = [44.6, -13.39, 62.7, 3.209]\n",
        "input_table = Table([id, RA, DEC], names = ('ID', 'RA', 'DEC'))\n",
        "\n",
        "#This is the only part of the code above that changes\n",
        "from io import BytesIO\n",
        "from astropy.io import votable\n",
        "votable_object = BytesIO()\n",
        "votable.writeto(votable.from_table(input_table), votable_object)\n",
        "votable_object.seek(0)\n",
        "#The rest of the code remains the same, except that we feed as input\n",
        "# to the query not the VOTable file, but the VOTable object.\n",
        "\n",
        "match_radius = str(2.0 / 60) #the match radius is set to 2 arc minutes.\n",
        "\n",
        "query = \"\"\"\n",
        "SELECT a.ID, a.RA, a.DEC, main_id as \"Main identifier\", \n",
        "  b.RA AS matched_RA, b.DEC AS matched_DEC, coo_bibcode AS \"Coord_BibRef\",\n",
        "  DISTANCE(POINT('ICRS', b.RA, b.DEC), POINT('ICRS', a.RA, a.DEC)) * 60 AS dist_arcmin,\n",
        "  nbref AS \"NbReferences\", plx_value AS \"Parallax\",\n",
        "  rvz_radvel AS \"Radial velocity\"\n",
        "FROM mytable a LEFT JOIN basic b\n",
        "ON CONTAINS(POINT('ICRS', b.RA, b.DEC), CIRCLE('ICRS', a.RA, a.DEC, \"\"\" + match_radius + \"\"\")) = 1\n",
        "ORDER BY ID, dist_arcmin\n",
        "\"\"\"\n",
        "\n",
        "#The following line has changed\n",
        "results = SIMBAD_service.search(query, uploads = {'mytable': votable_object}).to_table()\n",
        "results"
      ],
      "execution_count": 15,
      "outputs": [
        {
          "output_type": "execute_result",
          "data": {
            "text/html": [
              "<i>Table length=4</i>\n",
              "<table id=\"table140373732777872\" class=\"table-striped table-bordered table-condensed\">\n",
              "<thead><tr><th>ID</th><th>RA</th><th>DEC</th><th>Main identifier</th><th>matched_ra</th><th>matched_dec</th><th>Coord_BibRef</th><th>dist_arcmin</th><th>NbReferences</th><th>Parallax</th><th>Radial velocity</th></tr></thead>\n",
              "<thead><tr><th></th><th></th><th></th><th></th><th>deg</th><th>deg</th><th></th><th></th><th></th><th>mas</th><th>km / s</th></tr></thead>\n",
              "<thead><tr><th>int64</th><th>float64</th><th>float64</th><th>object</th><th>float64</th><th>float64</th><th>object</th><th>float64</th><th>int32</th><th>float64</th><th>float64</th></tr></thead>\n",
              "<tr><td>1000001</td><td>74.2</td><td>44.6</td><td>2MASX J04565269+4435157</td><td>74.21954166666667</td><td>44.587702777777785</td><td>2006AJ....131.1163S</td><td>1.1142355907175892</td><td>6</td><td>--</td><td>10444.549540259291</td></tr>\n",
              "<tr><td>1000012</td><td>159.4</td><td>-13.39</td><td>V* U Hya</td><td>159.38863730625002</td><td>-13.384542478611111</td><td>2007A&amp;A...474..653V</td><td>0.7396666784041439</td><td>289</td><td>4.8</td><td>-25.8</td></tr>\n",
              "<tr><td>1005016</td><td>55.5</td><td>62.7</td><td></td><td>--</td><td>--</td><td></td><td>--</td><td>--</td><td>--</td><td>--</td></tr>\n",
              "<tr><td>1052200</td><td>355.959</td><td>3.209</td><td>LSPM J2343+0313</td><td>355.9472432949003</td><td>3.2295778966234</td><td>2018yCat.1345....0G</td><td>1.421422719250529</td><td>1</td><td>3.1122</td><td>--</td></tr>\n",
              "</table>"
            ],
            "text/plain": [
              "<Table length=4>\n",
              "   ID      RA     DEC   ... NbReferences Parallax  Radial velocity  \n",
              "                        ...                mas          km / s      \n",
              " int64  float64 float64 ...    int32     float64       float64      \n",
              "------- ------- ------- ... ------------ -------- ------------------\n",
              "1000001    74.2    44.6 ...            6       -- 10444.549540259291\n",
              "1000012   159.4  -13.39 ...          289      4.8              -25.8\n",
              "1005016    55.5    62.7 ...           --       --                 --\n",
              "1052200 355.959   3.209 ...            1   3.1122                 --"
            ]
          },
          "metadata": {
            "tags": []
          },
          "execution_count": 15
        }
      ]
    },
    {
      "cell_type": "markdown",
      "metadata": {
        "id": "p7tYXQAiNNAp"
      },
      "source": [
        ">## The above method is useful when we're dealing with large tables and/or we want to manipulate the table columns before feeding it to the search, without affecting the original table."
      ]
    },
    {
      "cell_type": "code",
      "metadata": {
        "id": "PsvAoLRuM9Se",
        "colab": {
          "base_uri": "https://localhost:8080/",
          "height": 485
        },
        "outputId": "ac57e8a0-f4af-4062-85d3-b2b5e472a723"
      },
      "source": [
        "id = [1000001, 1000012, 1005016, 1052200] #some unique long-integer identifier\n",
        "RA = [74.2, 159.4, 55.5, 355.959]\n",
        "DEC = [44.6, -13.39, 62.7, 3.209]\n",
        "\n",
        "#Some extra columns that make the table somewhat larger than before\n",
        "Facility = ['Butter Glider', 'Magic Murder Bag', 'Vacuum Boom-Broom', 'The Revenge Society']\n",
        "Saturated = [True, True, False, True]\n",
        "ObsDate = ['2016', '2015', '1999', '2016']\n",
        "Observer = ['Fitzcarraldo, Malcolm', 'Killinger, Henry', 'Venture, Thaddeus S.', 'Fântomas, Hamilton G.']\n",
        "input_table = Table([id, RA, DEC, Facility, Saturated, ObsDate, Observer], \\\n",
        "                    names = ('ID', 'RA', 'DEC', 'Facility', 'Saturated', 'ObsDate', 'Observer'))\n",
        "\n",
        "from io import BytesIO\n",
        "from astropy.io import votable\n",
        "votable_object = BytesIO()\n",
        "#This line has changed. Note how only the necessary columns are being written to the VOTable object.\n",
        "votable.writeto(votable.from_table(input_table['ID', 'RA', 'DEC']), votable_object)\n",
        "votable_object.seek(0)\n",
        "\n",
        "match_radius = str(5.0 / 60) #the match radius is set to 5 arc minutes.\n",
        "\n",
        "query = \"\"\"\n",
        "SELECT a.ID, a.RA, a.DEC, main_id as \"Main identifier\", b.oid,\n",
        "  b.RA AS matched_RA, b.DEC AS matched_DEC, coo_bibcode AS \"Coord_BibRef\",\n",
        "  DISTANCE(POINT('ICRS', b.RA, b.DEC), POINT('ICRS', a.RA, a.DEC)) * 60 AS dist_arcmin,\n",
        "  nbref AS \"NbReferences\", plx_value AS \"Parallax\",\n",
        "  rvz_radvel AS \"Radial velocity\"\n",
        "FROM mytable a LEFT JOIN basic b\n",
        "ON CONTAINS(POINT('ICRS', b.RA, b.DEC), CIRCLE('ICRS', a.RA, a.DEC, \"\"\" + match_radius + \"\"\")) = 1\n",
        "ORDER BY ID, dist_arcmin ASC\n",
        "\"\"\"\n",
        "\n",
        "results = SIMBAD_service.search(query, uploads = {'mytable': votable_object}).to_table()\n",
        "\n",
        "#If needed, we can now add back the columns we ignored in the input table\n",
        "\"\"\"IMPORTANT NOTE: the query results table MUST be the first argument to the join command in order to retain the ordering of distance.\n",
        "  You can verify that this order isn't always preserved if input_table is used as the first argument by changing the line below.\n",
        "\"\"\"\n",
        "output_table = join(results, input_table, keys = ['ID', 'RA', 'DEC'], join_type = 'left')\n",
        "output_table"
      ],
      "execution_count": 32,
      "outputs": [
        {
          "output_type": "execute_result",
          "data": {
            "text/html": [
              "<i>Table length=18</i>\n",
              "<table id=\"table140373908418640\" class=\"table-striped table-bordered table-condensed\">\n",
              "<thead><tr><th>ID</th><th>RA</th><th>DEC</th><th>Main identifier</th><th>oid</th><th>matched_ra</th><th>matched_dec</th><th>Coord_BibRef</th><th>dist_arcmin</th><th>NbReferences</th><th>Parallax</th><th>Radial velocity</th><th>Facility</th><th>Saturated</th><th>ObsDate</th><th>Observer</th></tr></thead>\n",
              "<thead><tr><th></th><th></th><th></th><th></th><th></th><th>deg</th><th>deg</th><th></th><th></th><th></th><th>mas</th><th>km / s</th><th></th><th></th><th></th><th></th></tr></thead>\n",
              "<thead><tr><th>int64</th><th>float64</th><th>float64</th><th>object</th><th>int64</th><th>float64</th><th>float64</th><th>object</th><th>float64</th><th>int32</th><th>float64</th><th>float64</th><th>str19</th><th>bool</th><th>str4</th><th>str21</th></tr></thead>\n",
              "<tr><td>1000001</td><td>74.2</td><td>44.6</td><td>2MASX J04565269+4435157</td><td>259813</td><td>74.21954166666667</td><td>44.587702777777785</td><td>2006AJ....131.1163S</td><td>1.1142355907175892</td><td>6</td><td>--</td><td>10444.549540259291</td><td>Butter Glider</td><td>True</td><td>2016</td><td>Fitzcarraldo, Malcolm</td></tr>\n",
              "<tr><td>1000001</td><td>74.2</td><td>44.6</td><td>RAFGL 6319S</td><td>259685</td><td>74.18033333333334</td><td>44.544888888888885</td><td>2003yCat.2246....0C</td><td>3.4118373762729273</td><td>28</td><td>--</td><td>--</td><td>Butter Glider</td><td>True</td><td>2016</td><td>Fitzcarraldo, Malcolm</td></tr>\n",
              "<tr><td>1000001</td><td>74.2</td><td>44.6</td><td>BD+44  1060</td><td>259665</td><td>74.2362658724653</td><td>44.6539405854728</td><td>2018yCat.1345....0G</td><td>3.5878574683719457</td><td>5</td><td>10.2859</td><td>9.0</td><td>Butter Glider</td><td>True</td><td>2016</td><td>Fitzcarraldo, Malcolm</td></tr>\n",
              "<tr><td>1000001</td><td>74.2</td><td>44.6</td><td>ZOA J04570533+4433410</td><td>13394808</td><td>74.2722083</td><td>44.5613889</td><td>2016MNRAS.460..923R</td><td>3.8587007669985534</td><td>1</td><td>--</td><td>14506.400940488247</td><td>Butter Glider</td><td>True</td><td>2016</td><td>Fitzcarraldo, Malcolm</td></tr>\n",
              "<tr><td>1000001</td><td>74.2</td><td>44.6</td><td>GSC 02906-00583</td><td>260036</td><td>74.1741603053551</td><td>44.5356486149499</td><td>2018yCat.1345....0G</td><td>4.015959900184117</td><td>2</td><td>0.2718</td><td>--</td><td>Butter Glider</td><td>True</td><td>2016</td><td>Fitzcarraldo, Malcolm</td></tr>\n",
              "<tr><td>1000001</td><td>74.2</td><td>44.6</td><td>ZOA J04562585+4438320</td><td>13394804</td><td>74.1077083</td><td>44.6422222</td><td>2016MNRAS.460..923R</td><td>4.685349626800239</td><td>1</td><td>--</td><td>10364.478381972509</td><td>Butter Glider</td><td>True</td><td>2016</td><td>Fitzcarraldo, Malcolm</td></tr>\n",
              "<tr><td>1000012</td><td>159.4</td><td>-13.39</td><td>V* U Hya</td><td>1738353</td><td>159.38863730625002</td><td>-13.384542478611111</td><td>2007A&amp;A...474..653V</td><td>0.7396666784041439</td><td>289</td><td>4.8</td><td>-25.8</td><td>Magic Murder Bag</td><td>True</td><td>2015</td><td>Killinger, Henry</td></tr>\n",
              "<tr><td>1000012</td><td>159.4</td><td>-13.39</td><td>PMN J1037-1322</td><td>1738543</td><td>159.48458333333335</td><td>-13.390527777777777</td><td>1998AJ....115.1693C</td><td>4.937138897037928</td><td>1</td><td>--</td><td>--</td><td>Magic Murder Bag</td><td>True</td><td>2015</td><td>Killinger, Henry</td></tr>\n",
              "<tr><td>1005016</td><td>55.5</td><td>62.7</td><td>Gaia DR2 486856674972428928</td><td>16082858</td><td>55.57845437955</td><td>62.625958411863046</td><td>2018yCat.1345....0G</td><td>4.940510440439374</td><td>1</td><td>3.2331</td><td>--</td><td>Vacuum Boom-Broom</td><td>False</td><td>1999</td><td>Venture, Thaddeus S.</td></tr>\n",
              "<tr><td>1005016</td><td>55.5</td><td>62.7</td><td>Lan 174</td><td>256353</td><td>55.32063987494375</td><td>62.70054675657389</td><td>2018yCat.1345....0G</td><td>4.93586828596613</td><td>6</td><td>4.5335</td><td>--</td><td>Vacuum Boom-Broom</td><td>False</td><td>1999</td><td>Venture, Thaddeus S.</td></tr>\n",
              "<tr><td>1005016</td><td>55.5</td><td>62.7</td><td>TYC 4066-1091-1</td><td>6975527</td><td>55.4012330857627</td><td>62.6762962493002</td><td>2018yCat.1345....0G</td><td>3.0685456138630434</td><td>0</td><td>1.457</td><td>--</td><td>Vacuum Boom-Broom</td><td>False</td><td>1999</td><td>Venture, Thaddeus S.</td></tr>\n",
              "<tr><td>1005016</td><td>55.5</td><td>62.7</td><td>NVSS J034222+624320</td><td>256540</td><td>55.59633333333334</td><td>62.72244444444444</td><td>1996AJ....111.1945D</td><td>2.9725320982553827</td><td>1</td><td>--</td><td>--</td><td>Vacuum Boom-Broom</td><td>False</td><td>1999</td><td>Venture, Thaddeus S.</td></tr>\n",
              "<tr><td>1005016</td><td>55.5</td><td>62.7</td><td>BD+62   594</td><td>256356</td><td>55.4281888289162</td><td>62.7054291390759</td><td>2018yCat.1345....0G</td><td>2.0026585552943166</td><td>2</td><td>1.3179</td><td>-45.0</td><td>Vacuum Boom-Broom</td><td>False</td><td>1999</td><td>Venture, Thaddeus S.</td></tr>\n",
              "<tr><td>1005016</td><td>55.5</td><td>62.7</td><td>V* U Cam</td><td>256325</td><td>55.450734388653</td><td>62.6484436155601</td><td>2018yCat.1345....0G</td><td>3.3779062971311604</td><td>235</td><td>1.6427</td><td>-3.0</td><td>Vacuum Boom-Broom</td><td>False</td><td>1999</td><td>Venture, Thaddeus S.</td></tr>\n",
              "<tr><td>1052200</td><td>355.959</td><td>3.209</td><td>LSPM J2343+0313</td><td>4025935</td><td>355.9472432949003</td><td>3.2295778966234</td><td>2018yCat.1345....0G</td><td>1.421422719250529</td><td>1</td><td>3.1122</td><td>--</td><td>The Revenge Society</td><td>True</td><td>2016</td><td>Fântomas, Hamilton G.</td></tr>\n",
              "<tr><td>1052200</td><td>355.959</td><td>3.209</td><td>BPS CS 31088-0033</td><td>1402956</td><td>355.9891666666666</td><td>3.1849999999999996</td><td>1999ApJS..123..639N</td><td>2.310738107956342</td><td>1</td><td>--</td><td>--</td><td>The Revenge Society</td><td>True</td><td>2016</td><td>Fântomas, Hamilton G.</td></tr>\n",
              "<tr><td>1052200</td><td>355.959</td><td>3.209</td><td>TYC  589-78-1</td><td>6441473</td><td>355.9106938994459</td><td>3.2112726978595</td><td>2018yCat.1345....0G</td><td>2.897029154260973</td><td>0</td><td>8.0558</td><td>-8.68</td><td>The Revenge Society</td><td>True</td><td>2016</td><td>Fântomas, Hamilton G.</td></tr>\n",
              "<tr><td>1052200</td><td>355.959</td><td>3.209</td><td>[RRB2014] RM J234340.5+030920.2</td><td>13863392</td><td>355.91875</td><td>3.1555555555555554</td><td>2016ApJS..224....1R</td><td>4.012102038630162</td><td>2</td><td>--</td><td>93783.28872586829</td><td>The Revenge Society</td><td>True</td><td>2016</td><td>Fântomas, Hamilton G.</td></tr>\n",
              "</table>"
            ],
            "text/plain": [
              "<Table length=18>\n",
              "   ID      RA     DEC   ... Saturated ObsDate        Observer      \n",
              "                        ...                                        \n",
              " int64  float64 float64 ...    bool     str4          str21        \n",
              "------- ------- ------- ... --------- ------- ---------------------\n",
              "1000001    74.2    44.6 ...      True    2016 Fitzcarraldo, Malcolm\n",
              "1000001    74.2    44.6 ...      True    2016 Fitzcarraldo, Malcolm\n",
              "1000001    74.2    44.6 ...      True    2016 Fitzcarraldo, Malcolm\n",
              "1000001    74.2    44.6 ...      True    2016 Fitzcarraldo, Malcolm\n",
              "1000001    74.2    44.6 ...      True    2016 Fitzcarraldo, Malcolm\n",
              "1000001    74.2    44.6 ...      True    2016 Fitzcarraldo, Malcolm\n",
              "1000012   159.4  -13.39 ...      True    2015      Killinger, Henry\n",
              "1000012   159.4  -13.39 ...      True    2015      Killinger, Henry\n",
              "1005016    55.5    62.7 ...     False    1999  Venture, Thaddeus S.\n",
              "1005016    55.5    62.7 ...     False    1999  Venture, Thaddeus S.\n",
              "1005016    55.5    62.7 ...     False    1999  Venture, Thaddeus S.\n",
              "1005016    55.5    62.7 ...     False    1999  Venture, Thaddeus S.\n",
              "1005016    55.5    62.7 ...     False    1999  Venture, Thaddeus S.\n",
              "1005016    55.5    62.7 ...     False    1999  Venture, Thaddeus S.\n",
              "1052200 355.959   3.209 ...      True    2016 Fântomas, Hamilton G.\n",
              "1052200 355.959   3.209 ...      True    2016 Fântomas, Hamilton G.\n",
              "1052200 355.959   3.209 ...      True    2016 Fântomas, Hamilton G.\n",
              "1052200 355.959   3.209 ...      True    2016 Fântomas, Hamilton G."
            ]
          },
          "metadata": {
            "tags": []
          },
          "execution_count": 32
        }
      ]
    },
    {
      "cell_type": "markdown",
      "metadata": {
        "id": "kHGx_O_mRUgP"
      },
      "source": [
        "## Selecting only the nearest-neighbour match for each source in the above example\n",
        "> ### Since we've already arranged the matches in ascending order of distance, and performed the join using the query results as the first argument, we simply select the first entry for each source. This can be implemented using `numpy`'s `unique` method."
      ]
    },
    {
      "cell_type": "code",
      "metadata": {
        "id": "gGapvRc-OldV",
        "colab": {
          "base_uri": "https://localhost:8080/",
          "height": 186
        },
        "outputId": "781074c1-f5ae-4a71-d53c-fac8e015050f"
      },
      "source": [
        "_, u = np.unique(output_table['ID'], return_index = True)\n",
        "output_table[u]"
      ],
      "execution_count": 33,
      "outputs": [
        {
          "output_type": "execute_result",
          "data": {
            "text/html": [
              "<i>Table length=4</i>\n",
              "<table id=\"table140373732604944\" class=\"table-striped table-bordered table-condensed\">\n",
              "<thead><tr><th>ID</th><th>RA</th><th>DEC</th><th>Main identifier</th><th>oid</th><th>matched_ra</th><th>matched_dec</th><th>Coord_BibRef</th><th>dist_arcmin</th><th>NbReferences</th><th>Parallax</th><th>Radial velocity</th><th>Facility</th><th>Saturated</th><th>ObsDate</th><th>Observer</th></tr></thead>\n",
              "<thead><tr><th></th><th></th><th></th><th></th><th></th><th>deg</th><th>deg</th><th></th><th></th><th></th><th>mas</th><th>km / s</th><th></th><th></th><th></th><th></th></tr></thead>\n",
              "<thead><tr><th>int64</th><th>float64</th><th>float64</th><th>object</th><th>int64</th><th>float64</th><th>float64</th><th>object</th><th>float64</th><th>int32</th><th>float64</th><th>float64</th><th>str19</th><th>bool</th><th>str4</th><th>str21</th></tr></thead>\n",
              "<tr><td>1000001</td><td>74.2</td><td>44.6</td><td>2MASX J04565269+4435157</td><td>259813</td><td>74.21954166666667</td><td>44.587702777777785</td><td>2006AJ....131.1163S</td><td>1.1142355907175892</td><td>6</td><td>--</td><td>10444.549540259291</td><td>Butter Glider</td><td>True</td><td>2016</td><td>Fitzcarraldo, Malcolm</td></tr>\n",
              "<tr><td>1000012</td><td>159.4</td><td>-13.39</td><td>V* U Hya</td><td>1738353</td><td>159.38863730625002</td><td>-13.384542478611111</td><td>2007A&amp;A...474..653V</td><td>0.7396666784041439</td><td>289</td><td>4.8</td><td>-25.8</td><td>Magic Murder Bag</td><td>True</td><td>2015</td><td>Killinger, Henry</td></tr>\n",
              "<tr><td>1005016</td><td>55.5</td><td>62.7</td><td>Gaia DR2 486856674972428928</td><td>16082858</td><td>55.57845437955</td><td>62.625958411863046</td><td>2018yCat.1345....0G</td><td>4.940510440439374</td><td>1</td><td>3.2331</td><td>--</td><td>Vacuum Boom-Broom</td><td>False</td><td>1999</td><td>Venture, Thaddeus S.</td></tr>\n",
              "<tr><td>1052200</td><td>355.959</td><td>3.209</td><td>LSPM J2343+0313</td><td>4025935</td><td>355.9472432949003</td><td>3.2295778966234</td><td>2018yCat.1345....0G</td><td>1.421422719250529</td><td>1</td><td>3.1122</td><td>--</td><td>The Revenge Society</td><td>True</td><td>2016</td><td>Fântomas, Hamilton G.</td></tr>\n",
              "</table>"
            ],
            "text/plain": [
              "<Table length=4>\n",
              "   ID      RA     DEC   ... Saturated ObsDate        Observer      \n",
              "                        ...                                        \n",
              " int64  float64 float64 ...    bool     str4          str21        \n",
              "------- ------- ------- ... --------- ------- ---------------------\n",
              "1000001    74.2    44.6 ...      True    2016 Fitzcarraldo, Malcolm\n",
              "1000012   159.4  -13.39 ...      True    2015      Killinger, Henry\n",
              "1005016    55.5    62.7 ...     False    1999  Venture, Thaddeus S.\n",
              "1052200 355.959   3.209 ...      True    2016 Fântomas, Hamilton G."
            ]
          },
          "metadata": {
            "tags": []
          },
          "execution_count": 33
        }
      ]
    },
    {
      "cell_type": "markdown",
      "metadata": {
        "id": "brMTv4Nvw6Oa"
      },
      "source": [
        "# Obtaining a list of tables in the SIMBAD database with their descriptions\n",
        "> ### A table named `tables` contains this information"
      ]
    },
    {
      "cell_type": "code",
      "metadata": {
        "id": "9HPUcSlHxY6A",
        "outputId": "3e4a8029-a3b8-4bed-9e07-5e323dee12df",
        "colab": {
          "base_uri": "https://localhost:8080/"
        }
      },
      "source": [
        "query = \"\"\"SELECT * FROM tables\"\"\"\n",
        "results = SIMBAD_service.search(query).to_table()\n",
        "print(\"This table has {} rows.\".format(len(results)))\n",
        "results['table_name', 'description'].pprint_all()"
      ],
      "execution_count": 34,
      "outputs": [
        {
          "output_type": "stream",
          "text": [
            "This table has 34 rows.\n",
            "      table_name                                                                                         description                                                                                  \n",
            "---------------------- -------------------------------------------------------------------------------------------------------------------------------------------------------------------------------\n",
            "                 basic                                                                                                                                       General data about an astronomical object\n",
            "                   ids                                                                                                                                                all names concatenated with pipe\n",
            "              alltypes                                                                                                                                         all object types concatenated with pipe\n",
            "              otypedef                                                                                                                                  all names and definitions for the object types\n",
            "                 ident                                                                                                                                           Identifiers of an astronomical object\n",
            "                   cat                                                                                                                                                                 Catalogues name\n",
            "                  flux                                                                                                                         Magnitude/Flux information about an astronomical object\n",
            "             allfluxes                                                                                                                                all flux/magnitudes U,B,V,I,J,H,K,u_,g_,r_,i_,z_\n",
            "                filter                                                                                                                                                    Description of a flux filter\n",
            "               has_ref                                                                                                    Associations between astronomical objects and their bibliographic references\n",
            "                   ref                                                                                                                                                         Bibliographic reference\n",
            "                author                                                                                                                                             Author of a bibliographic reference\n",
            "                h_link                                                                                                                                                 hierarchy of membership measure\n",
            "           mesHerschel                                                                                                                                                      The Herschel observing Log\n",
            "                biblio                                                                                                                                                                    Bibliography\n",
            "              keywords                                                                                                                                                     List of keywords in a paper\n",
            "                mesXmm                                                                                                                                                              XMM observing log.\n",
            "         mesVelocities                                                                                                                                      Collection of HRV, Vlsr, cz and redshifts.\n",
            "                mesVar                                                                                                                            Collection of stellar variability types and periods.\n",
            "                mesRot                                                                                                                                                  Stellar Rotational Velocities.\n",
            "                 mesPM                                                                                                                                                   Collection of proper motions.\n",
            "                mesPLX                                                                                                                                         Collection of trigonometric parallaxes.\n",
            "                mesIUE                                                                                                                               International Ultraviolet Explorer observing log.\n",
            "                mesISO                                                                                                                                 Infrared Space Observatory (ISO) observing log.\n",
            "               mesFe_h                                                                                                                     Collection of metallicity, as well as Teff, logg for stars.\n",
            "           mesDiameter                                                                                                                                                Collection of stellar diameters.\n",
            "           mesDistance                                                                                                                      Collection of distances (pc, kpc or Mpc) by several means.\n",
            "    TAP_SCHEMA.schemas                                                                                                                                  List of schemas published in this TAP service.\n",
            "     TAP_SCHEMA.tables                                                                                                                                   List of tables published in this TAP service.\n",
            "    TAP_SCHEMA.columns                                                                                    List of columns of all tables listed in TAP_SCHEMA.TABLES and published in this TAP service.\n",
            "       TAP_SCHEMA.keys List all foreign keys but provides just the tables linked by the foreign key. To know which columns of these tables are linked, see in TAP_SCHEMA.key_columns using the key_id.\n",
            "TAP_SCHEMA.key_columns                     List all foreign keys but provides just the columns linked by the foreign key. To know the table of these columns, see in TAP_SCHEMA.keys using the key_id.\n",
            "                otypes                                                                                                                              List of all object types associated with an object\n",
            "                mesSpT                                                                                                                                                   Collection of spectral types.\n"
          ],
          "name": "stdout"
        }
      ]
    },
    {
      "cell_type": "markdown",
      "metadata": {
        "id": "j9UB8iaGwRqG"
      },
      "source": [
        "# Accessing references and bibliography codes from SIMBAD\n",
        "> ### The information about which publication studied which object is stored in two tables: `ref` and `has_Ref`.\n",
        "> ### `ref` contains the bibliography information for the paper and a unique identifier, `oidbib`, for each publication.\n",
        "> ### `has_Ref` connects the unique object identifiers, `oidref`, to the unique bibliography identifiers `oidbibref`.\n",
        "\n",
        "\n",
        "---\n",
        "\n",
        "## In the following, we will find publications that have studied the objects in `output_table`.\n"
      ]
    },
    {
      "cell_type": "code",
      "metadata": {
        "id": "3UNJ_9VQR4ag",
        "outputId": "e2ad8bda-c0b9-4339-9e3f-d63a43ab8402",
        "colab": {
          "base_uri": "https://localhost:8080/"
        }
      },
      "source": [
        "from io import BytesIO\n",
        "from astropy.io import votable\n",
        "votable_object = BytesIO()\n",
        "# Note how only the necessary columns are being written to the VOTable object.\n",
        "votable.writeto(votable.from_table(output_table['Main identifier', 'oid']), votable_object)\n",
        "votable_object.seek(0)\n",
        "\n",
        "# query = \"\"\"\n",
        "#             SELECT \"Main identifier\", oid, hr.oidbibref\n",
        "#             FROM mytable a, has_Ref as hr\n",
        "#             WHERE a.oid = hr.oidref\n",
        "# \"\"\"\n",
        "\n",
        "query = \"\"\"\n",
        "            SELECT \"Main identifier\", oid, r.bibcode, r.doi, r.journal, r.page, r.volume, r.\"year\", r.title\n",
        "            FROM mytable a, has_Ref as hr, ref as r\n",
        "            WHERE a.oid = hr.oidref and hr.oidbibref = r.oidbib\n",
        "\"\"\"\n",
        "\n",
        "output_table_refs = SIMBAD_service.search(query, uploads = {'mytable': votable_object}).to_table()\n",
        "\n",
        "# Combine this with the full table of results obtained from the cone search\n",
        "# The right join allows for the possibility that a given source may appear in multiple publications\n",
        "final_table = join(output_table, output_table_refs, keys = [\"Main identifier\", \"oid\"], join_type = 'right')\n",
        "\n",
        "# The url to the ADS entry for the publication can be generated from the `bibcode` column:\n",
        "final_table['biburl'] = ['https://ui.adsabs.harvard.edu/abs/' + t['bibcode'] + '/abstract' for t in output_table_refs]"
      ],
      "execution_count": 63,
      "outputs": [
        {
          "output_type": "stream",
          "text": [
            "WARNING: W03: ?:?:?: W03: Implicitly generating an ID from a name 'Main identifier' -> 'Main_identifier' [astropy.io.votable.xmlutil]\n",
            "WARNING: MergeConflictWarning: Cannot merge meta key 'ID' types <class 'str'> and <class 'str'>, choosing ID='result_S1627975900738' [astropy.utils.metadata]\n",
            "WARNING: MergeConflictWarning: Cannot merge meta key 'name' types <class 'str'> and <class 'str'>, choosing name='result_S1627975900738' [astropy.utils.metadata]\n"
          ],
          "name": "stderr"
        }
      ]
    },
    {
      "cell_type": "code",
      "metadata": {
        "id": "AVvSZ1jOzej-",
        "outputId": "22f4cfe0-cb23-484a-9864-2d4a7ff879af",
        "colab": {
          "base_uri": "https://localhost:8080/"
        }
      },
      "source": [
        "final_table[:10].pprint_all()"
      ],
      "execution_count": 64,
      "outputs": [
        {
          "output_type": "stream",
          "text": [
            "   ID    RA  DEC      Main identifier      oid       matched_ra       matched_dec         Coord_BibRef       dist_arcmin     NbReferences Parallax  Radial velocity      Facility   Saturated ObsDate        Observer             bibcode                   doi             journal page volume year                                                                   title                                                                                                biburl                            \n",
            "                                                        deg               deg                                                               mas          km / s                                                                                                                                                                                                                                                                                                                                               \n",
            "------- ---- ---- ----------------------- ------ ----------------- ------------------ ------------------- ------------------ ------------ -------- ------------------ ------------- --------- ------- --------------------- ------------------- --------------------------- ------- ---- ------ ---- ------------------------------------------------------------------------------------------------------------------------------------------ --------------------------------------------------------------\n",
            "1000001 74.2 44.6 2MASX J04565269+4435157 259813 74.21954166666667 44.587702777777785 2006AJ....131.1163S 1.1142355907175892            6       -- 10444.549540259291 Butter Glider      True    2016 Fitzcarraldo, Malcolm 2016MNRAS.460..923R        10.1093/mnras/stw968   MNRAS  923    460 2016                                             The WSRT ZoA Perseus-Pisces filament wide-field HI imaging survey - I. HI catalogue and atlas. https://ui.adsabs.harvard.edu/abs/1980A&AS...40..123W/abstract\n",
            "1000001 74.2 44.6 2MASX J04565269+4435157 259813 74.21954166666667 44.587702777777785 2006AJ....131.1163S 1.1142355907175892            6       -- 10444.549540259291 Butter Glider      True    2016 Fitzcarraldo, Malcolm 2003A&A...412...45P  10.1051/0004-6361:20031411     A&A   45    412 2003                                                                                  HYPERLEDA. I. Identification and designation of galaxies. https://ui.adsabs.harvard.edu/abs/1995A&AS..110..269W/abstract\n",
            "1000001 74.2 44.6 2MASX J04565269+4435157 259813 74.21954166666667 44.587702777777785 2006AJ....131.1163S 1.1142355907175892            6       -- 10444.549540259291 Butter Glider      True    2016 Fitzcarraldo, Malcolm 2000A&AS..144..475P         10.1051/aas:2000345    A&AS  475    144 2000                              Galaxy coordinates. III. Accurate positions for 17124 galaxies including 3301 new companions of UGC galaxies. https://ui.adsabs.harvard.edu/abs/1997A&AS..126..247S/abstract\n",
            "1000001 74.2 44.6 2MASX J04565269+4435157 259813 74.21954166666667 44.587702777777785 2006AJ....131.1163S 1.1142355907175892            6       -- 10444.549540259291 Butter Glider      True    2016 Fitzcarraldo, Malcolm 1997A&AS..126..247S         10.1051/aas:1997385    A&AS  247    126 1997 Penetrating the ``zone of avoidance''. IV. An optical survey for hidden galaxies in the region 130{deg}<=l<=180{deg}, -5{deg}<=b<=+5{deg}. https://ui.adsabs.harvard.edu/abs/2000A&AS..144..475P/abstract\n",
            "1000001 74.2 44.6 2MASX J04565269+4435157 259813 74.21954166666667 44.587702777777785 2006AJ....131.1163S 1.1142355907175892            6       -- 10444.549540259291 Butter Glider      True    2016 Fitzcarraldo, Malcolm 1995A&AS..110..269W                                A&AS  269    110 1995                      Penetrating the \"zone of avoidance\". I. A compilation of optically identified extragalactic objects within |b|<=5deg. https://ui.adsabs.harvard.edu/abs/2003A&A...412...45P/abstract\n",
            "1000001 74.2 44.6 2MASX J04565269+4435157 259813 74.21954166666667 44.587702777777785 2006AJ....131.1163S 1.1142355907175892            6       -- 10444.549540259291 Butter Glider      True    2016 Fitzcarraldo, Malcolm 1980A&AS...40..123W                                A&AS  123     40 1980                                                                                                 Galaxies near the northern galactic plane. https://ui.adsabs.harvard.edu/abs/2016MNRAS.460..923R/abstract\n",
            "1000001 74.2 44.6             BD+44  1060 259665  74.2362658724653   44.6539405854728 2018yCat.1345....0G 3.5878574683719457            5  10.2859                9.0 Butter Glider      True    2016 Fitzcarraldo, Malcolm 1995A&AS..114..269D                                A&AS  269    114 1995                               Vitesses radiales. Catalogue WEB: Wilson Evans Batten. Radial velocities: The Wilson-Evans-Batten catalogue. https://ui.adsabs.harvard.edu/abs/1985PASP...97..303C/abstract\n",
            "1000001 74.2 44.6             BD+44  1060 259665  74.2362658724653   44.6539405854728 2018yCat.1345....0G 3.5878574683719457            5  10.2859                9.0 Butter Glider      True    2016 Fitzcarraldo, Malcolm 2018A&A...609A.116R 10.1051/0004-6361/201731572     A&A  116    609 2018                           Empirical photometric calibration of the Gaia red clump: Colours, effective temperature, and absolute magnitude. https://ui.adsabs.harvard.edu/abs/1986A&AS...65..607O/abstract\n",
            "1000001 74.2 44.6             BD+44  1060 259665  74.2362658724653   44.6539405854728 2018yCat.1345....0G 3.5878574683719457            5  10.2859                9.0 Butter Glider      True    2016 Fitzcarraldo, Malcolm 2019MNRAS.490.3158C       10.1093/mnras/stz2803   MNRAS 3158    490 2019                                                               A catalogue of stellar diameters and fluxes for mid-infrared interferometry. https://ui.adsabs.harvard.edu/abs/1986ApJ...304..401Z/abstract\n",
            "1000001 74.2 44.6             BD+44  1060 259665  74.2362658724653   44.6539405854728 2018yCat.1345....0G 3.5878574683719457            5  10.2859                9.0 Butter Glider      True    2016 Fitzcarraldo, Malcolm 1963JO.....46..243B                                  JO  243     46 1963                             Etude pour chaque champ de l'absorption et de la repartition des vitesses radiales en fonction de la distance. https://ui.adsabs.harvard.edu/abs/1986ApJ...311..345Z/abstract\n"
          ],
          "name": "stdout"
        }
      ]
    }
  ]
}