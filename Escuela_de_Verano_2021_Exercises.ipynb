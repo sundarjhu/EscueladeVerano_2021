{
  "nbformat": 4,
  "nbformat_minor": 0,
  "metadata": {
    "colab": {
      "name": "Escuela de Verano 2021 Exercises.ipynb",
      "provenance": [],
      "collapsed_sections": [],
      "include_colab_link": true
    },
    "kernelspec": {
      "name": "python3",
      "display_name": "Python 3"
    },
    "language_info": {
      "name": "python"
    }
  },
  "cells": [
    {
      "cell_type": "markdown",
      "metadata": {
        "id": "view-in-github",
        "colab_type": "text"
      },
      "source": [
        "<a href=\"https://colab.research.google.com/github/sundarjhu/EscueladeVerano_2021/blob/main/Escuela_de_Verano_2021_Exercises.ipynb\" target=\"_parent\"><img src=\"https://colab.research.google.com/assets/colab-badge.svg\" alt=\"Open In Colab\"/></a>"
      ]
    },
    {
      "cell_type": "code",
      "metadata": {
        "id": "s51TEzfLs1R8"
      },
      "source": [
        "__author__ = 'Sundar Srinivasan <s.srinivasan@irya.unam.mx>'\n",
        "__version__ = '20210803'\n",
        "__datasets__ = ['SIMBAD']  # datos usados en este notebook\n",
        "__keywords__ = ['Escuela de Verano', '2021', 'IRyA', 'UNAM', 'SIMBAD', 'Vizier', 'ADQL', 'Exercises'], # palabras clave relevantes a este notebook"
      ],
      "execution_count": null,
      "outputs": []
    },
    {
      "cell_type": "markdown",
      "metadata": {
        "id": "484-qqwKmDyP"
      },
      "source": [
        "# Instructions for these exercises\n",
        "> ## You are welcome to use any of the methods/scripts discussed in the demos. These exercises can be implemented in more than one way. Use whichever one works for you!\n",
        "> ## Attempt as many of the following as you can. Do not worry if the last exercise, for example, doesn't work.\n",
        ">\n",
        "> ## Please add comments/discussion to your code to explain what you've done. Spanish is fine!\n",
        ">\n",
        "> ## When you are done, save this notebook (File --> Download --> Download .ipynb) and attach the document as your submission to the Moodle platform.\n",
        "> ### Instructions on how to do this: [in English](https://www.youtube.com/watch?v=pRWA9XoTIJQ) and [en Español](https://www.youtube.com/watch?v=Xi5fJYEtCV8).\n",
        "---\n",
        "\n",
        "\n",
        "## ADQL resources:\n",
        ">\n",
        "1.   The [ADQL cookbook](https://www.gaia.ac.uk/data/gaia-data-release-1/adql-cookbook) hosted by the UK Gaia collaboration\n",
        "2.   The NAVO workshop (Github repository with Python notebooks [here](https://github.com/nasa-navo/navo-workshop), video [here](https://www.youtube.com/watch?v=fIvTQ2iZscU))\n",
        "3.   SIMBAD's [ADQL cheatsheet] (http://simbad.u-strasbg.fr/simbad/tap/help/adqlHelp.html). You can also check out some of their examples [here] (http://simbad.u-strasbg.fr/simbad/sim-tap) (click on the dropdown menu under \"ADQL QUERY TO EXECUTE (or choose an example)\").\n",
        "4.   Vizier's [ADQL cheatsheet] (http://tapvizier.u-strasbg.fr/adql/help.html)"
      ]
    },
    {
      "cell_type": "code",
      "metadata": {
        "id": "3jYzBh1QuNFq"
      },
      "source": [
        "# Some basics are installed/imported for you\n",
        "\n",
        "try:\n",
        "  import pyvo as vo\n",
        "except ImportError:\n",
        "  !pip install pyvo\n",
        "  import pyvo as vo\n",
        "\n",
        "r = vo.regsearch(servicetype = 'tap', keywords = ['Simbad'])\n",
        "SIMBAD_service = r[0].service\n",
        "\n",
        "r = vo.regsearch(servicetype = 'tap', keywords = ['Vizier'])\n",
        "# There are two servers, the backup server doesn't allow uploads. Choose the correct one.\n",
        "k = int(np.nonzero(['obstap' not in rr['ivoid'] for rr in r])[0]) # avoid the column corresponding to the url that doesn't accept uploads\n",
        "Vizier_service = r[k].service\n",
        "\n",
        "from io import BytesIO\n",
        "from astropy.io import votable"
      ],
      "execution_count": null,
      "outputs": []
    },
    {
      "cell_type": "markdown",
      "metadata": {
        "id": "lPHQkkeyppGV"
      },
      "source": [
        "# 1. Find the SIMBAD entry for the globular cluster \"omega Centauri\"\n",
        "> ### Columns to retrieve: `RA`, `DEC`, `main_id`, and `oid`\n",
        "> ### Print out the main identifer (`main_id`). Note that it is not \"omega Centauri\"."
      ]
    },
    {
      "cell_type": "code",
      "metadata": {
        "id": "8EZEsQpSg4fL"
      },
      "source": [
        "# Fill in the appropriate query here\n",
        "query = \"\"\"\n",
        "\n",
        "\"\"\"\n",
        "\n",
        "result1 = SIMBAD_service.search(query).to_table()\n",
        "print(\"The SIMBAD main identifier for the cluster is {}\".format(result1['main_id'][0]))"
      ],
      "execution_count": null,
      "outputs": []
    },
    {
      "cell_type": "markdown",
      "metadata": {
        "id": "7MmEWSJYhiQe"
      },
      "source": [
        "# 2a. Do a bibliography search and find the most recent paper that studied the Cluster\n",
        "> ### Specifically, find the latest paper that has the phrases \"tidal radius\" and \"%omega%Cen\" in its `abstract`.\n",
        "> ### The query should extract all the information necessary to construct a URL to the paper's entry on the ADS (see example in Demo Session 2)."
      ]
    },
    {
      "cell_type": "code",
      "metadata": {
        "id": "4LthItd5hv1z"
      },
      "source": [
        "# Fill in the appropriate query here\n",
        "query = \"\"\"\n",
        "\n",
        "\"\"\"\n",
        "\n",
        "result2 = SIMBAD_service.search(query).to_table()"
      ],
      "execution_count": null,
      "outputs": []
    },
    {
      "cell_type": "markdown",
      "metadata": {
        "id": "g3RP49PAiYbs"
      },
      "source": [
        "# 2b. Finding the tidal radius (approximate angular size) of the cluster\n",
        "> ### Follow the URL to the PDF of the most recent paper. Consult Table 1 of the paper. Here, you will find the value of the tidal radius of the cluster in arcmin.\n",
        "> ### Change the value of the variable `radius_arcmin` to the appropriate value below\n",
        "> ### If you couldn't find the tidal radius, let `` be set to 60 arcmin as below."
      ]
    },
    {
      "cell_type": "code",
      "metadata": {
        "id": "MXRk64RCiWrh"
      },
      "source": [
        "#Note that the step of finding the tidal radius is MANUAL! This is the only manual step in the exercises.\n",
        "radius_arcmin = 60 # Change this to the radius you find it in Table 1 of the paper\n",
        "radius_deg = str(radius_arcmin / 60.)"
      ],
      "execution_count": 1,
      "outputs": []
    },
    {
      "cell_type": "markdown",
      "metadata": {
        "id": "g11B4owxjNTW"
      },
      "source": [
        "# 3. Perform a cone search for C-, M-, or K-type stars within `radius_deg` of the cluster centre.\n",
        "> ### Columns to retrieve: `oid`, `main_id`, and `sp_type` (spectral type of all the stars within the matching radius).\n",
        "> ### Hint: check that stars are within the radius using `CONTAINS`, AND restrict their spectral types with `(sp_type LIKE 'K%' or sp_type LIKE 'C%' or sp_type LIKE 'M%')`\n",
        ">\n",
        "> ### How many sources are in your final table?"
      ]
    },
    {
      "cell_type": "code",
      "metadata": {
        "id": "FeZHqbjSjK9J"
      },
      "source": [
        "# Fill in the appropriate query here\n",
        "query = \"\"\"\n",
        "\n",
        "\"\"\"\n",
        "\n",
        "result3 = SIMBAD_service.search(query).to_table()\n",
        "\n",
        "# write code below to tell me how many sources there are in result3\n"
      ],
      "execution_count": null,
      "outputs": []
    },
    {
      "cell_type": "markdown",
      "metadata": {
        "id": "rRCBzvUKlPJF"
      },
      "source": [
        "# 4. Find the 2MASS counterparts, if available, for each source\n",
        "> ### Check SIMBAD's `ident` table to see if the `oid` corresponding to each row in `result3` has a counterpart in the 2MASS All-Sky Point Source Catalogue.\n",
        "> ### Hint: for each `oid`, find the row in `ident` such that `ident.id` starts WITH '2MASS J'\n",
        ">\n",
        "> ### How many sources from `result3` do NOT have 2MASS counterparts?"
      ]
    },
    {
      "cell_type": "code",
      "metadata": {
        "id": "sbDO5vnhlQWA"
      },
      "source": [
        "# Fill in the appropriate query here\n",
        "# Collect the 2MASS identifiers into a column named `TMASS_ID`\n",
        "query = \"\"\"\n",
        "\n",
        "\"\"\"\n",
        "\n",
        "# results3 is now uploaded to the SIMBAD TAP server as `mytable`, and it should\n",
        "# be used in the query above.\n",
        "votable_object = BytesIO()\n",
        "votable.writeto(votable.from_table(results3), votable_object)\n",
        "votable_object.seek(0)\n",
        "\n",
        "result4 = SIMBAD_service.search(query, uploads = {'mytable': votable_object}).to_table()\n",
        "\n",
        "# write code below to tell me how many sources from `results3` don't have 2MASS counterparts in `results4`.\n",
        "\n",
        "# Extra line: modify the 2MASS identifier column in `results4` to remove the \"2MASS J\" prefix\n",
        "#             This is done to correctly match the format in the 2MASS point-source catalogue table (see next cell)\n",
        "result4['TMASS_ID'] = [rr['TMASS_ID'].replace('2MASS J', '') for rr in result4]"
      ],
      "execution_count": null,
      "outputs": []
    },
    {
      "cell_type": "markdown",
      "metadata": {
        "id": "vAJHvB6hoBts"
      },
      "source": [
        "# 5. Obtain the 2MASS photometry from VizieR\n",
        "> ### Select the columns `magJ` and `magK` from the 2MASS point-source catalogue on VizieR (table ID: `'II/246/out'`)\n",
        "> ### Hint: for each `oid`, find the row in `'II/246/out'` such that `TMASS_ID` from `results4` is equal to `\"2MASS\"` in `'II/246/out'`"
      ]
    },
    {
      "cell_type": "code",
      "metadata": {
        "id": "OBz0BLBNoDSh"
      },
      "source": [
        "Vizier_table_id = 'II/246/out'\n",
        "# Fill in the appropriate query here\n",
        "query = \"\"\"\n",
        "\n",
        "\"\"\"\n",
        "\n",
        "# results3 is now uploaded to the SIMBAD TAP server as `mytable`, and it should\n",
        "# be used in the query above.\n",
        "votable_object = BytesIO()\n",
        "votable.writeto(votable.from_table(results4), votable_object)\n",
        "votable_object.seek(0)\n",
        "\n",
        "result5 = Vizier_service.search(query, uploads = {'mytable': votable_object}).to_table()\n",
        "\n",
        "# write code below to plot a K vs J-K colour-magnitude diagram showing all the sources in result5.\n",
        "\n",
        "\n"
      ],
      "execution_count": null,
      "outputs": []
    }
  ]
}