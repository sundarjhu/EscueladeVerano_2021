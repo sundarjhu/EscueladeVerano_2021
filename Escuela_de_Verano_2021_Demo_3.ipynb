{
  "nbformat": 4,
  "nbformat_minor": 0,
  "metadata": {
    "colab": {
      "name": "Escuela de Verano 2021 Demo 3.ipynb",
      "provenance": [],
      "authorship_tag": "ABX9TyMNe0wFPq0BNimJF4fVV71I",
      "include_colab_link": true
    },
    "kernelspec": {
      "name": "python3",
      "display_name": "Python 3"
    },
    "language_info": {
      "name": "python"
    }
  },
  "cells": [
    {
      "cell_type": "markdown",
      "metadata": {
        "id": "view-in-github",
        "colab_type": "text"
      },
      "source": [
        "<a href=\"https://colab.research.google.com/github/sundarjhu/EscueladeVerano_2021/blob/main/Escuela_de_Verano_2021_Demo_3.ipynb\" target=\"_parent\"><img src=\"https://colab.research.google.com/assets/colab-badge.svg\" alt=\"Open In Colab\"/></a>"
      ]
    },
    {
      "cell_type": "markdown",
      "metadata": {
        "id": "XnuGivmc94gg"
      },
      "source": [
        "# **Accessing data from published tables on Vizier**\n",
        "---\n",
        "### Vizier consists of a collection of tables published as part of individual papers, which are accessed using their unique identifiers.\n",
        "\n",
        "\n",
        "---\n",
        "\n"
      ]
    },
    {
      "cell_type": "code",
      "metadata": {
        "id": "wsnw6qMs0GJP",
        "colab": {
          "base_uri": "https://localhost:8080/"
        },
        "outputId": "3e5c22ac-e990-422c-9015-dfdad5581fa7"
      },
      "source": [
        "from astropy.table import Table, join\n",
        "import numpy as np\n",
        "!pip install pyvo\n",
        "import pyvo as vo"
      ],
      "execution_count": 2,
      "outputs": [
        {
          "output_type": "stream",
          "text": [
            "Collecting pyvo\n",
            "  Downloading pyvo-1.1-py3-none-any.whl (802 kB)\n",
            "\u001b[?25l\r\u001b[K     |▍                               | 10 kB 23.5 MB/s eta 0:00:01\r\u001b[K     |▉                               | 20 kB 28.8 MB/s eta 0:00:01\r\u001b[K     |█▎                              | 30 kB 13.3 MB/s eta 0:00:01\r\u001b[K     |█▋                              | 40 kB 10.0 MB/s eta 0:00:01\r\u001b[K     |██                              | 51 kB 5.4 MB/s eta 0:00:01\r\u001b[K     |██▌                             | 61 kB 5.9 MB/s eta 0:00:01\r\u001b[K     |██▉                             | 71 kB 5.7 MB/s eta 0:00:01\r\u001b[K     |███▎                            | 81 kB 6.4 MB/s eta 0:00:01\r\u001b[K     |███▊                            | 92 kB 4.8 MB/s eta 0:00:01\r\u001b[K     |████                            | 102 kB 5.2 MB/s eta 0:00:01\r\u001b[K     |████▌                           | 112 kB 5.2 MB/s eta 0:00:01\r\u001b[K     |█████                           | 122 kB 5.2 MB/s eta 0:00:01\r\u001b[K     |█████▎                          | 133 kB 5.2 MB/s eta 0:00:01\r\u001b[K     |█████▊                          | 143 kB 5.2 MB/s eta 0:00:01\r\u001b[K     |██████▏                         | 153 kB 5.2 MB/s eta 0:00:01\r\u001b[K     |██████▌                         | 163 kB 5.2 MB/s eta 0:00:01\r\u001b[K     |███████                         | 174 kB 5.2 MB/s eta 0:00:01\r\u001b[K     |███████▍                        | 184 kB 5.2 MB/s eta 0:00:01\r\u001b[K     |███████▊                        | 194 kB 5.2 MB/s eta 0:00:01\r\u001b[K     |████████▏                       | 204 kB 5.2 MB/s eta 0:00:01\r\u001b[K     |████████▋                       | 215 kB 5.2 MB/s eta 0:00:01\r\u001b[K     |█████████                       | 225 kB 5.2 MB/s eta 0:00:01\r\u001b[K     |█████████▍                      | 235 kB 5.2 MB/s eta 0:00:01\r\u001b[K     |█████████▉                      | 245 kB 5.2 MB/s eta 0:00:01\r\u001b[K     |██████████▏                     | 256 kB 5.2 MB/s eta 0:00:01\r\u001b[K     |██████████▋                     | 266 kB 5.2 MB/s eta 0:00:01\r\u001b[K     |███████████                     | 276 kB 5.2 MB/s eta 0:00:01\r\u001b[K     |███████████▍                    | 286 kB 5.2 MB/s eta 0:00:01\r\u001b[K     |███████████▉                    | 296 kB 5.2 MB/s eta 0:00:01\r\u001b[K     |████████████▎                   | 307 kB 5.2 MB/s eta 0:00:01\r\u001b[K     |████████████▋                   | 317 kB 5.2 MB/s eta 0:00:01\r\u001b[K     |█████████████                   | 327 kB 5.2 MB/s eta 0:00:01\r\u001b[K     |█████████████▌                  | 337 kB 5.2 MB/s eta 0:00:01\r\u001b[K     |█████████████▉                  | 348 kB 5.2 MB/s eta 0:00:01\r\u001b[K     |██████████████▎                 | 358 kB 5.2 MB/s eta 0:00:01\r\u001b[K     |██████████████▊                 | 368 kB 5.2 MB/s eta 0:00:01\r\u001b[K     |███████████████                 | 378 kB 5.2 MB/s eta 0:00:01\r\u001b[K     |███████████████▌                | 389 kB 5.2 MB/s eta 0:00:01\r\u001b[K     |████████████████                | 399 kB 5.2 MB/s eta 0:00:01\r\u001b[K     |████████████████▎               | 409 kB 5.2 MB/s eta 0:00:01\r\u001b[K     |████████████████▊               | 419 kB 5.2 MB/s eta 0:00:01\r\u001b[K     |█████████████████▏              | 430 kB 5.2 MB/s eta 0:00:01\r\u001b[K     |█████████████████▋              | 440 kB 5.2 MB/s eta 0:00:01\r\u001b[K     |██████████████████              | 450 kB 5.2 MB/s eta 0:00:01\r\u001b[K     |██████████████████▍             | 460 kB 5.2 MB/s eta 0:00:01\r\u001b[K     |██████████████████▉             | 471 kB 5.2 MB/s eta 0:00:01\r\u001b[K     |███████████████████▏            | 481 kB 5.2 MB/s eta 0:00:01\r\u001b[K     |███████████████████▋            | 491 kB 5.2 MB/s eta 0:00:01\r\u001b[K     |████████████████████            | 501 kB 5.2 MB/s eta 0:00:01\r\u001b[K     |████████████████████▍           | 512 kB 5.2 MB/s eta 0:00:01\r\u001b[K     |████████████████████▉           | 522 kB 5.2 MB/s eta 0:00:01\r\u001b[K     |█████████████████████▎          | 532 kB 5.2 MB/s eta 0:00:01\r\u001b[K     |█████████████████████▋          | 542 kB 5.2 MB/s eta 0:00:01\r\u001b[K     |██████████████████████          | 552 kB 5.2 MB/s eta 0:00:01\r\u001b[K     |██████████████████████▌         | 563 kB 5.2 MB/s eta 0:00:01\r\u001b[K     |██████████████████████▉         | 573 kB 5.2 MB/s eta 0:00:01\r\u001b[K     |███████████████████████▎        | 583 kB 5.2 MB/s eta 0:00:01\r\u001b[K     |███████████████████████▊        | 593 kB 5.2 MB/s eta 0:00:01\r\u001b[K     |████████████████████████        | 604 kB 5.2 MB/s eta 0:00:01\r\u001b[K     |████████████████████████▌       | 614 kB 5.2 MB/s eta 0:00:01\r\u001b[K     |█████████████████████████       | 624 kB 5.2 MB/s eta 0:00:01\r\u001b[K     |█████████████████████████▎      | 634 kB 5.2 MB/s eta 0:00:01\r\u001b[K     |█████████████████████████▊      | 645 kB 5.2 MB/s eta 0:00:01\r\u001b[K     |██████████████████████████▏     | 655 kB 5.2 MB/s eta 0:00:01\r\u001b[K     |██████████████████████████▌     | 665 kB 5.2 MB/s eta 0:00:01\r\u001b[K     |███████████████████████████     | 675 kB 5.2 MB/s eta 0:00:01\r\u001b[K     |███████████████████████████▍    | 686 kB 5.2 MB/s eta 0:00:01\r\u001b[K     |███████████████████████████▊    | 696 kB 5.2 MB/s eta 0:00:01\r\u001b[K     |████████████████████████████▏   | 706 kB 5.2 MB/s eta 0:00:01\r\u001b[K     |████████████████████████████▋   | 716 kB 5.2 MB/s eta 0:00:01\r\u001b[K     |█████████████████████████████   | 727 kB 5.2 MB/s eta 0:00:01\r\u001b[K     |█████████████████████████████▍  | 737 kB 5.2 MB/s eta 0:00:01\r\u001b[K     |█████████████████████████████▉  | 747 kB 5.2 MB/s eta 0:00:01\r\u001b[K     |██████████████████████████████▏ | 757 kB 5.2 MB/s eta 0:00:01\r\u001b[K     |██████████████████████████████▋ | 768 kB 5.2 MB/s eta 0:00:01\r\u001b[K     |███████████████████████████████ | 778 kB 5.2 MB/s eta 0:00:01\r\u001b[K     |███████████████████████████████▍| 788 kB 5.2 MB/s eta 0:00:01\r\u001b[K     |███████████████████████████████▉| 798 kB 5.2 MB/s eta 0:00:01\r\u001b[K     |████████████████████████████████| 802 kB 5.2 MB/s \n",
            "\u001b[?25hRequirement already satisfied: astropy in /usr/local/lib/python3.7/dist-packages (from pyvo) (4.2.1)\n",
            "Requirement already satisfied: requests in /usr/local/lib/python3.7/dist-packages (from pyvo) (2.23.0)\n",
            "Collecting mimeparse\n",
            "  Downloading mimeparse-0.1.3.tar.gz (4.4 kB)\n",
            "Requirement already satisfied: numpy>=1.17 in /usr/local/lib/python3.7/dist-packages (from astropy->pyvo) (1.19.5)\n",
            "Requirement already satisfied: pyerfa in /usr/local/lib/python3.7/dist-packages (from astropy->pyvo) (2.0.0)\n",
            "Requirement already satisfied: idna<3,>=2.5 in /usr/local/lib/python3.7/dist-packages (from requests->pyvo) (2.10)\n",
            "Requirement already satisfied: certifi>=2017.4.17 in /usr/local/lib/python3.7/dist-packages (from requests->pyvo) (2021.5.30)\n",
            "Requirement already satisfied: urllib3!=1.25.0,!=1.25.1,<1.26,>=1.21.1 in /usr/local/lib/python3.7/dist-packages (from requests->pyvo) (1.24.3)\n",
            "Requirement already satisfied: chardet<4,>=3.0.2 in /usr/local/lib/python3.7/dist-packages (from requests->pyvo) (3.0.4)\n",
            "Building wheels for collected packages: mimeparse\n",
            "  Building wheel for mimeparse (setup.py) ... \u001b[?25l\u001b[?25hdone\n",
            "  Created wheel for mimeparse: filename=mimeparse-0.1.3-py3-none-any.whl size=3864 sha256=5ded9bdbf5c1b7ee70ccfd6d8caea1832fe651d9ccf2b8f71b36a1472d28fd30\n",
            "  Stored in directory: /root/.cache/pip/wheels/49/b4/2d/0081759ae1833bd694024801f7aacddcda8a687e8d5fbaeebd\n",
            "Successfully built mimeparse\n",
            "Installing collected packages: mimeparse, pyvo\n",
            "Successfully installed mimeparse-0.1.3 pyvo-1.1\n"
          ],
          "name": "stdout"
        }
      ]
    },
    {
      "cell_type": "markdown",
      "metadata": {
        "id": "ZlL0O-Jqg7IS"
      },
      "source": [
        "### The Vizier TAP service is available through two urls. One of the them is the backup url, which doesn't accept upload tables. We will avoid that one below."
      ]
    },
    {
      "cell_type": "code",
      "metadata": {
        "colab": {
          "base_uri": "https://localhost:8080/"
        },
        "id": "UHFSOQxmaKgK",
        "outputId": "a29830ca-289d-405f-ce1c-012aca318f80"
      },
      "source": [
        "r = vo.regsearch(servicetype = 'tap', keywords = ['Vizier'])\n",
        "# There are two servers, the backup server doesn't allow uploads. Choose the correct one.\n",
        "k = int(np.nonzero(['obstap' not in rr['ivoid'] for rr in r])[0]) # avoid the column corresponding to the url that doesn't accept uploads\n",
        "Vizier_service = r[k].service"
      ],
      "execution_count": 3,
      "outputs": [
        {
          "output_type": "stream",
          "text": [
            "WARNING: UnknownElementWarning: None:3:1106: UnknownElementWarning: Unknown element mirrorURL [pyvo.utils.xml.elements]\n",
            "WARNING: UnknownElementWarning: None:125:4415: UnknownElementWarning: Unknown element mirrorURL [pyvo.utils.xml.elements]\n",
            "WARNING: UnknownElementWarning: None:125:4732: UnknownElementWarning: Unknown element mirrorURL [pyvo.utils.xml.elements]\n",
            "WARNING: UnknownElementWarning: None:125:5044: UnknownElementWarning: Unknown element mirrorURL [pyvo.utils.xml.elements]\n",
            "WARNING: UnknownElementWarning: None:125:5344: UnknownElementWarning: Unknown element mirrorURL [pyvo.utils.xml.elements]\n"
          ],
          "name": "stderr"
        }
      ]
    },
    {
      "cell_type": "markdown",
      "metadata": {
        "id": "TVug2pCYhL2v"
      },
      "source": [
        "### A basic query to a published table with a known identifier (obtained from the ADS entry) is easy:"
      ]
    },
    {
      "cell_type": "code",
      "metadata": {
        "id": "TEttxhmbaO_F"
      },
      "source": [
        "# Select the top 10 rows from the Abrahamyan et al. 2015 table\n",
        "# Demonstration: go to ADS and find the links to the Vizier catalogue paper by the author. Follow the CDS link to find the table identifier.\n",
        "query = \"\"\"\n",
        "  SELECT top 10 * from \"II/328/catalog\"\n",
        "\"\"\""
      ],
      "execution_count": 4,
      "outputs": []
    },
    {
      "cell_type": "markdown",
      "metadata": {
        "id": "HDpc3VUchT0J"
      },
      "source": [
        "###We can automate this further by querying for the table identifier.\n",
        "###This information is available in the Vizier service in a table named, imaginatively, `table`."
      ]
    },
    {
      "cell_type": "code",
      "metadata": {
        "colab": {
          "base_uri": "https://localhost:8080/"
        },
        "id": "6xLbHSz7gZjd",
        "outputId": "bbf400e9-41cb-4927-dc8e-094026b9db8a"
      },
      "source": [
        "# Find a catalogue using the `tables` table and its `description` column\n",
        "query = \"\"\"\n",
        "  SELECT * FROM tables \n",
        "  WHERE description LIKE '%Abrahamyan%' and description LIKE '%IRAS%PSC%FSC%'\n",
        "\"\"\"\n",
        "t = Vizier_service.search(query).to_table()\n",
        "t.pprint_all()\n",
        "print(\"*******************\")\n",
        "\n",
        "# Now query the table with that unique identifier\n",
        "query = \"\"\" SELECT top 10 * from \"\"\" + '\"' + t['table_name'][0] + '\"'\n",
        "r = Vizier_service.search(query).to_table()\n",
        "r.pprint_all()"
      ],
      "execution_count": 18,
      "outputs": [
        {
          "output_type": "stream",
          "text": [
            "schema_name   table_name   table_type                                      description                                       utype\n",
            "----------- -------------- ---------- -------------------------------------------------------------------------------------- -----\n",
            "       viz7 II/338/catalog      table The IRAS PSC/FSC Combined Catalogue ( Abrahamyan H.V., Mickaelian A.M., Knyazyan A.V.)      \n",
            "*******************\n",
            "recno  IRAS-PSC    RApsc    DEpsc   pscMaj pscMin pscPA q_psc12 psc12 q_psc25 psc25 q_psc60 psc60 q_psc100 psc100   IRAS-FSC    RAfsc    DEfsc   fscMaj fscMin fscPA q_fsc12 fsc12  q_fsc25 fsc25 q_fsc60 fsc60 q_fsc100 fsc100    RAir    e_RAir    DEir    e_DEir P/F irMaj  irMin  irPA d(ir)  k(ir) Fir12  Fir25 Fir60 Fir100 f_ir  cl   Akari-IRC     RAirc   DEirc_deg ircMaj ircMin ircPA d(irc) k(irc) q_S09  S09    e_S09  q_S18  S18    e_S18   r09    r18     Akari-FIS     RAfis  DEfis  fisErr d(fis) k(fis) q_S65  S65  e_S65 q_S90  S90  e_S90  q_S140  S140 e_S140 q_S160 S160 e_S160         WISE          RAwis    DEwis   wisMaj wisMin wisPA d(wis)  Jmag  e_Jmag   Jflx    Hmag  e_Hmag   Hflx    Kmag  e_Kmag   Kflx   W1mag  e_W1mag  W1flx   W2mag  e_W2mag  W2flx   W3mag e_W3mag  W3flx   W4mag e_W4mag  W4flx    d2M   cat  RAJ2000  DEJ2000    Glon     Glat   flag\n",
            "                    deg      deg    arcsec arcsec  deg            Jy            Jy            Jy             Jy                  deg      deg    arcsec arcsec  deg            Jy             Jy            Jy             Jy      deg      deg      deg      deg       arcsec arcsec deg  arcsec         Jy     Jy    Jy    Jy                             deg       deg    arcsec arcsec  deg  arcsec                Jy      Jy           Jy      Jy   arcsec arcsec                  deg    deg   arcsec arcsec                Jy    Jy          Jy    Jy            Jy    Jy           Jy    Jy                          deg      deg    arcsec arcsec  deg  arcsec  mag    mag      Jy     mag    mag      Jy     mag    mag      Jy     mag     mag      Jy     mag     mag      Jy     mag    mag      Jy     mag    mag      Jy    arcsec        deg      deg      deg      deg        \n",
            "----- ---------- --------- -------- ------ ------ ----- ------- ----- ------- ----- ------- ----- -------- ------ ----------- --------- -------- ------ ------ ----- ------- ------ ------- ----- ------- ----- -------- ------ --------- -------- -------- ------- --- ------ ------ ---- ------ ----- ------ ----- ----- ------ ---- --- -------------- -------- --------- ------ ------ ----- ------ ------ ----- ------ ------- ----- ------ ------- ------ ------ -------------- ------- ------ ------ ------ ------ ----- ----- ----- ----- ----- ------ ------ ----- ------ ------ ---- ------ ------------------- --------- -------- ------ ------ ----- ------ ------ ------ -------- ------ ------ -------- ------ ------ -------- ------ ------- -------- ------ ------- -------- ----- ------- -------- ----- ------- -------- ------ --- --------- -------- -------- -------- ----\n",
            "22050                   --       --     --     --    --      --    --      --    --      --    --       --     -- F02558+0026 44.603333 0.638611     28      9    75       1  0.119       1 0.193       3 0.234        1   1.08 44.603333       -- 0.638611      --   2     28      9   75     --    --  0.119 0.193 0.234   1.08    2   g                      --        --     --     --    --     --     --    --     --      --    --     --      --     --     --                     --     --     --     --     --    --    --    --    --    --     --     --    --     --     --   --     -- J025824.56+003817.8 44.602371 0.638295  0.163  0.114    65    3.6     --     --       --     --     --       --     --     --       -- 13.886    0.04 0.000852 13.701   0.054 0.000568 9.399   0.043 0.005509 6.699   0.095 0.017489     --   1 44.602371 0.638295 175.8458 -48.7409    6\n",
            "22305                   --       --     --     --    --      --    --      --    --      --    --       --     -- F02577+0046 45.069583 0.969722     20      2    76       3   0.37       1 0.074       1 0.145        1  0.629 45.069583       -- 0.969722      --   2     20      2   76     --    --   0.37 0.074 0.145  0.629    2   s 0300174+005812 45.07266   0.97019   0.21   0.21 149.5   11.2    0.4     3  0.512 0.00515     0     --      --   2.63     --                     --     --     --     --     --    --    --    --    --    --     --     --    --     --     --   --     -- J030017.45+005812.6 45.072727 0.970175  0.034  0.031    25    0.2  5.853  0.023  7.26396  5.321  0.034   7.6172   5.17  0.033   5.6994  5.136   0.071  2.69568  4.971   0.031  1.76432 5.158   0.015 0.273844 5.064    0.03 0.078843  0.731   1 45.072727 0.970175 175.9891 -48.1731    6\n",
            "22602                   --       --     --     --    --      --    --      --    --      --    --       --     -- F02598+0047 45.604583 0.982222     20      6    77       1 0.0746       1 0.168       3 0.387        1   1.23 45.604583       -- 0.982222      --   2     20      6   77     --    -- 0.0746 0.168 0.387   1.23    2   g                      --        --     --     --    --     --     --    --     --      --    --     --      --     --     -- 0302231+005851 45.5964 0.9809      5   29.8   1.02     1    --    --     3 0.538  0.258      1 0.878   4.21      1 2.24     -- J030223.55+005845.6 45.598136 0.979347  0.076  0.074   124   25.4 14.686  0.069 0.002127 13.922  0.072 0.002762 13.452  0.066 0.002772 12.507   0.026 0.003036 12.327   0.027 0.002015 8.258   0.021 0.015758 5.606   0.036 0.047859  0.264   1 45.598136 0.979347 176.5288 -47.7917    6\n",
            "22803 03012+0049  45.96625 1.019722     30      6    75       3   1.2       1 0.389       0    --        0     -- F03012+0049 45.964583 1.019722     12      1    77       3   1.14       3 0.321       1 0.175        1  0.962 45.964813 0.000227 1.019722     0.0   3     11      1   77    6.0  0.19   1.14 0.321 0.175  0.962    2   s 0303515+010110 45.96465   1.01948   0.15    0.1 176.0    1.0   0.07     3  1.505 0.00596     3  0.373 0.00871   3.29   2.77                     --     --     --     --     --    --    --    --    --    --     --     --    --     --     --   --     -- J030351.53+010110.8 45.964712 1.019683  0.067  0.059   132    0.8  5.267  0.029  12.4619  4.381  0.276  18.1056  4.082  0.036  15.5257  3.984   0.094  7.78876  3.676    0.06  5.81537  3.93   0.013   0.8486 3.761   0.019 0.261795  0.425   2 45.964712 1.019683 176.8645 -47.5004    6\n",
            "22709 03005+0110   45.7925 1.367222     41     10    75       3 0.435       0    --       0    --        2   1.39 F03005+0110 45.789167 1.366667     16      2    77       3   0.43       1 0.198       1  0.26        1   2.38 45.789607 0.000435  1.36674 7.3e-05   3     15      2   77   12.0  0.28   0.43 0.198  0.26   2.38    2   s 0303106+012205 45.79421   1.36816   0.16   0.11  73.9   17.3   0.82     3 0.5944  0.0105     0     --      --   3.04     --                     --     --     --     --     --    --    --    --    --    --     --     --    --     --     --   --     -- J030310.63+012205.4 45.794294 1.368168  0.069  0.066   174    0.3  5.786   0.02  7.72636  5.235  0.046  8.24512    5.0  0.026  6.66549  4.882   0.071  3.40618   4.73   0.029  2.20281 4.992   0.016 0.319082 4.926   0.029 0.089529  0.449   2 45.794294 1.368168 176.3195 -47.3797    6\n",
            "21614 02529+0109 43.870833 1.356389     51      9    77       3 0.572       0    --       0    --        1   1.09 F02528+0109   43.8675 1.355833     15      2    75       3  0.562       1 0.151       1 0.191        1  0.786 43.867765 0.000264 1.355878 4.4e-05   3     14      2   75   12.0  0.23  0.562 0.151 0.191  0.786    2   u 0255281+012120 43.86709   1.35567   0.16   0.05 122.4    2.5   0.13     3 0.7605  0.0429     3 0.2359   0.051   3.16   2.47                     --     --     --     --     --    --    --    --    --    --     --     --    --     --     --   --     -- J025528.10+012120.3 43.867116  1.35565  0.065  0.063    43    0.1  5.799   0.03  7.63439  5.057  0.042  9.71406  4.785  0.018  8.12525  4.707   0.078  4.00192  4.456   0.035  2.83516 4.707   0.013 0.414861 4.606   0.025 0.120216  0.166   1 43.867116  1.35565 174.2882 -48.7471    6\n",
            "21802                   --       --     --     --    --      --    --      --    --      --    --       --     -- F02541+0120  44.17625 1.544167     22      6    76       1  0.095       1 0.154       3 0.368        1   1.69  44.17625       -- 1.544167      --   2     22      6   76     --    --  0.095 0.154 0.368   1.69    2   g                      --        --     --     --    --     --     --    --     --      --    --     --      --     --     -- 0256411+013232 44.1714 1.5423      5   18.7   0.59     1 0.333    --     3 0.553 0.0439      1 0.731     --      1   --     -- J025642.27+013251.5 44.176153 1.547648  0.682  0.618   117   12.5     --     --       --     --     --       --     --     --       -- 16.927   0.112  5.2e-05 16.711   0.332  3.6e-05  12.9      -- 0.000219 9.005   0.373 0.002091     --   1 44.176153 1.547648 174.4215 -48.3942    6\n",
            "22194                   --       --     --     --    --      --    --      --    --      --    --       --     -- F02568+0127  44.85625 1.651667     26      3    76       3  0.405       1 0.155       1 0.164        1   1.38  44.85625       -- 1.651667      --   2     26      3   76     --    --  0.405 0.155 0.164   1.38    2   s 0259258+013904 44.85768   1.65118    0.2   0.14 111.0    5.4   0.15     3 0.5558   0.014     0     --      --   2.88     --                     --     --     --     --     --    --    --    --    --    --     --     --    --     --     --   --     -- J025925.85+013904.4 44.857722 1.651227  0.067  0.062    26    0.2  5.778  0.024   7.7835  5.273  0.044  7.96153  5.079  0.026   6.1977  5.032   0.069  2.96666  4.866   0.033  1.94347 5.047   0.014 0.303321 4.996   0.027 0.083939  0.123   1 44.857722 1.651227 175.0421 -47.8435    6\n",
            "22476                   --       --     --     --    --      --    --      --    --      --    --       --     -- F02589+0134 45.382917   1.7675     19      3    77       3  0.229       1 0.109       1 0.129        1   1.07 45.382917       --   1.7675      --   2     19      3   77     --    --  0.229 0.109 0.129   1.07    2   s 0301333+014607 45.38907   1.76862    0.2   0.08   5.0   22.5   0.84     3 0.3156  0.0141     0     --      --   2.73     --                     --     --     --     --     --    --    --    --    --    --     --     --    --     --     --   --     -- J030133.40+014607.2 45.389194 1.768672  0.066  0.061    43    0.5  6.681  0.018  3.38811  5.996  0.036  4.09056  5.799  0.018  3.19313  5.676   0.059  1.63934  5.755   0.025 0.856994 5.753   0.015 0.158308 5.684   0.037 0.044541  0.256   2 45.389194 1.768672 175.4784 -47.3858    6\n",
            "22156                   --       --     --     --    --      --    --      --    --      --    --       --     -- F02565+0125 44.784167 1.630278     27      8    76       1   0.11       1 0.231       3 0.295        2   1.04 44.784167       -- 1.630278      --   2     27      8   76     --    --   0.11 0.231 0.295   1.04    2   g                      --        --     --     --    --     --     --    --     --      --    --     --      --     --     --                     --     --     --     --     --    --    --    --    --    --     --     --    --     --     --   --     -- J025907.95+013744.6 44.783144 1.629073   0.07   0.07    54    5.7 14.783  0.078 0.001945 14.053  0.071 0.002448 13.612  0.075 0.002393 12.513   0.023 0.003019 12.276   0.024 0.002111 8.093   0.019 0.018344 6.286   0.047 0.025584  0.381   1 44.783144 1.629073 174.9862 -47.9116    6\n"
          ],
          "name": "stdout"
        }
      ]
    },
    {
      "cell_type": "markdown",
      "metadata": {
        "id": "7tQDh0WCjPRl"
      },
      "source": [
        "##Put it all together"
      ]
    },
    {
      "cell_type": "markdown",
      "metadata": {
        "id": "1whYUETXjRuc"
      },
      "source": [
        "### Find a catalogue using the `tables` table and its `description` column"
      ]
    },
    {
      "cell_type": "code",
      "metadata": {
        "id": "7nOoz-dYT6e5"
      },
      "source": [
        "\n",
        "query = \"\"\"\n",
        "  SELECT * FROM tables \n",
        "  WHERE description LIKE '%Abrahamyan%' and description LIKE '%IRAS%PSC%FSC%'\n",
        "\"\"\"\n",
        "table_id = Vizier_service.search(query).to_table()"
      ],
      "execution_count": 53,
      "outputs": []
    },
    {
      "cell_type": "markdown",
      "metadata": {
        "id": "Lati7WAbjauA"
      },
      "source": [
        "### Only select those rows in the above table that have valid IRAS PSC identifiers, and only those rows with valid fluxes in all four IRAS bands.\n",
        "### We will retrieve only the coordinates and the IRAS PSC fluxes.\n",
        "### Notice the usage of `!= ''` for the string field and `not NULL` for the float field\n"
      ]
    },
    {
      "cell_type": "code",
      "metadata": {
        "id": "B41WeqCgcbsb"
      },
      "source": [
        "query = \"\"\" SELECT top 1000 \"IRAS-PSC\", RApsc, DEpsc, psc12, psc25, psc60, psc100 \n",
        "            FROM \"\"\" + '\"' + table_id['table_name'][0] + '\"' + \"\"\" \n",
        "            WHERE (\"IRAS-PSC\" != '') and (psc12 is not NULL) and (psc25 is not NULL) and (psc60 is not NULL) and (psc100 is not NULL) \"\"\"\n",
        "results = Vizier_service.search(query).to_table()\n",
        "results.pprint()"
      ],
      "execution_count": 36,
      "outputs": []
    },
    {
      "cell_type": "markdown",
      "metadata": {
        "id": "ixMYeqr0jlIO"
      },
      "source": [
        "### We need to convert these fluxes to magnitudes using the flux zeropoints (zero-magnitude fluxes) in the Vega system.\n",
        "### These can be obtained from the Spanish Virtual Observatory website.\n"
      ]
    },
    {
      "cell_type": "code",
      "metadata": {
        "id": "4qV_UrIljlrL"
      },
      "source": [
        "import subprocess\n",
        "from astropy.io.votable import parse\n",
        "\n",
        "filternames = ['IRAS/IRAS.12mu', 'IRAS/IRAS.25mu', 'IRAS/IRAS.60mu', 'IRAS/IRAS.100mu']\n",
        "url = 'http://svo2.cab.inta-csic.es//theory/fps3/fps.php?ID='\n",
        "fZP = [] # Vega zeropoint fluxes for the IRAS filters\n",
        "for filtername in filternames:\n",
        "  # Download the filter table from the SVO database\n",
        "  _ = subprocess.call(['curl', '-o', 'temp.vot', url + filtername])\n",
        "  # Parse the resulting VOTable and access the ZeroPoint PARAM in the header\n",
        "  v = parse('temp.vot')\n",
        "  fZP.append(v.get_field_by_id('ZeroPoint').value)\n",
        "_ = subprocess.call(['rm', 'temp.vot'])\n",
        "\n",
        "# Use these flux zeropoints to convert the IRAS PSC fluxes into magnitudes\n",
        "fluxcols = ['psc12', 'psc25', 'psc60', 'psc100']\n",
        "magcols = ['mag12', 'mag25', 'mag60', 'mag100']\n",
        "for i in range(4):\n",
        "  r[magcols[i]] = -2.512 * np.log10(r[fluxcols[i]] / np.repeat(fZP[i], len(r)))\n",
        "\n",
        "# An IRAS colour-magnitude diagram from these magnitudes\n",
        "import matplotlib.pyplot as plt\n",
        "plt.figure(figsize = (10, 10))\n",
        "plt.plot(r['mag12'] - r['mag25'], r['mag60'] - r['mag100'], 'ro')\n",
        "plt.xlabel('[12] - [25] (mag)', fontdict = {'size': 16, 'weight': 'bold'})\n",
        "plt.ylabel('[25] - [60] (mag)', fontdict = {'size': 16, 'weight': 'bold'})\n",
        "plt.xticks(fontsize = 14)\n",
        "plt.yticks(fontsize = 14)\n",
        "plt.show()"
      ],
      "execution_count": null,
      "outputs": []
    }
  ]
}